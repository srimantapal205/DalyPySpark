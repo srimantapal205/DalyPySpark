{
 "cells": [
  {
   "cell_type": "code",
   "execution_count": 2,
   "id": "8408024a",
   "metadata": {},
   "outputs": [],
   "source": [
    "from pyspark.sql import SparkSession\n",
    "from pyspark.sql.functions import *\n",
    "from pyspark.sql.window import Window\n",
    "from pyspark.sql.types import *\n",
    "\n",
    "spark = SparkSession.builder.appName(\"HardPySparkQuestions\").getOrCreate()"
   ]
  },
  {
   "cell_type": "markdown",
   "id": "64d33164",
   "metadata": {},
   "source": [
    "## Hard Level PySpark Coding Questions with Solutions"
   ]
  },
  {
   "cell_type": "markdown",
   "id": "20628092",
   "metadata": {},
   "source": [
    "`Question 1: Complex Window Functions with Multiple Partitions\n",
    "Problem: Given a sales dataset, find the running total of sales for each product category\n",
    "sale within its category, and the percentage contribution of each sale to the total category`"
   ]
  },
  {
   "cell_type": "code",
   "execution_count": 3,
   "id": "c0b2f4d0",
   "metadata": {},
   "outputs": [
    {
     "name": "stdout",
     "output_type": "stream",
     "text": [
      "+----------+-----------+----------+------+\n",
      "|      date|   category|   product|amount|\n",
      "+----------+-----------+----------+------+\n",
      "|2023-01-01|Electronics|    Laptop|  1200|\n",
      "|2023-01-02|Electronics|     Phone|   800|\n",
      "|2023-01-03|   Clothing|     Shirt|    50|\n",
      "|2023-01-04|Electronics|    Tablet|   600|\n",
      "|2023-01-05|   Clothing|     Pants|    80|\n",
      "|2023-01-06|Electronics|Headphones|   200|\n",
      "|2023-01-07|   Clothing|    Jacket|   120|\n",
      "|2023-01-08|Electronics|     Mouse|    25|\n",
      "+----------+-----------+----------+------+\n",
      "\n"
     ]
    }
   ],
   "source": [
    "# Sample sales \n",
    "datasales_data = [ \n",
    "    (\"2023-01-01\", \"Electronics\", \"Laptop\", 1200),\n",
    "    (\"2023-01-02\", \"Electronics\", \"Phone\", 800),\n",
    "    (\"2023-01-03\", \"Clothing\", \"Shirt\", 50),\n",
    "    (\"2023-01-04\", \"Electronics\", \"Tablet\", 600),\n",
    "    (\"2023-01-05\", \"Clothing\", \"Pants\", 80),\n",
    "    (\"2023-01-06\", \"Electronics\", \"Headphones\", 200),\n",
    "    (\"2023-01-07\", \"Clothing\", \"Jacket\", 120),\n",
    "    (\"2023-01-08\", \"Electronics\", \"Mouse\", 25)\n",
    "]\n",
    "schema = StructType([\n",
    "    StructField('date', StringType(), True),\n",
    "    StructField('category', StringType(), True),\n",
    "    StructField('product', StringType(), True),\n",
    "    StructField('amount', IntegerType(), True)\n",
    "])\n",
    "\n",
    "df = spark.createDataFrame(datasales_data, schema)\n",
    "df.show()"
   ]
  },
  {
   "cell_type": "code",
   "execution_count": 4,
   "id": "0c3e8ca6",
   "metadata": {},
   "outputs": [
    {
     "name": "stdout",
     "output_type": "stream",
     "text": [
      "+----------+-----------+----------+------+-------------+----------------+--------------+-----------------------+\n",
      "|      date|   category|   product|amount|running_total|rank_in_category|category_total|percentage_contribution|\n",
      "+----------+-----------+----------+------+-------------+----------------+--------------+-----------------------+\n",
      "|2023-01-03|   Clothing|     Shirt|    50|           50|               1|           250|                   20.0|\n",
      "|2023-01-05|   Clothing|     Pants|    80|          130|               2|           250|                   32.0|\n",
      "|2023-01-07|   Clothing|    Jacket|   120|          250|               3|           250|                   48.0|\n",
      "|2023-01-08|Electronics|     Mouse|    25|           25|               1|          2825|                   0.88|\n",
      "|2023-01-06|Electronics|Headphones|   200|          225|               2|          2825|                   7.08|\n",
      "|2023-01-04|Electronics|    Tablet|   600|          825|               3|          2825|                  21.24|\n",
      "|2023-01-02|Electronics|     Phone|   800|         1625|               4|          2825|                  28.32|\n",
      "|2023-01-01|Electronics|    Laptop|  1200|         2825|               5|          2825|                  42.48|\n",
      "+----------+-----------+----------+------+-------------+----------------+--------------+-----------------------+\n",
      "\n"
     ]
    }
   ],
   "source": [
    "# Define winddow specifications\n",
    "window_space_category_orderd = Window.partitionBy(\"category\").orderBy(\"amount\")\n",
    "window_category_unorderd = Window.partitionBy(\"category\")\n",
    "\n",
    "# make the results\n",
    "result = df.withColumn('running_total', sum('amount').over(window_space_category_orderd)) \\\n",
    "    .withColumn('rank_in_category', rank().over(window_space_category_orderd))\\\n",
    "    .withColumn('category_total', sum('amount').over(window_category_unorderd))\\\n",
    "    .withColumn('percentage_contribution', round((col('amount') / col(\"category_total\"))*100,2)).orderBy('category', 'amount')\n",
    "\n",
    "result.show()\n"
   ]
  },
  {
   "cell_type": "markdown",
   "id": "b27daaac",
   "metadata": {},
   "source": [
    "`Question 2: Complex JOIN with Data Deduplication and Aggregation\n",
    "Problem: You have customer and order datasets with duplicate records. Clean the data,\n",
    "find customers who have made orders in consecutive months with their total spending`"
   ]
  },
  {
   "cell_type": "code",
   "execution_count": 5,
   "id": "0bd70655",
   "metadata": {},
   "outputs": [
    {
     "name": "stdout",
     "output_type": "stream",
     "text": [
      "+-----------+-----------+-----------------+-----------------+\n",
      "|customer_id|       name|            email|registration_date|\n",
      "+-----------+-----------+-----------------+-----------------+\n",
      "|          1|   John Doe|   john@email.com|       2023-01-01|\n",
      "|          1|   John Doe|   john@email.com|       2023-01-01|\n",
      "|          2| Jane Smith|   jane@email.com|       2023-02-15|\n",
      "|          3|Bob Johnson|    bob@email.com|       2023-01-10|\n",
      "|          3|Bob Johnson|bob_new@email.com|       2023-01-10|\n",
      "+-----------+-----------+-----------------+-----------------+\n",
      "\n"
     ]
    }
   ],
   "source": [
    "# Customer data with duplicates\n",
    "customers_data = [\n",
    "    (1, \"John Doe\", \"john@email.com\", \"2023-01-01\"),\n",
    "    (1, \"John Doe\", \"john@email.com\", \"2023-01-01\"), # duplicate\n",
    "    (2, \"Jane Smith\", \"jane@email.com\", \"2023-02-15\"),\n",
    "    (3, \"Bob Johnson\", \"bob@email.com\", \"2023-01-10\"),\n",
    "    (3, \"Bob Johnson\", \"bob_new@email.com\", \"2023-01-10\"), # different emailHarshavardhana\n",
    "]\n",
    "\n",
    "customers_schema = StructType([\n",
    "    StructField('customer_id', IntegerType(), True),\n",
    "    StructField('name', StringType(), True),\n",
    "    StructField('email', StringType(), True),\n",
    "    StructField('registration_date', StringType(), True)\n",
    "])\n",
    "\n",
    "cst_df = spark.createDataFrame(customers_data, customers_schema)\n",
    "cst_df.show()"
   ]
  },
  {
   "cell_type": "code",
   "execution_count": 6,
   "id": "1a66a015",
   "metadata": {},
   "outputs": [
    {
     "name": "stdout",
     "output_type": "stream",
     "text": [
      "+--------+-----------+----------+------+\n",
      "|order_id|customer_id|order_date|amount|\n",
      "+--------+-----------+----------+------+\n",
      "|     101|          1|2023-01-15| 250.0|\n",
      "|     102|          1|2023-02-10| 180.0|\n",
      "|     103|          2|2023-02-20| 320.0|\n",
      "|     104|          2|2023-03-05| 150.0|\n",
      "|     105|          3|2023-01-25| 400.0|\n",
      "|     106|          1|2023-03-12| 275.0|\n",
      "|     107|          2|2023-04-08| 190.0|\n",
      "+--------+-----------+----------+------+\n",
      "\n"
     ]
    }
   ],
   "source": [
    "# Orders \n",
    "dataorders_data = [ \n",
    "    (101, 1, \"2023-01-15\",250.00), \n",
    "    (102, 1, \"2023-02-10\", 180.00), \n",
    "    (103, 2, \"2023-02-20\", 320.00),\n",
    "    (104, 2, \"2023-03-05\",150.00),\n",
    "    (105, 3, \"2023-01-25\",400.00),\n",
    "    (106, 1, \"2023-03-12\",275.00),\n",
    "    (107, 2, \"2023-04-08\",190.00)]\n",
    "orders_schema = StructType([\n",
    "    StructField(\"order_id\", IntegerType(), True),\n",
    "    StructField(\"customer_id\", IntegerType(), True),\n",
    "    StructField(\"order_date\", StringType(), True),\n",
    "    StructField(\"amount\", DoubleType(), True)])\n",
    "\n",
    "order_df = spark.createDataFrame(dataorders_data, orders_schema)\n",
    "order_df.show()\n"
   ]
  },
  {
   "cell_type": "markdown",
   "id": "2a0d0f9f",
   "metadata": {},
   "source": [
    "### Step-1 : Clean Customer data  - remove exact duplicates and handle email conflicts"
   ]
  },
  {
   "cell_type": "code",
   "execution_count": 7,
   "id": "1e07ae6b",
   "metadata": {},
   "outputs": [
    {
     "name": "stdout",
     "output_type": "stream",
     "text": [
      "+-----------+-----------+-----------------+-----------------+----------+\n",
      "|customer_id|       name|            email|registration_date|row_number|\n",
      "+-----------+-----------+-----------------+-----------------+----------+\n",
      "|          1|   John Doe|   john@email.com|       2023-01-01|         1|\n",
      "|          1|   John Doe|   john@email.com|       2023-01-01|         2|\n",
      "|          2| Jane Smith|   jane@email.com|       2023-02-15|         1|\n",
      "|          3|Bob Johnson|    bob@email.com|       2023-01-10|         1|\n",
      "|          3|Bob Johnson|bob_new@email.com|       2023-01-10|         2|\n",
      "+-----------+-----------+-----------------+-----------------+----------+\n",
      "\n",
      "+-----------+-----------+--------------+-----------------+\n",
      "|customer_id|       name|         email|registration_date|\n",
      "+-----------+-----------+--------------+-----------------+\n",
      "|          1|   John Doe|john@email.com|       2023-01-01|\n",
      "|          2| Jane Smith|jane@email.com|       2023-02-15|\n",
      "|          3|Bob Johnson| bob@email.com|       2023-01-10|\n",
      "+-----------+-----------+--------------+-----------------+\n",
      "\n"
     ]
    }
   ],
   "source": [
    "cst_window = Window.partitionBy(\"customer_id\",\"name\",\"registration_date\").orderBy('email')\n",
    "\n",
    "cleaned_customers_df = cst_df.withColumn(\"row_number\", row_number().over(cst_window))\n",
    "cleaned_customers_df.show()\n",
    "cleaned_customers_df =cleaned_customers_df.filter(col('row_number')==1).drop('row_number') \n",
    "cleaned_customers_df.show()\n",
    "\n",
    "\n",
    "\n",
    "\n",
    "\n"
   ]
  },
  {
   "cell_type": "markdown",
   "id": "eb2890c8",
   "metadata": {},
   "source": [
    "### Step 2: Add month-year to orders"
   ]
  },
  {
   "cell_type": "code",
   "execution_count": 8,
   "id": "8f2a8fc9",
   "metadata": {},
   "outputs": [
    {
     "name": "stdout",
     "output_type": "stream",
     "text": [
      "+--------+-----------+----------+------+-----------+\n",
      "|order_id|customer_id|order_date|amount|order_month|\n",
      "+--------+-----------+----------+------+-----------+\n",
      "|     101|          1|2023-01-15| 250.0|    2023-01|\n",
      "|     102|          1|2023-02-10| 180.0|    2023-02|\n",
      "|     103|          2|2023-02-20| 320.0|    2023-02|\n",
      "|     104|          2|2023-03-05| 150.0|    2023-03|\n",
      "|     105|          3|2023-01-25| 400.0|    2023-01|\n",
      "|     106|          1|2023-03-12| 275.0|    2023-03|\n",
      "|     107|          2|2023-04-08| 190.0|    2023-04|\n",
      "+--------+-----------+----------+------+-----------+\n",
      "\n"
     ]
    }
   ],
   "source": [
    "order_with_month = order_df.withColumn('order_month', date_format(to_date(col(\"order_date\")),\"yyyy-MM\"))\n",
    "order_with_month.show()"
   ]
  },
  {
   "cell_type": "markdown",
   "id": "f00dc862",
   "metadata": {},
   "source": [
    "### Step 3: Join and aggregate by customer and month"
   ]
  },
  {
   "cell_type": "code",
   "execution_count": 9,
   "id": "56f77d95",
   "metadata": {},
   "outputs": [
    {
     "name": "stdout",
     "output_type": "stream",
     "text": [
      "+-----------+-----------+-----------+-------------+-----------+\n",
      "|customer_id|       name|order_month|monthly_total|order_count|\n",
      "+-----------+-----------+-----------+-------------+-----------+\n",
      "|          3|Bob Johnson|    2023-01|        400.0|          1|\n",
      "|          1|   John Doe|    2023-01|        250.0|          1|\n",
      "|          2| Jane Smith|    2023-02|        320.0|          1|\n",
      "|          1|   John Doe|    2023-02|        180.0|          1|\n",
      "|          2| Jane Smith|    2023-04|        190.0|          1|\n",
      "|          1|   John Doe|    2023-03|        275.0|          1|\n",
      "|          2| Jane Smith|    2023-03|        150.0|          1|\n",
      "+-----------+-----------+-----------+-------------+-----------+\n",
      "\n"
     ]
    }
   ],
   "source": [
    "customer_monthly_order= cleaned_customers_df.join(order_with_month,\"customer_id\",'inner').groupBy('customer_id', 'name', 'order_month')\\\n",
    "    .agg(sum(\"amount\").alias('monthly_total'), count('order_id').alias('order_count'))\n",
    "\n",
    "customer_monthly_order.show()"
   ]
  },
  {
   "cell_type": "code",
   "execution_count": 11,
   "id": "d826aa16",
   "metadata": {},
   "outputs": [
    {
     "name": "stdout",
     "output_type": "stream",
     "text": [
      "+-----------+----------+-----------+-------------+-----------+----------+----------+\n",
      "|customer_id|      name|order_month|monthly_total|order_count|prev_month|month_diff|\n",
      "+-----------+----------+-----------+-------------+-----------+----------+----------+\n",
      "|          1|  John Doe|    2023-02|        180.0|          1|   2023-01|       1.0|\n",
      "|          1|  John Doe|    2023-03|        275.0|          1|   2023-02|       1.0|\n",
      "|          2|Jane Smith|    2023-03|        150.0|          1|   2023-02|       1.0|\n",
      "|          2|Jane Smith|    2023-04|        190.0|          1|   2023-03|       1.0|\n",
      "+-----------+----------+-----------+-------------+-----------+----------+----------+\n",
      "\n"
     ]
    }
   ],
   "source": [
    "customer_order_window = Window.partitionBy(\"customer_id\").orderBy(\"order_month\")\n",
    "consecutive_month = customer_monthly_order.withColumn('prev_month', lag('order_month').over(customer_order_window)).withColumn(\"month_diff\", months_between(to_date(col(\"order_month\")), to_date(col(\"prev_month\"))))\\\n",
    "    .filter(col('month_diff')==1)\n",
    "\n",
    "consecutive_month.show()\n"
   ]
  },
  {
   "cell_type": "code",
   "execution_count": 12,
   "id": "16310de0",
   "metadata": {},
   "outputs": [
    {
     "name": "stdout",
     "output_type": "stream",
     "text": [
      "+-----------+----------+------------+------------------+-----------+-----------+----------+\n",
      "|customer_id|      name|second_month|secont_month_total|order_count|first_month|month_diff|\n",
      "+-----------+----------+------------+------------------+-----------+-----------+----------+\n",
      "|          1|  John Doe|     2023-02|             180.0|          1|    2023-01|       1.0|\n",
      "|          1|  John Doe|     2023-03|             275.0|          1|    2023-02|       1.0|\n",
      "|          2|Jane Smith|     2023-03|             150.0|          1|    2023-02|       1.0|\n",
      "|          2|Jane Smith|     2023-04|             190.0|          1|    2023-03|       1.0|\n",
      "+-----------+----------+------------+------------------+-----------+-----------+----------+\n",
      "\n"
     ]
    }
   ],
   "source": [
    "# Step 5: Final result with spending pattern\n",
    "result_df = consecutive_month.select(\"customer_id\",\"name\",\"order_month\",\"monthly_total\",\"order_count\",\"prev_month\",\"month_diff\")\\\n",
    "    .withColumnRenamed('prev_month', 'first_month')\\\n",
    "    .withColumnRenamed('order_month', 'second_month')\\\n",
    "    .withColumnRenamed('monthly_total', 'secont_month_total')\\\n",
    "    .orderBy('customer_id', 'second_month')\n",
    "\n",
    "result_df.show()"
   ]
  },
  {
   "cell_type": "code",
   "execution_count": null,
   "id": "cd6f67f7",
   "metadata": {},
   "outputs": [],
   "source": []
  }
 ],
 "metadata": {
  "kernelspec": {
   "display_name": "Python 3",
   "language": "python",
   "name": "python3"
  },
  "language_info": {
   "codemirror_mode": {
    "name": "ipython",
    "version": 3
   },
   "file_extension": ".py",
   "mimetype": "text/x-python",
   "name": "python",
   "nbconvert_exporter": "python",
   "pygments_lexer": "ipython3",
   "version": "3.12.10"
  }
 },
 "nbformat": 4,
 "nbformat_minor": 5
}
