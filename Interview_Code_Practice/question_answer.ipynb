{
 "cells": [
  {
   "cell_type": "code",
   "execution_count": 1,
   "id": "8408024a",
   "metadata": {},
   "outputs": [
    {
     "ename": "Py4JJavaError",
     "evalue": "An error occurred while calling None.org.apache.spark.api.java.JavaSparkContext.\n: java.net.BindException: Failed to bind to address 0.0.0.0/0.0.0.0:15002: Service 'org.apache.spark.sql.connect.service.SparkConnectService$' failed after 0 retries (starting from 15002)! Consider explicitly setting the appropriate port for the service 'org.apache.spark.sql.connect.service.SparkConnectService$' (for example spark.ui.port for SparkUI) to an available port or increasing spark.port.maxRetries.\r\n\tat org.sparkproject.connect.grpc.netty.NettyServer.start(NettyServer.java:333)\r\n\tat org.sparkproject.connect.grpc.internal.ServerImpl.start(ServerImpl.java:185)\r\n\tat org.sparkproject.connect.grpc.internal.ServerImpl.start(ServerImpl.java:94)\r\n\tat org.apache.spark.sql.connect.service.SparkConnectService$.$anonfun$startGRPCService$1(SparkConnectService.scala:396)\r\n\tat org.apache.spark.sql.connect.service.SparkConnectService$.$anonfun$startGRPCService$1$adapted(SparkConnectService.scala:374)\r\n\tat org.apache.spark.util.Utils$.$anonfun$startServiceOnPort$2(Utils.scala:2262)\r\n\tat scala.collection.immutable.Range.foreach$mVc$sp(Range.scala:192)\r\n\tat org.apache.spark.util.Utils$.startServiceOnPort(Utils.scala:2254)\r\n\tat org.apache.spark.sql.connect.service.SparkConnectService$.startGRPCService(SparkConnectService.scala:412)\r\n\tat org.apache.spark.sql.connect.service.SparkConnectService$.start(SparkConnectService.scala:422)\r\n\tat org.apache.spark.sql.connect.SparkConnectPlugin$$anon$1.init(SparkConnectPlugin.scala:48)\r\n\tat org.apache.spark.internal.plugin.DriverPluginContainer.$anonfun$driverPlugins$1(PluginContainer.scala:53)\r\n\tat scala.collection.StrictOptimizedIterableOps.flatMap(StrictOptimizedIterableOps.scala:118)\r\n\tat scala.collection.StrictOptimizedIterableOps.flatMap$(StrictOptimizedIterableOps.scala:105)\r\n\tat scala.collection.immutable.ArraySeq.flatMap(ArraySeq.scala:35)\r\n\tat org.apache.spark.internal.plugin.DriverPluginContainer.<init>(PluginContainer.scala:46)\r\n\tat org.apache.spark.internal.plugin.PluginContainer$.apply(PluginContainer.scala:213)\r\n\tat org.apache.spark.internal.plugin.PluginContainer$.apply(PluginContainer.scala:196)\r\n\tat org.apache.spark.SparkContext.<init>(SparkContext.scala:588)\r\n\tat org.apache.spark.api.java.JavaSparkContext.<init>(JavaSparkContext.scala:59)\r\n\tat java.base/jdk.internal.reflect.NativeConstructorAccessorImpl.newInstance0(Native Method)\r\n\tat java.base/jdk.internal.reflect.NativeConstructorAccessorImpl.newInstance(NativeConstructorAccessorImpl.java:75)\r\n\tat java.base/jdk.internal.reflect.DelegatingConstructorAccessorImpl.newInstance(DelegatingConstructorAccessorImpl.java:53)\r\n\tat java.base/java.lang.reflect.Constructor.newInstanceWithCaller(Constructor.java:502)\r\n\tat java.base/java.lang.reflect.Constructor.newInstance(Constructor.java:486)\r\n\tat py4j.reflection.MethodInvoker.invoke(MethodInvoker.java:247)\r\n\tat py4j.reflection.ReflectionEngine.invoke(ReflectionEngine.java:374)\r\n\tat py4j.Gateway.invoke(Gateway.java:238)\r\n\tat py4j.commands.ConstructorCommand.invokeConstructor(ConstructorCommand.java:80)\r\n\tat py4j.commands.ConstructorCommand.execute(ConstructorCommand.java:69)\r\n\tat py4j.ClientServerConnection.waitForCommands(ClientServerConnection.java:184)\r\n\tat py4j.ClientServerConnection.run(ClientServerConnection.java:108)\r\n\tat java.base/java.lang.Thread.run(Thread.java:1583)\r\n",
     "output_type": "error",
     "traceback": [
      "\u001b[1;31m---------------------------------------------------------------------------\u001b[0m",
      "\u001b[1;31mPy4JJavaError\u001b[0m                             Traceback (most recent call last)",
      "Cell \u001b[1;32mIn[1], line 6\u001b[0m\n\u001b[0;32m      4\u001b[0m \u001b[38;5;28;01mfrom\u001b[39;00m\u001b[38;5;250m \u001b[39m\u001b[38;5;21;01mpyspark\u001b[39;00m\u001b[38;5;21;01m.\u001b[39;00m\u001b[38;5;21;01msql\u001b[39;00m\u001b[38;5;21;01m.\u001b[39;00m\u001b[38;5;21;01mtypes\u001b[39;00m\u001b[38;5;250m \u001b[39m\u001b[38;5;28;01mimport\u001b[39;00m \u001b[38;5;241m*\u001b[39m\n\u001b[0;32m      5\u001b[0m \u001b[38;5;28;01mimport\u001b[39;00m\u001b[38;5;250m \u001b[39m\u001b[38;5;21;01mrandom\u001b[39;00m\n\u001b[1;32m----> 6\u001b[0m spark \u001b[38;5;241m=\u001b[39m \u001b[43mSparkSession\u001b[49m\u001b[38;5;241;43m.\u001b[39;49m\u001b[43mbuilder\u001b[49m\u001b[38;5;241;43m.\u001b[39;49m\u001b[43mappName\u001b[49m\u001b[43m(\u001b[49m\u001b[38;5;124;43m\"\u001b[39;49m\u001b[38;5;124;43mHardPySparkQuestions\u001b[39;49m\u001b[38;5;124;43m\"\u001b[39;49m\u001b[43m)\u001b[49m\u001b[38;5;241;43m.\u001b[39;49m\u001b[43mgetOrCreate\u001b[49m\u001b[43m(\u001b[49m\u001b[43m)\u001b[49m\n",
      "File \u001b[1;32m~\\AppData\\Local\\Packages\\PythonSoftwareFoundation.Python.3.12_qbz5n2kfra8p0\\LocalCache\\local-packages\\Python312\\site-packages\\pyspark\\sql\\session.py:527\u001b[0m, in \u001b[0;36mSparkSession.Builder.getOrCreate\u001b[1;34m(self)\u001b[0m\n\u001b[0;32m    523\u001b[0m \u001b[38;5;28;01mif\u001b[39;00m url\u001b[38;5;241m.\u001b[39mstartswith(\u001b[38;5;124m\"\u001b[39m\u001b[38;5;124mlocal\u001b[39m\u001b[38;5;124m\"\u001b[39m) \u001b[38;5;129;01mor\u001b[39;00m (\n\u001b[0;32m    524\u001b[0m     is_api_mode_connect \u001b[38;5;129;01mand\u001b[39;00m \u001b[38;5;129;01mnot\u001b[39;00m url\u001b[38;5;241m.\u001b[39mstartswith(\u001b[38;5;124m\"\u001b[39m\u001b[38;5;124msc://\u001b[39m\u001b[38;5;124m\"\u001b[39m)\n\u001b[0;32m    525\u001b[0m ):\n\u001b[0;32m    526\u001b[0m     os\u001b[38;5;241m.\u001b[39menviron[\u001b[38;5;124m\"\u001b[39m\u001b[38;5;124mSPARK_LOCAL_REMOTE\u001b[39m\u001b[38;5;124m\"\u001b[39m] \u001b[38;5;241m=\u001b[39m \u001b[38;5;124m\"\u001b[39m\u001b[38;5;124m1\u001b[39m\u001b[38;5;124m\"\u001b[39m\n\u001b[1;32m--> 527\u001b[0m     \u001b[43mRemoteSparkSession\u001b[49m\u001b[38;5;241;43m.\u001b[39;49m\u001b[43m_start_connect_server\u001b[49m\u001b[43m(\u001b[49m\u001b[43murl\u001b[49m\u001b[43m,\u001b[49m\u001b[43m \u001b[49m\u001b[43mopts\u001b[49m\u001b[43m)\u001b[49m\n\u001b[0;32m    528\u001b[0m     url \u001b[38;5;241m=\u001b[39m \u001b[38;5;124m\"\u001b[39m\u001b[38;5;124msc://localhost\u001b[39m\u001b[38;5;124m\"\u001b[39m\n\u001b[0;32m    530\u001b[0m os\u001b[38;5;241m.\u001b[39menviron[\u001b[38;5;124m\"\u001b[39m\u001b[38;5;124mSPARK_CONNECT_MODE_ENABLED\u001b[39m\u001b[38;5;124m\"\u001b[39m] \u001b[38;5;241m=\u001b[39m \u001b[38;5;124m\"\u001b[39m\u001b[38;5;124m1\u001b[39m\u001b[38;5;124m\"\u001b[39m\n",
      "File \u001b[1;32m~\\AppData\\Local\\Packages\\PythonSoftwareFoundation.Python.3.12_qbz5n2kfra8p0\\LocalCache\\local-packages\\Python312\\site-packages\\pyspark\\sql\\connect\\session.py:1087\u001b[0m, in \u001b[0;36mSparkSession._start_connect_server\u001b[1;34m(master, opts)\u001b[0m\n\u001b[0;32m   1085\u001b[0m conf \u001b[38;5;241m=\u001b[39m SparkConf(loadDefaults\u001b[38;5;241m=\u001b[39m\u001b[38;5;28;01mTrue\u001b[39;00m)\n\u001b[0;32m   1086\u001b[0m conf\u001b[38;5;241m.\u001b[39msetAll(\u001b[38;5;28mlist\u001b[39m(overwrite_conf\u001b[38;5;241m.\u001b[39mitems()))\u001b[38;5;241m.\u001b[39msetAll(\u001b[38;5;28mlist\u001b[39m(default_conf\u001b[38;5;241m.\u001b[39mitems()))\n\u001b[1;32m-> 1087\u001b[0m PySparkSession(\u001b[43mSparkContext\u001b[49m\u001b[38;5;241;43m.\u001b[39;49m\u001b[43mgetOrCreate\u001b[49m\u001b[43m(\u001b[49m\u001b[43mconf\u001b[49m\u001b[43m)\u001b[49m)\n\u001b[0;32m   1089\u001b[0m \u001b[38;5;66;03m# Lastly only keep runtime configurations because other configurations are\u001b[39;00m\n\u001b[0;32m   1090\u001b[0m \u001b[38;5;66;03m# disallowed to set in the regular Spark Connect session.\u001b[39;00m\n\u001b[0;32m   1091\u001b[0m utl \u001b[38;5;241m=\u001b[39m SparkContext\u001b[38;5;241m.\u001b[39m_jvm\u001b[38;5;241m.\u001b[39mPythonSQLUtils  \u001b[38;5;66;03m# type: ignore[union-attr]\u001b[39;00m\n",
      "File \u001b[1;32m~\\AppData\\Local\\Packages\\PythonSoftwareFoundation.Python.3.12_qbz5n2kfra8p0\\LocalCache\\local-packages\\Python312\\site-packages\\pyspark\\core\\context.py:523\u001b[0m, in \u001b[0;36mSparkContext.getOrCreate\u001b[1;34m(cls, conf)\u001b[0m\n\u001b[0;32m    521\u001b[0m \u001b[38;5;28;01mwith\u001b[39;00m SparkContext\u001b[38;5;241m.\u001b[39m_lock:\n\u001b[0;32m    522\u001b[0m     \u001b[38;5;28;01mif\u001b[39;00m SparkContext\u001b[38;5;241m.\u001b[39m_active_spark_context \u001b[38;5;129;01mis\u001b[39;00m \u001b[38;5;28;01mNone\u001b[39;00m:\n\u001b[1;32m--> 523\u001b[0m         \u001b[43mSparkContext\u001b[49m\u001b[43m(\u001b[49m\u001b[43mconf\u001b[49m\u001b[38;5;241;43m=\u001b[39;49m\u001b[43mconf\u001b[49m\u001b[43m \u001b[49m\u001b[38;5;129;43;01mor\u001b[39;49;00m\u001b[43m \u001b[49m\u001b[43mSparkConf\u001b[49m\u001b[43m(\u001b[49m\u001b[43m)\u001b[49m\u001b[43m)\u001b[49m\n\u001b[0;32m    524\u001b[0m     \u001b[38;5;28;01massert\u001b[39;00m SparkContext\u001b[38;5;241m.\u001b[39m_active_spark_context \u001b[38;5;129;01mis\u001b[39;00m \u001b[38;5;129;01mnot\u001b[39;00m \u001b[38;5;28;01mNone\u001b[39;00m\n\u001b[0;32m    525\u001b[0m     \u001b[38;5;28;01mreturn\u001b[39;00m SparkContext\u001b[38;5;241m.\u001b[39m_active_spark_context\n",
      "File \u001b[1;32m~\\AppData\\Local\\Packages\\PythonSoftwareFoundation.Python.3.12_qbz5n2kfra8p0\\LocalCache\\local-packages\\Python312\\site-packages\\pyspark\\core\\context.py:207\u001b[0m, in \u001b[0;36mSparkContext.__init__\u001b[1;34m(self, master, appName, sparkHome, pyFiles, environment, batchSize, serializer, conf, gateway, jsc, profiler_cls, udf_profiler_cls, memory_profiler_cls)\u001b[0m\n\u001b[0;32m    205\u001b[0m SparkContext\u001b[38;5;241m.\u001b[39m_ensure_initialized(\u001b[38;5;28mself\u001b[39m, gateway\u001b[38;5;241m=\u001b[39mgateway, conf\u001b[38;5;241m=\u001b[39mconf)\n\u001b[0;32m    206\u001b[0m \u001b[38;5;28;01mtry\u001b[39;00m:\n\u001b[1;32m--> 207\u001b[0m     \u001b[38;5;28;43mself\u001b[39;49m\u001b[38;5;241;43m.\u001b[39;49m\u001b[43m_do_init\u001b[49m\u001b[43m(\u001b[49m\n\u001b[0;32m    208\u001b[0m \u001b[43m        \u001b[49m\u001b[43mmaster\u001b[49m\u001b[43m,\u001b[49m\n\u001b[0;32m    209\u001b[0m \u001b[43m        \u001b[49m\u001b[43mappName\u001b[49m\u001b[43m,\u001b[49m\n\u001b[0;32m    210\u001b[0m \u001b[43m        \u001b[49m\u001b[43msparkHome\u001b[49m\u001b[43m,\u001b[49m\n\u001b[0;32m    211\u001b[0m \u001b[43m        \u001b[49m\u001b[43mpyFiles\u001b[49m\u001b[43m,\u001b[49m\n\u001b[0;32m    212\u001b[0m \u001b[43m        \u001b[49m\u001b[43menvironment\u001b[49m\u001b[43m,\u001b[49m\n\u001b[0;32m    213\u001b[0m \u001b[43m        \u001b[49m\u001b[43mbatchSize\u001b[49m\u001b[43m,\u001b[49m\n\u001b[0;32m    214\u001b[0m \u001b[43m        \u001b[49m\u001b[43mserializer\u001b[49m\u001b[43m,\u001b[49m\n\u001b[0;32m    215\u001b[0m \u001b[43m        \u001b[49m\u001b[43mconf\u001b[49m\u001b[43m,\u001b[49m\n\u001b[0;32m    216\u001b[0m \u001b[43m        \u001b[49m\u001b[43mjsc\u001b[49m\u001b[43m,\u001b[49m\n\u001b[0;32m    217\u001b[0m \u001b[43m        \u001b[49m\u001b[43mprofiler_cls\u001b[49m\u001b[43m,\u001b[49m\n\u001b[0;32m    218\u001b[0m \u001b[43m        \u001b[49m\u001b[43mudf_profiler_cls\u001b[49m\u001b[43m,\u001b[49m\n\u001b[0;32m    219\u001b[0m \u001b[43m        \u001b[49m\u001b[43mmemory_profiler_cls\u001b[49m\u001b[43m,\u001b[49m\n\u001b[0;32m    220\u001b[0m \u001b[43m    \u001b[49m\u001b[43m)\u001b[49m\n\u001b[0;32m    221\u001b[0m \u001b[38;5;28;01mexcept\u001b[39;00m \u001b[38;5;167;01mBaseException\u001b[39;00m:\n\u001b[0;32m    222\u001b[0m     \u001b[38;5;66;03m# If an error occurs, clean up in order to allow future SparkContext creation:\u001b[39;00m\n\u001b[0;32m    223\u001b[0m     \u001b[38;5;28mself\u001b[39m\u001b[38;5;241m.\u001b[39mstop()\n",
      "File \u001b[1;32m~\\AppData\\Local\\Packages\\PythonSoftwareFoundation.Python.3.12_qbz5n2kfra8p0\\LocalCache\\local-packages\\Python312\\site-packages\\pyspark\\core\\context.py:300\u001b[0m, in \u001b[0;36mSparkContext._do_init\u001b[1;34m(self, master, appName, sparkHome, pyFiles, environment, batchSize, serializer, conf, jsc, profiler_cls, udf_profiler_cls, memory_profiler_cls)\u001b[0m\n\u001b[0;32m    297\u001b[0m \u001b[38;5;28mself\u001b[39m\u001b[38;5;241m.\u001b[39menvironment[\u001b[38;5;124m\"\u001b[39m\u001b[38;5;124mPYTHONHASHSEED\u001b[39m\u001b[38;5;124m\"\u001b[39m] \u001b[38;5;241m=\u001b[39m os\u001b[38;5;241m.\u001b[39menviron\u001b[38;5;241m.\u001b[39mget(\u001b[38;5;124m\"\u001b[39m\u001b[38;5;124mPYTHONHASHSEED\u001b[39m\u001b[38;5;124m\"\u001b[39m, \u001b[38;5;124m\"\u001b[39m\u001b[38;5;124m0\u001b[39m\u001b[38;5;124m\"\u001b[39m)\n\u001b[0;32m    299\u001b[0m \u001b[38;5;66;03m# Create the Java SparkContext through Py4J\u001b[39;00m\n\u001b[1;32m--> 300\u001b[0m \u001b[38;5;28mself\u001b[39m\u001b[38;5;241m.\u001b[39m_jsc \u001b[38;5;241m=\u001b[39m jsc \u001b[38;5;129;01mor\u001b[39;00m \u001b[38;5;28;43mself\u001b[39;49m\u001b[38;5;241;43m.\u001b[39;49m\u001b[43m_initialize_context\u001b[49m\u001b[43m(\u001b[49m\u001b[38;5;28;43mself\u001b[39;49m\u001b[38;5;241;43m.\u001b[39;49m\u001b[43m_conf\u001b[49m\u001b[38;5;241;43m.\u001b[39;49m\u001b[43m_jconf\u001b[49m\u001b[43m)\u001b[49m\n\u001b[0;32m    301\u001b[0m \u001b[38;5;66;03m# Reset the SparkConf to the one actually used by the SparkContext in JVM.\u001b[39;00m\n\u001b[0;32m    302\u001b[0m \u001b[38;5;28mself\u001b[39m\u001b[38;5;241m.\u001b[39m_conf \u001b[38;5;241m=\u001b[39m SparkConf(_jconf\u001b[38;5;241m=\u001b[39m\u001b[38;5;28mself\u001b[39m\u001b[38;5;241m.\u001b[39m_jsc\u001b[38;5;241m.\u001b[39msc()\u001b[38;5;241m.\u001b[39mconf())\n",
      "File \u001b[1;32m~\\AppData\\Local\\Packages\\PythonSoftwareFoundation.Python.3.12_qbz5n2kfra8p0\\LocalCache\\local-packages\\Python312\\site-packages\\pyspark\\core\\context.py:429\u001b[0m, in \u001b[0;36mSparkContext._initialize_context\u001b[1;34m(self, jconf)\u001b[0m\n\u001b[0;32m    425\u001b[0m \u001b[38;5;250m\u001b[39m\u001b[38;5;124;03m\"\"\"\u001b[39;00m\n\u001b[0;32m    426\u001b[0m \u001b[38;5;124;03mInitialize SparkContext in function to allow subclass specific initialization\u001b[39;00m\n\u001b[0;32m    427\u001b[0m \u001b[38;5;124;03m\"\"\"\u001b[39;00m\n\u001b[0;32m    428\u001b[0m \u001b[38;5;28;01massert\u001b[39;00m \u001b[38;5;28mself\u001b[39m\u001b[38;5;241m.\u001b[39m_jvm \u001b[38;5;129;01mis\u001b[39;00m \u001b[38;5;129;01mnot\u001b[39;00m \u001b[38;5;28;01mNone\u001b[39;00m\n\u001b[1;32m--> 429\u001b[0m \u001b[38;5;28;01mreturn\u001b[39;00m \u001b[38;5;28;43mself\u001b[39;49m\u001b[38;5;241;43m.\u001b[39;49m\u001b[43m_jvm\u001b[49m\u001b[38;5;241;43m.\u001b[39;49m\u001b[43mJavaSparkContext\u001b[49m\u001b[43m(\u001b[49m\u001b[43mjconf\u001b[49m\u001b[43m)\u001b[49m\n",
      "File \u001b[1;32m~\\AppData\\Local\\Packages\\PythonSoftwareFoundation.Python.3.12_qbz5n2kfra8p0\\LocalCache\\local-packages\\Python312\\site-packages\\py4j\\java_gateway.py:1627\u001b[0m, in \u001b[0;36mJavaClass.__call__\u001b[1;34m(self, *args)\u001b[0m\n\u001b[0;32m   1621\u001b[0m command \u001b[38;5;241m=\u001b[39m proto\u001b[38;5;241m.\u001b[39mCONSTRUCTOR_COMMAND_NAME \u001b[38;5;241m+\u001b[39m\\\n\u001b[0;32m   1622\u001b[0m     \u001b[38;5;28mself\u001b[39m\u001b[38;5;241m.\u001b[39m_command_header \u001b[38;5;241m+\u001b[39m\\\n\u001b[0;32m   1623\u001b[0m     args_command \u001b[38;5;241m+\u001b[39m\\\n\u001b[0;32m   1624\u001b[0m     proto\u001b[38;5;241m.\u001b[39mEND_COMMAND_PART\n\u001b[0;32m   1626\u001b[0m answer \u001b[38;5;241m=\u001b[39m \u001b[38;5;28mself\u001b[39m\u001b[38;5;241m.\u001b[39m_gateway_client\u001b[38;5;241m.\u001b[39msend_command(command)\n\u001b[1;32m-> 1627\u001b[0m return_value \u001b[38;5;241m=\u001b[39m \u001b[43mget_return_value\u001b[49m\u001b[43m(\u001b[49m\n\u001b[0;32m   1628\u001b[0m \u001b[43m    \u001b[49m\u001b[43manswer\u001b[49m\u001b[43m,\u001b[49m\u001b[43m \u001b[49m\u001b[38;5;28;43mself\u001b[39;49m\u001b[38;5;241;43m.\u001b[39;49m\u001b[43m_gateway_client\u001b[49m\u001b[43m,\u001b[49m\u001b[43m \u001b[49m\u001b[38;5;28;43;01mNone\u001b[39;49;00m\u001b[43m,\u001b[49m\u001b[43m \u001b[49m\u001b[38;5;28;43mself\u001b[39;49m\u001b[38;5;241;43m.\u001b[39;49m\u001b[43m_fqn\u001b[49m\u001b[43m)\u001b[49m\n\u001b[0;32m   1630\u001b[0m \u001b[38;5;28;01mfor\u001b[39;00m temp_arg \u001b[38;5;129;01min\u001b[39;00m temp_args:\n\u001b[0;32m   1631\u001b[0m     \u001b[38;5;28;01mif\u001b[39;00m \u001b[38;5;28mhasattr\u001b[39m(temp_arg, \u001b[38;5;124m\"\u001b[39m\u001b[38;5;124m_detach\u001b[39m\u001b[38;5;124m\"\u001b[39m):\n",
      "File \u001b[1;32m~\\AppData\\Local\\Packages\\PythonSoftwareFoundation.Python.3.12_qbz5n2kfra8p0\\LocalCache\\local-packages\\Python312\\site-packages\\py4j\\protocol.py:327\u001b[0m, in \u001b[0;36mget_return_value\u001b[1;34m(answer, gateway_client, target_id, name)\u001b[0m\n\u001b[0;32m    325\u001b[0m value \u001b[38;5;241m=\u001b[39m OUTPUT_CONVERTER[\u001b[38;5;28mtype\u001b[39m](answer[\u001b[38;5;241m2\u001b[39m:], gateway_client)\n\u001b[0;32m    326\u001b[0m \u001b[38;5;28;01mif\u001b[39;00m answer[\u001b[38;5;241m1\u001b[39m] \u001b[38;5;241m==\u001b[39m REFERENCE_TYPE:\n\u001b[1;32m--> 327\u001b[0m     \u001b[38;5;28;01mraise\u001b[39;00m Py4JJavaError(\n\u001b[0;32m    328\u001b[0m         \u001b[38;5;124m\"\u001b[39m\u001b[38;5;124mAn error occurred while calling \u001b[39m\u001b[38;5;132;01m{0}\u001b[39;00m\u001b[38;5;132;01m{1}\u001b[39;00m\u001b[38;5;132;01m{2}\u001b[39;00m\u001b[38;5;124m.\u001b[39m\u001b[38;5;130;01m\\n\u001b[39;00m\u001b[38;5;124m\"\u001b[39m\u001b[38;5;241m.\u001b[39m\n\u001b[0;32m    329\u001b[0m         \u001b[38;5;28mformat\u001b[39m(target_id, \u001b[38;5;124m\"\u001b[39m\u001b[38;5;124m.\u001b[39m\u001b[38;5;124m\"\u001b[39m, name), value)\n\u001b[0;32m    330\u001b[0m \u001b[38;5;28;01melse\u001b[39;00m:\n\u001b[0;32m    331\u001b[0m     \u001b[38;5;28;01mraise\u001b[39;00m Py4JError(\n\u001b[0;32m    332\u001b[0m         \u001b[38;5;124m\"\u001b[39m\u001b[38;5;124mAn error occurred while calling \u001b[39m\u001b[38;5;132;01m{0}\u001b[39;00m\u001b[38;5;132;01m{1}\u001b[39;00m\u001b[38;5;132;01m{2}\u001b[39;00m\u001b[38;5;124m. Trace:\u001b[39m\u001b[38;5;130;01m\\n\u001b[39;00m\u001b[38;5;132;01m{3}\u001b[39;00m\u001b[38;5;130;01m\\n\u001b[39;00m\u001b[38;5;124m\"\u001b[39m\u001b[38;5;241m.\u001b[39m\n\u001b[0;32m    333\u001b[0m         \u001b[38;5;28mformat\u001b[39m(target_id, \u001b[38;5;124m\"\u001b[39m\u001b[38;5;124m.\u001b[39m\u001b[38;5;124m\"\u001b[39m, name, value))\n",
      "\u001b[1;31mPy4JJavaError\u001b[0m: An error occurred while calling None.org.apache.spark.api.java.JavaSparkContext.\n: java.net.BindException: Failed to bind to address 0.0.0.0/0.0.0.0:15002: Service 'org.apache.spark.sql.connect.service.SparkConnectService$' failed after 0 retries (starting from 15002)! Consider explicitly setting the appropriate port for the service 'org.apache.spark.sql.connect.service.SparkConnectService$' (for example spark.ui.port for SparkUI) to an available port or increasing spark.port.maxRetries.\r\n\tat org.sparkproject.connect.grpc.netty.NettyServer.start(NettyServer.java:333)\r\n\tat org.sparkproject.connect.grpc.internal.ServerImpl.start(ServerImpl.java:185)\r\n\tat org.sparkproject.connect.grpc.internal.ServerImpl.start(ServerImpl.java:94)\r\n\tat org.apache.spark.sql.connect.service.SparkConnectService$.$anonfun$startGRPCService$1(SparkConnectService.scala:396)\r\n\tat org.apache.spark.sql.connect.service.SparkConnectService$.$anonfun$startGRPCService$1$adapted(SparkConnectService.scala:374)\r\n\tat org.apache.spark.util.Utils$.$anonfun$startServiceOnPort$2(Utils.scala:2262)\r\n\tat scala.collection.immutable.Range.foreach$mVc$sp(Range.scala:192)\r\n\tat org.apache.spark.util.Utils$.startServiceOnPort(Utils.scala:2254)\r\n\tat org.apache.spark.sql.connect.service.SparkConnectService$.startGRPCService(SparkConnectService.scala:412)\r\n\tat org.apache.spark.sql.connect.service.SparkConnectService$.start(SparkConnectService.scala:422)\r\n\tat org.apache.spark.sql.connect.SparkConnectPlugin$$anon$1.init(SparkConnectPlugin.scala:48)\r\n\tat org.apache.spark.internal.plugin.DriverPluginContainer.$anonfun$driverPlugins$1(PluginContainer.scala:53)\r\n\tat scala.collection.StrictOptimizedIterableOps.flatMap(StrictOptimizedIterableOps.scala:118)\r\n\tat scala.collection.StrictOptimizedIterableOps.flatMap$(StrictOptimizedIterableOps.scala:105)\r\n\tat scala.collection.immutable.ArraySeq.flatMap(ArraySeq.scala:35)\r\n\tat org.apache.spark.internal.plugin.DriverPluginContainer.<init>(PluginContainer.scala:46)\r\n\tat org.apache.spark.internal.plugin.PluginContainer$.apply(PluginContainer.scala:213)\r\n\tat org.apache.spark.internal.plugin.PluginContainer$.apply(PluginContainer.scala:196)\r\n\tat org.apache.spark.SparkContext.<init>(SparkContext.scala:588)\r\n\tat org.apache.spark.api.java.JavaSparkContext.<init>(JavaSparkContext.scala:59)\r\n\tat java.base/jdk.internal.reflect.NativeConstructorAccessorImpl.newInstance0(Native Method)\r\n\tat java.base/jdk.internal.reflect.NativeConstructorAccessorImpl.newInstance(NativeConstructorAccessorImpl.java:75)\r\n\tat java.base/jdk.internal.reflect.DelegatingConstructorAccessorImpl.newInstance(DelegatingConstructorAccessorImpl.java:53)\r\n\tat java.base/java.lang.reflect.Constructor.newInstanceWithCaller(Constructor.java:502)\r\n\tat java.base/java.lang.reflect.Constructor.newInstance(Constructor.java:486)\r\n\tat py4j.reflection.MethodInvoker.invoke(MethodInvoker.java:247)\r\n\tat py4j.reflection.ReflectionEngine.invoke(ReflectionEngine.java:374)\r\n\tat py4j.Gateway.invoke(Gateway.java:238)\r\n\tat py4j.commands.ConstructorCommand.invokeConstructor(ConstructorCommand.java:80)\r\n\tat py4j.commands.ConstructorCommand.execute(ConstructorCommand.java:69)\r\n\tat py4j.ClientServerConnection.waitForCommands(ClientServerConnection.java:184)\r\n\tat py4j.ClientServerConnection.run(ClientServerConnection.java:108)\r\n\tat java.base/java.lang.Thread.run(Thread.java:1583)\r\n"
     ]
    }
   ],
   "source": [
    "from pyspark.sql import SparkSession\n",
    "from pyspark.sql.functions import *\n",
    "from pyspark.sql.window import Window\n",
    "from pyspark.sql.types import *\n",
    "import random\n",
    "spark = SparkSession.builder.appName(\"HardPySparkQuestions\").getOrCreate()"
   ]
  },
  {
   "cell_type": "markdown",
   "id": "64d33164",
   "metadata": {},
   "source": [
    "## Hard Level PySpark Coding Questions with Solutions"
   ]
  },
  {
   "cell_type": "markdown",
   "id": "20628092",
   "metadata": {},
   "source": [
    "`Question 1: Complex Window Functions with Multiple Partitions\n",
    "Problem: Given a sales dataset, find the running total of sales for each product category\n",
    "sale within its category, and the percentage contribution of each sale to the total category`"
   ]
  },
  {
   "cell_type": "code",
   "execution_count": null,
   "id": "c0b2f4d0",
   "metadata": {},
   "outputs": [
    {
     "name": "stdout",
     "output_type": "stream",
     "text": [
      "+----------+-----------+----------+------+\n",
      "|      date|   category|   product|amount|\n",
      "+----------+-----------+----------+------+\n",
      "|2023-01-01|Electronics|    Laptop|  1200|\n",
      "|2023-01-02|Electronics|     Phone|   800|\n",
      "|2023-01-03|   Clothing|     Shirt|    50|\n",
      "|2023-01-04|Electronics|    Tablet|   600|\n",
      "|2023-01-05|   Clothing|     Pants|    80|\n",
      "|2023-01-06|Electronics|Headphones|   200|\n",
      "|2023-01-07|   Clothing|    Jacket|   120|\n",
      "|2023-01-08|Electronics|     Mouse|    25|\n",
      "+----------+-----------+----------+------+\n",
      "\n"
     ]
    }
   ],
   "source": [
    "# Sample sales \n",
    "datasales_data = [ \n",
    "    (\"2023-01-01\", \"Electronics\", \"Laptop\", 1200),\n",
    "    (\"2023-01-02\", \"Electronics\", \"Phone\", 800),\n",
    "    (\"2023-01-03\", \"Clothing\", \"Shirt\", 50),\n",
    "    (\"2023-01-04\", \"Electronics\", \"Tablet\", 600),\n",
    "    (\"2023-01-05\", \"Clothing\", \"Pants\", 80),\n",
    "    (\"2023-01-06\", \"Electronics\", \"Headphones\", 200),\n",
    "    (\"2023-01-07\", \"Clothing\", \"Jacket\", 120),\n",
    "    (\"2023-01-08\", \"Electronics\", \"Mouse\", 25)\n",
    "]\n",
    "schema = StructType([\n",
    "    StructField('date', StringType(), True),\n",
    "    StructField('category', StringType(), True),\n",
    "    StructField('product', StringType(), True),\n",
    "    StructField('amount', IntegerType(), True)\n",
    "])\n",
    "\n",
    "df = spark.createDataFrame(datasales_data, schema)\n",
    "df.show()"
   ]
  },
  {
   "cell_type": "code",
   "execution_count": null,
   "id": "0c3e8ca6",
   "metadata": {},
   "outputs": [
    {
     "name": "stdout",
     "output_type": "stream",
     "text": [
      "+----------+-----------+----------+------+-------------+----------------+--------------+-----------------------+\n",
      "|      date|   category|   product|amount|running_total|rank_in_category|category_total|percentage_contribution|\n",
      "+----------+-----------+----------+------+-------------+----------------+--------------+-----------------------+\n",
      "|2023-01-03|   Clothing|     Shirt|    50|           50|               1|           250|                   20.0|\n",
      "|2023-01-05|   Clothing|     Pants|    80|          130|               2|           250|                   32.0|\n",
      "|2023-01-07|   Clothing|    Jacket|   120|          250|               3|           250|                   48.0|\n",
      "|2023-01-08|Electronics|     Mouse|    25|           25|               1|          2825|                   0.88|\n",
      "|2023-01-06|Electronics|Headphones|   200|          225|               2|          2825|                   7.08|\n",
      "|2023-01-04|Electronics|    Tablet|   600|          825|               3|          2825|                  21.24|\n",
      "|2023-01-02|Electronics|     Phone|   800|         1625|               4|          2825|                  28.32|\n",
      "|2023-01-01|Electronics|    Laptop|  1200|         2825|               5|          2825|                  42.48|\n",
      "+----------+-----------+----------+------+-------------+----------------+--------------+-----------------------+\n",
      "\n"
     ]
    }
   ],
   "source": [
    "# Define winddow specifications\n",
    "window_space_category_orderd = Window.partitionBy(\"category\").orderBy(\"amount\")\n",
    "window_category_unorderd = Window.partitionBy(\"category\")\n",
    "\n",
    "# make the results\n",
    "result = df.withColumn('running_total', sum('amount').over(window_space_category_orderd)) \\\n",
    "    .withColumn('rank_in_category', rank().over(window_space_category_orderd))\\\n",
    "    .withColumn('category_total', sum('amount').over(window_category_unorderd))\\\n",
    "    .withColumn('percentage_contribution', round((col('amount') / col(\"category_total\"))*100,2)).orderBy('category', 'amount')\n",
    "\n",
    "result.show()\n"
   ]
  },
  {
   "cell_type": "markdown",
   "id": "b27daaac",
   "metadata": {},
   "source": [
    "`Question 2: Complex JOIN with Data Deduplication and Aggregation\n",
    "Problem: You have customer and order datasets with duplicate records. Clean the data,\n",
    "find customers who have made orders in consecutive months with their total spending`"
   ]
  },
  {
   "cell_type": "code",
   "execution_count": null,
   "id": "0bd70655",
   "metadata": {},
   "outputs": [
    {
     "name": "stdout",
     "output_type": "stream",
     "text": [
      "+-----------+-----------+-----------------+-----------------+\n",
      "|customer_id|       name|            email|registration_date|\n",
      "+-----------+-----------+-----------------+-----------------+\n",
      "|          1|   John Doe|   john@email.com|       2023-01-01|\n",
      "|          1|   John Doe|   john@email.com|       2023-01-01|\n",
      "|          2| Jane Smith|   jane@email.com|       2023-02-15|\n",
      "|          3|Bob Johnson|    bob@email.com|       2023-01-10|\n",
      "|          3|Bob Johnson|bob_new@email.com|       2023-01-10|\n",
      "+-----------+-----------+-----------------+-----------------+\n",
      "\n"
     ]
    }
   ],
   "source": [
    "# Customer data with duplicates\n",
    "customers_data = [\n",
    "    (1, \"John Doe\", \"john@email.com\", \"2023-01-01\"),\n",
    "    (1, \"John Doe\", \"john@email.com\", \"2023-01-01\"), # duplicate\n",
    "    (2, \"Jane Smith\", \"jane@email.com\", \"2023-02-15\"),\n",
    "    (3, \"Bob Johnson\", \"bob@email.com\", \"2023-01-10\"),\n",
    "    (3, \"Bob Johnson\", \"bob_new@email.com\", \"2023-01-10\"), # different emailHarshavardhana\n",
    "]\n",
    "\n",
    "customers_schema = StructType([\n",
    "    StructField('customer_id', IntegerType(), True),\n",
    "    StructField('name', StringType(), True),\n",
    "    StructField('email', StringType(), True),\n",
    "    StructField('registration_date', StringType(), True)\n",
    "])\n",
    "\n",
    "cst_df = spark.createDataFrame(customers_data, customers_schema)\n",
    "cst_df.show()"
   ]
  },
  {
   "cell_type": "code",
   "execution_count": null,
   "id": "1a66a015",
   "metadata": {},
   "outputs": [
    {
     "name": "stdout",
     "output_type": "stream",
     "text": [
      "+--------+-----------+----------+------+\n",
      "|order_id|customer_id|order_date|amount|\n",
      "+--------+-----------+----------+------+\n",
      "|     101|          1|2023-01-15| 250.0|\n",
      "|     102|          1|2023-02-10| 180.0|\n",
      "|     103|          2|2023-02-20| 320.0|\n",
      "|     104|          2|2023-03-05| 150.0|\n",
      "|     105|          3|2023-01-25| 400.0|\n",
      "|     106|          1|2023-03-12| 275.0|\n",
      "|     107|          2|2023-04-08| 190.0|\n",
      "+--------+-----------+----------+------+\n",
      "\n"
     ]
    }
   ],
   "source": [
    "# Orders \n",
    "dataorders_data = [ \n",
    "    (101, 1, \"2023-01-15\",250.00), \n",
    "    (102, 1, \"2023-02-10\", 180.00), \n",
    "    (103, 2, \"2023-02-20\", 320.00),\n",
    "    (104, 2, \"2023-03-05\",150.00),\n",
    "    (105, 3, \"2023-01-25\",400.00),\n",
    "    (106, 1, \"2023-03-12\",275.00),\n",
    "    (107, 2, \"2023-04-08\",190.00)]\n",
    "orders_schema = StructType([\n",
    "    StructField(\"order_id\", IntegerType(), True),\n",
    "    StructField(\"customer_id\", IntegerType(), True),\n",
    "    StructField(\"order_date\", StringType(), True),\n",
    "    StructField(\"amount\", DoubleType(), True)])\n",
    "\n",
    "order_df = spark.createDataFrame(dataorders_data, orders_schema)\n",
    "order_df.show()\n"
   ]
  },
  {
   "cell_type": "markdown",
   "id": "2a0d0f9f",
   "metadata": {},
   "source": [
    "### Step-1 : Clean Customer data  - remove exact duplicates and handle email conflicts"
   ]
  },
  {
   "cell_type": "code",
   "execution_count": null,
   "id": "1e07ae6b",
   "metadata": {},
   "outputs": [
    {
     "name": "stdout",
     "output_type": "stream",
     "text": [
      "+-----------+-----------+-----------------+-----------------+----------+\n",
      "|customer_id|       name|            email|registration_date|row_number|\n",
      "+-----------+-----------+-----------------+-----------------+----------+\n",
      "|          1|   John Doe|   john@email.com|       2023-01-01|         1|\n",
      "|          1|   John Doe|   john@email.com|       2023-01-01|         2|\n",
      "|          2| Jane Smith|   jane@email.com|       2023-02-15|         1|\n",
      "|          3|Bob Johnson|    bob@email.com|       2023-01-10|         1|\n",
      "|          3|Bob Johnson|bob_new@email.com|       2023-01-10|         2|\n",
      "+-----------+-----------+-----------------+-----------------+----------+\n",
      "\n",
      "+-----------+-----------+--------------+-----------------+\n",
      "|customer_id|       name|         email|registration_date|\n",
      "+-----------+-----------+--------------+-----------------+\n",
      "|          1|   John Doe|john@email.com|       2023-01-01|\n",
      "|          2| Jane Smith|jane@email.com|       2023-02-15|\n",
      "|          3|Bob Johnson| bob@email.com|       2023-01-10|\n",
      "+-----------+-----------+--------------+-----------------+\n",
      "\n"
     ]
    }
   ],
   "source": [
    "cst_window = Window.partitionBy(\"customer_id\",\"name\",\"registration_date\").orderBy('email')\n",
    "\n",
    "cleaned_customers_df = cst_df.withColumn(\"row_number\", row_number().over(cst_window))\n",
    "cleaned_customers_df.show()\n",
    "cleaned_customers_df =cleaned_customers_df.filter(col('row_number')==1).drop('row_number') \n",
    "cleaned_customers_df.show()\n",
    "\n",
    "\n",
    "\n",
    "\n",
    "\n"
   ]
  },
  {
   "cell_type": "markdown",
   "id": "eb2890c8",
   "metadata": {},
   "source": [
    "### Step 2: Add month-year to orders"
   ]
  },
  {
   "cell_type": "code",
   "execution_count": null,
   "id": "8f2a8fc9",
   "metadata": {},
   "outputs": [
    {
     "name": "stdout",
     "output_type": "stream",
     "text": [
      "+--------+-----------+----------+------+-----------+\n",
      "|order_id|customer_id|order_date|amount|order_month|\n",
      "+--------+-----------+----------+------+-----------+\n",
      "|     101|          1|2023-01-15| 250.0|    2023-01|\n",
      "|     102|          1|2023-02-10| 180.0|    2023-02|\n",
      "|     103|          2|2023-02-20| 320.0|    2023-02|\n",
      "|     104|          2|2023-03-05| 150.0|    2023-03|\n",
      "|     105|          3|2023-01-25| 400.0|    2023-01|\n",
      "|     106|          1|2023-03-12| 275.0|    2023-03|\n",
      "|     107|          2|2023-04-08| 190.0|    2023-04|\n",
      "+--------+-----------+----------+------+-----------+\n",
      "\n"
     ]
    }
   ],
   "source": [
    "order_with_month = order_df.withColumn('order_month', date_format(to_date(col(\"order_date\")),\"yyyy-MM\"))\n",
    "order_with_month.show()"
   ]
  },
  {
   "cell_type": "markdown",
   "id": "f00dc862",
   "metadata": {},
   "source": [
    "### Step 3: Join and aggregate by customer and month"
   ]
  },
  {
   "cell_type": "code",
   "execution_count": null,
   "id": "56f77d95",
   "metadata": {},
   "outputs": [
    {
     "name": "stdout",
     "output_type": "stream",
     "text": [
      "+-----------+-----------+-----------+-------------+-----------+\n",
      "|customer_id|       name|order_month|monthly_total|order_count|\n",
      "+-----------+-----------+-----------+-------------+-----------+\n",
      "|          3|Bob Johnson|    2023-01|        400.0|          1|\n",
      "|          1|   John Doe|    2023-01|        250.0|          1|\n",
      "|          2| Jane Smith|    2023-02|        320.0|          1|\n",
      "|          1|   John Doe|    2023-02|        180.0|          1|\n",
      "|          2| Jane Smith|    2023-04|        190.0|          1|\n",
      "|          1|   John Doe|    2023-03|        275.0|          1|\n",
      "|          2| Jane Smith|    2023-03|        150.0|          1|\n",
      "+-----------+-----------+-----------+-------------+-----------+\n",
      "\n"
     ]
    }
   ],
   "source": [
    "customer_monthly_order= cleaned_customers_df.join(order_with_month,\"customer_id\",'inner').groupBy('customer_id', 'name', 'order_month')\\\n",
    "    .agg(sum(\"amount\").alias('monthly_total'), count('order_id').alias('order_count'))\n",
    "\n",
    "customer_monthly_order.show()"
   ]
  },
  {
   "cell_type": "code",
   "execution_count": null,
   "id": "d826aa16",
   "metadata": {},
   "outputs": [
    {
     "name": "stdout",
     "output_type": "stream",
     "text": [
      "+-----------+----------+-----------+-------------+-----------+----------+----------+\n",
      "|customer_id|      name|order_month|monthly_total|order_count|prev_month|month_diff|\n",
      "+-----------+----------+-----------+-------------+-----------+----------+----------+\n",
      "|          1|  John Doe|    2023-02|        180.0|          1|   2023-01|       1.0|\n",
      "|          1|  John Doe|    2023-03|        275.0|          1|   2023-02|       1.0|\n",
      "|          2|Jane Smith|    2023-03|        150.0|          1|   2023-02|       1.0|\n",
      "|          2|Jane Smith|    2023-04|        190.0|          1|   2023-03|       1.0|\n",
      "+-----------+----------+-----------+-------------+-----------+----------+----------+\n",
      "\n"
     ]
    }
   ],
   "source": [
    "customer_order_window = Window.partitionBy(\"customer_id\").orderBy(\"order_month\")\n",
    "consecutive_month = customer_monthly_order.withColumn('prev_month', lag('order_month').over(customer_order_window)).withColumn(\"month_diff\", months_between(to_date(col(\"order_month\")), to_date(col(\"prev_month\"))))\\\n",
    "    .filter(col('month_diff')==1)\n",
    "\n",
    "consecutive_month.show()\n"
   ]
  },
  {
   "cell_type": "code",
   "execution_count": null,
   "id": "16310de0",
   "metadata": {},
   "outputs": [
    {
     "name": "stdout",
     "output_type": "stream",
     "text": [
      "+-----------+----------+-----------+------------+------------------+-----------+\n",
      "|customer_id|      name|first_month|second_month|secont_month_total|order_count|\n",
      "+-----------+----------+-----------+------------+------------------+-----------+\n",
      "|          1|  John Doe|    2023-01|     2023-02|             180.0|          1|\n",
      "|          1|  John Doe|    2023-02|     2023-03|             275.0|          1|\n",
      "|          2|Jane Smith|    2023-02|     2023-03|             150.0|          1|\n",
      "|          2|Jane Smith|    2023-03|     2023-04|             190.0|          1|\n",
      "+-----------+----------+-----------+------------+------------------+-----------+\n",
      "\n"
     ]
    }
   ],
   "source": [
    "# Step 5: Final result with spending pattern\n",
    "result_df = consecutive_month.select(\"customer_id\",\"name\",\"prev_month\",\"order_month\",\"monthly_total\",\"order_count\",)\\\n",
    "    .withColumnRenamed('prev_month', 'first_month')\\\n",
    "    .withColumnRenamed('order_month', 'second_month')\\\n",
    "    .withColumnRenamed('monthly_total', 'secont_month_total')\\\n",
    "    .orderBy('customer_id', 'second_month')\n",
    "\n",
    "result_df.show()"
   ]
  },
  {
   "cell_type": "markdown",
   "id": "44f72f11",
   "metadata": {},
   "source": [
    "`Question 3: Advanced Data Skewness Handling with Custom Partition\n",
    "Problem: Handle a highly skewed dataset where one partition key has 80% of the data.\n",
    "salting technique and compare performance.`"
   ]
  },
  {
   "cell_type": "code",
   "execution_count": null,
   "id": "cd6f67f7",
   "metadata": {},
   "outputs": [
    {
     "name": "stdout",
     "output_type": "stream",
     "text": [
      "+---+--------+------+\n",
      "|key|   value|amount|\n",
      "+---+--------+------+\n",
      "|  A| value_0|    39|\n",
      "|  A| value_1|    41|\n",
      "|  A| value_2|     9|\n",
      "|  A| value_3|    60|\n",
      "|  A| value_4|    16|\n",
      "|  A| value_5|    78|\n",
      "|  A| value_6|    58|\n",
      "|  A| value_7|    95|\n",
      "|  A| value_8|     4|\n",
      "|  A| value_9|    52|\n",
      "|  A|value_10|    75|\n",
      "|  A|value_11|    40|\n",
      "|  A|value_12|    56|\n",
      "|  A|value_13|    74|\n",
      "|  A|value_14|    29|\n",
      "|  A|value_15|    77|\n",
      "|  A|value_16|    75|\n",
      "|  A|value_17|    43|\n",
      "|  A|value_18|     7|\n",
      "|  A|value_19|    88|\n",
      "+---+--------+------+\n",
      "only showing top 20 rows\n"
     ]
    }
   ],
   "source": [
    "# Create skewed data - most record have the same key\n",
    "skewd_data = []\n",
    "\n",
    "#80% of data with key 'A'\n",
    "for i in range(8000):\n",
    "    skewd_data.append(('A', f'value_{i}', random.randint(1,100)))\n",
    "\n",
    "# 20% orf data with other keys\n",
    "for key in ['B','C','D','E'] :\n",
    "    for i in range(1000):\n",
    "        skewd_data.append((key, f'value_{i}', random.randint(1,100)))\n",
    "\n",
    "skewd_schema = StructType([\n",
    "    StructField('key', StringType(), True),\n",
    "    StructField('value', StringType(), True),\n",
    "    StructField('amount', IntegerType(), True)\n",
    "])\n",
    "\n",
    "skewd_df = spark.createDataFrame(skewd_data, skewd_schema)\n",
    "skewd_df.show()"
   ]
  },
  {
   "cell_type": "code",
   "execution_count": null,
   "id": "57414d14",
   "metadata": {},
   "outputs": [
    {
     "name": "stdout",
     "output_type": "stream",
     "text": [
      "================-------->Without Salting<--------==================\n",
      "+---+------------+--------------+------------+\n",
      "|key|total_amount|avarage_amount|record_count|\n",
      "+---+------------+--------------+------------+\n",
      "|  E|       49910|         49.91|        1000|\n",
      "|  B|       50219|        50.219|        1000|\n",
      "|  D|       51708|        51.708|        1000|\n",
      "|  C|       51237|        51.237|        1000|\n",
      "|  A|      397773|     49.721625|        8000|\n",
      "+---+------------+--------------+------------+\n",
      "\n",
      "================-------->With Salting<--------==================\n",
      "+---+------------+----------+------------+\n",
      "|key|total_amount|avg_amount|record_count|\n",
      "+---+------------+----------+------------+\n",
      "|  E|       49910|     49.91|        1000|\n",
      "|  B|       50219|    50.219|        1000|\n",
      "|  D|       51708|    51.708|        1000|\n",
      "|  C|       51237|    51.237|        1000|\n",
      "|  A|      397773| 49.721625|        8000|\n",
      "+---+------------+----------+------------+\n",
      "\n",
      "\n",
      "==================Partition Analisys=============\n"
     ]
    },
    {
     "ename": "PySparkNotImplementedError",
     "evalue": "[NOT_IMPLEMENTED] rdd is not implemented.",
     "output_type": "error",
     "traceback": [
      "\u001b[1;31m---------------------------------------------------------------------------\u001b[0m",
      "\u001b[1;31mPySparkNotImplementedError\u001b[0m                Traceback (most recent call last)",
      "Cell \u001b[1;32mIn[45], line 61\u001b[0m\n\u001b[0;32m     58\u001b[0m     partition_count_salted \u001b[38;5;241m=\u001b[39m repartitioned_df\u001b[38;5;241m.\u001b[39mmapPartitions(\u001b[38;5;28;01mlambda\u001b[39;00m x: [\u001b[38;5;28msum\u001b[39m(\u001b[38;5;241m1\u001b[39m \u001b[38;5;28;01mfor\u001b[39;00m _ \u001b[38;5;129;01min\u001b[39;00m x)])\u001b[38;5;241m.\u001b[39mcollect()\n\u001b[0;32m     59\u001b[0m     \u001b[38;5;28mprint\u001b[39m(\u001b[38;5;124mf\u001b[39m\u001b[38;5;124m\"\u001b[39m\u001b[38;5;124mSalted partition distribution : \u001b[39m\u001b[38;5;132;01m{\u001b[39;00mpartition_count_salted\u001b[38;5;132;01m}\u001b[39;00m\u001b[38;5;124m\"\u001b[39m)\n\u001b[1;32m---> 61\u001b[0m \u001b[43mcompare_partitions\u001b[49m\u001b[43m(\u001b[49m\u001b[43m)\u001b[49m\n",
      "Cell \u001b[1;32mIn[45], line 50\u001b[0m, in \u001b[0;36mcompare_partitions\u001b[1;34m()\u001b[0m\n\u001b[0;32m     48\u001b[0m \u001b[38;5;28mprint\u001b[39m(\u001b[38;5;124m\"\u001b[39m\u001b[38;5;130;01m\\n\u001b[39;00m\u001b[38;5;124m==================Partition Analisys=============\u001b[39m\u001b[38;5;124m\"\u001b[39m)\n\u001b[0;32m     49\u001b[0m \u001b[38;5;66;03m#Check partition distribution\u001b[39;00m\n\u001b[1;32m---> 50\u001b[0m partition_count \u001b[38;5;241m=\u001b[39m \u001b[43mskewd_df\u001b[49m\u001b[38;5;241;43m.\u001b[39;49m\u001b[43mrdd\u001b[49m\u001b[38;5;241m.\u001b[39mmapPartitions(\u001b[38;5;28;01mlambda\u001b[39;00m x: [\u001b[38;5;28msum\u001b[39m(\u001b[38;5;241m1\u001b[39m \u001b[38;5;28;01mfor\u001b[39;00m _ \u001b[38;5;129;01min\u001b[39;00m x)])\u001b[38;5;241m.\u001b[39mcollect()\n\u001b[0;32m     51\u001b[0m \u001b[38;5;28mprint\u001b[39m(\u001b[38;5;124mf\u001b[39m\u001b[38;5;124m\"\u001b[39m\u001b[38;5;124mOriginal partition didtribution : \u001b[39m\u001b[38;5;132;01m{\u001b[39;00mpartition_count\u001b[38;5;132;01m}\u001b[39;00m\u001b[38;5;124m\"\u001b[39m)\n\u001b[0;32m     53\u001b[0m \u001b[38;5;66;03m#With salting\u001b[39;00m\n",
      "File \u001b[1;32m~\\AppData\\Local\\Packages\\PythonSoftwareFoundation.Python.3.12_qbz5n2kfra8p0\\LocalCache\\local-packages\\Python312\\site-packages\\pyspark\\sql\\connect\\dataframe.py:2203\u001b[0m, in \u001b[0;36mDataFrame.rdd\u001b[1;34m(self)\u001b[0m\n\u001b[0;32m   2201\u001b[0m \u001b[38;5;129m@property\u001b[39m\n\u001b[0;32m   2202\u001b[0m \u001b[38;5;28;01mdef\u001b[39;00m\u001b[38;5;250m \u001b[39m\u001b[38;5;21mrdd\u001b[39m(\u001b[38;5;28mself\u001b[39m) \u001b[38;5;241m-\u001b[39m\u001b[38;5;241m>\u001b[39m \u001b[38;5;124m\"\u001b[39m\u001b[38;5;124mRDD[Row]\u001b[39m\u001b[38;5;124m\"\u001b[39m:\n\u001b[1;32m-> 2203\u001b[0m     \u001b[38;5;28;01mraise\u001b[39;00m PySparkNotImplementedError(\n\u001b[0;32m   2204\u001b[0m         errorClass\u001b[38;5;241m=\u001b[39m\u001b[38;5;124m\"\u001b[39m\u001b[38;5;124mNOT_IMPLEMENTED\u001b[39m\u001b[38;5;124m\"\u001b[39m,\n\u001b[0;32m   2205\u001b[0m         messageParameters\u001b[38;5;241m=\u001b[39m{\u001b[38;5;124m\"\u001b[39m\u001b[38;5;124mfeature\u001b[39m\u001b[38;5;124m\"\u001b[39m: \u001b[38;5;124m\"\u001b[39m\u001b[38;5;124mrdd\u001b[39m\u001b[38;5;124m\"\u001b[39m},\n\u001b[0;32m   2206\u001b[0m     )\n",
      "\u001b[1;31mPySparkNotImplementedError\u001b[0m: [NOT_IMPLEMENTED] rdd is not implemented."
     ]
    }
   ],
   "source": [
    "# Method 1: Without salting (original skewed approach)\n",
    "def process_without_salting():\n",
    "    result = skewd_df.groupBy('key').agg(\n",
    "        sum('amount').alias('total_amount'),\n",
    "        avg('amount').alias('avarage_amount'),\n",
    "        count('*').alias(\"record_count\"),\n",
    "    )\n",
    "    return result\n",
    "\n",
    "#Method 2: With salting to handle skew\n",
    "def process_with_salting():\n",
    "    slat_factor = 10 #number of slats\n",
    "    # Step 1: Ass salt to the skewed key\n",
    "    salted_df = skewd_df.withColumn('salt', when(col('key')=='A', (rand()*slat_factor).cast('int')).otherwise(lit('0')))\\\n",
    "        .withColumn('salted_key', concat(col('key'), lit('_'), col('salt')))\n",
    "    \n",
    "    # Step 2 : Group by salted key first\n",
    "\n",
    "    intermediate_result = salted_df.groupBy(\"key\", \"salted_key\").agg(\n",
    "        sum(\"amount\").alias(\"partial_sum\"),\n",
    "        sum(lit(1)).alias('partial_count')\n",
    "    )\n",
    "\n",
    "    # Step 3 : Final ggregation to get original key result\n",
    "\n",
    "    final_result = intermediate_result.groupBy('key').agg(\n",
    "        sum('partial_sum').alias('total_amount'),\n",
    "        (sum('partial_sum')/sum('partial_count')).alias('avg_amount'),\n",
    "        sum('partial_count').alias('record_count')\n",
    "    )\n",
    "\n",
    "    return final_result\n",
    "\n",
    "\n",
    "# Execute both method\n",
    "print('================-------->Without Salting<--------==================')\n",
    "result_no_salt = process_without_salting()\n",
    "result_no_salt.show()\n",
    "\n",
    "\n",
    "print('================-------->With Salting<--------==================')\n",
    "result_salt = process_with_salting()\n",
    "result_salt.show()\n",
    "\n",
    "\n",
    "## # Performance comparison function\n",
    "def compare_partitions():\n",
    "    print(\"\\n==================Partition Analisys=============\")\n",
    "    #Check partition distribution\n",
    "    partition_count = skewd_df.rdd.mapPartitions(lambda x: [sum(1 for _ in x)]).collect()\n",
    "    print(f\"Original partition didtribution : {partition_count}\")\n",
    "\n",
    "    #With salting\n",
    "    salted_temp = skewd_df.rdd.withColumn(\"salt\", when(col(\"key\") == \"A\", (rand() * 10).cast(\"int\")).otherwise(lit(0)))\\\n",
    "        .withColumn(\"salted_key\", concat(col(\"key\"), lit(\"_\"), col('salt')))\n",
    "    \n",
    "    repartitioned_df = salted_temp.repartition(col('salted_key'))\n",
    "    partition_count_salted = repartitioned_df.mapPartitions(lambda x: [sum(1 for _ in x)]).collect()\n",
    "    print(f\"Salted partition distribution : {partition_count_salted}\")\n",
    "\n",
    "compare_partitions()\n",
    "\n",
    "\n",
    "\n",
    "\n"
   ]
  },
  {
   "cell_type": "code",
   "execution_count": null,
   "id": "41761f29",
   "metadata": {},
   "outputs": [],
   "source": []
  }
 ],
 "metadata": {
  "kernelspec": {
   "display_name": "Python 3",
   "language": "python",
   "name": "python3"
  },
  "language_info": {
   "codemirror_mode": {
    "name": "ipython",
    "version": 3
   },
   "file_extension": ".py",
   "mimetype": "text/x-python",
   "name": "python",
   "nbconvert_exporter": "python",
   "pygments_lexer": "ipython3",
   "version": "3.12.10"
  }
 },
 "nbformat": 4,
 "nbformat_minor": 5
}
