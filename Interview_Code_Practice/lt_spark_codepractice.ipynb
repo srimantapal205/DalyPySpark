{
 "cells": [
  {
   "cell_type": "markdown",
   "id": "55d6b1c4",
   "metadata": {},
   "source": [
    "## Spark code Practice"
   ]
  },
  {
   "cell_type": "code",
   "execution_count": null,
   "id": "4cc55171",
   "metadata": {},
   "outputs": [],
   "source": []
  },
  {
   "cell_type": "code",
   "execution_count": 2,
   "id": "518d69f0",
   "metadata": {},
   "outputs": [
    {
     "name": "stdout",
     "output_type": "stream",
     "text": [
      "+----------+-------------------+--------------------+------------+----------+----------------+----------+---------+---------+-------------+----------------------+----------------------+\n",
      "|COUNTRY_ID|               NAME|         NATIONALITY|COUNTRY_CODE|ISO_ALPHA2|         CAPITAL|POPULATION| AREA_KM2|REGION_ID|SUB_REGION_ID|INTERMEDIATE_REGION_ID|ORGANIZATION_REGION_ID|\n",
      "+----------+-------------------+--------------------+------------+----------+----------------+----------+---------+---------+-------------+----------------------+----------------------+\n",
      "|         1|        Afghanistan|              Afghan|         AFG|        AF|           Kabul|  38041754| 652230.0|       30|           30|                  NULL|                    30|\n",
      "|         2|            Albania|            Albanian|         ALB|        AL|          Tirana|   2880917|  28748.0|       20|           70|                  NULL|                    20|\n",
      "|         3|            Algeria|            Algerian|         DZA|        DZ|         Algiers|  43053054|2381741.0|       50|           40|                  NULL|                    20|\n",
      "|         4|     American Samoa|     American Samoan|         ASM|        AS|       Pago Pago|     55312|    199.0|       40|           20|                  NULL|                    30|\n",
      "|         5|            Andorra|            Andorran|         AND|        AD|Andorra la Vella|     77142|    468.0|       20|           70|                  NULL|                    20|\n",
      "|         6|             Angola|             Angolan|         AGO|        AO|          Luanda|  31825295|1246700.0|       50|          160|                    80|                    20|\n",
      "|         7|           Anguilla|           Anguillan|         AIA|        AI|      The Valley|     14869|     91.0|       10|           10|                    60|                    40|\n",
      "|         8|         Antarctica|           Antarctic|         ATA|        AQ| McMurdo Station|      1106|   1.42E7|       40|         NULL|                  NULL|                    30|\n",
      "|         9|Antigua and Barbuda|Antiguan or Barbudan|         ATG|        AG|      St. John's|     97118|    442.0|       10|           10|                    60|                    40|\n",
      "|        10|          Argentina|           Argentine|         ARG|        AR|    Buenos Aires|  44780677|2780400.0|       10|           10|                    40|                    40|\n",
      "|        11|            Armenia|            Armenian|         ARM|        AM|         Yerevan|   2957731|  29743.0|       30|          170|                  NULL|                    30|\n",
      "|        12|              Aruba|              Aruban|         ABW|        AW|      Oranjestad|    106314|    180.0|       10|           10|                    60|                    40|\n",
      "|        13|          Australia|          Australian|         AUS|        AU|        Canberra|  25203198|7692024.0|       40|           90|                  NULL|                    30|\n",
      "|        14|            Austria|            Austrian|         AUT|        AT|          Vienna|   8955102|  83871.0|       20|          150|                  NULL|                    20|\n",
      "|        15|         Azerbaijan|         Azerbaijani|         AZE|        AZ|            Baku|  10047718|  86600.0|       30|          170|                  NULL|                    30|\n",
      "|        16|            Bahamas|            Bahamian|         BHS|        BS|          Nassau|    389482|  13943.0|       10|           10|                    60|                    40|\n",
      "|        17|            Bahrain|            Bahraini|         BHR|        BH|          Manama|   1641172|    765.0|       30|          170|                  NULL|                    30|\n",
      "|        18|         Bangladesh|         Bangladeshi|         BGD|        BD|           Dhaka| 163046161| 147570.0|       30|           30|                  NULL|                    30|\n",
      "|        19|           Barbados|           Barbadian|         BRB|        BB|      Bridgetown|    287025|    430.0|       10|           10|                    60|                    40|\n",
      "|        20|            Belarus|          Belarusian|         BLR|        BY|           Minsk|   9452411| 207600.0|       20|          140|                  NULL|                    20|\n",
      "+----------+-------------------+--------------------+------------+----------+----------------+----------+---------+---------+-------------+----------------------+----------------------+\n",
      "only showing top 20 rows\n"
     ]
    }
   ],
   "source": [
    "df = spark.read.format(\"csv\").option('header', 'true').option('inferSchema', True).load('./data/countries.csv')\n",
    "df.show()"
   ]
  },
  {
   "cell_type": "markdown",
   "id": "629b81ed",
   "metadata": {},
   "source": [
    "## Read Json file"
   ]
  },
  {
   "cell_type": "markdown",
   "id": "55fea9b9",
   "metadata": {},
   "source": [
    "### Read single line json file"
   ]
  },
  {
   "cell_type": "code",
   "execution_count": 3,
   "id": "4575f7ba",
   "metadata": {},
   "outputs": [
    {
     "name": "stdout",
     "output_type": "stream",
     "text": [
      "+---------+----------------+------------+----------+----------------------+----------+-------------------+--------------------+----------------------+----------+---------+-------------+\n",
      "|AREA_KM2 |CAPITAL         |COUNTRY_CODE|COUNTRY_ID|INTERMEDIATE_REGION_ID|ISO_ALPHA2|NAME               |NATIONALITY         |ORGANIZATION_REGION_ID|POPULATION|REGION_ID|SUB_REGION_ID|\n",
      "+---------+----------------+------------+----------+----------------------+----------+-------------------+--------------------+----------------------+----------+---------+-------------+\n",
      "|652230.0 |Kabul           |AFG         |1         |NULL                  |AF        |Afghanistan        |Afghan              |30                    |38041754  |30       |30           |\n",
      "|28748.0  |Tirana          |ALB         |2         |NULL                  |AL        |Albania            |Albanian            |20                    |2880917   |20       |70           |\n",
      "|2381741.0|Algiers         |DZA         |3         |NULL                  |DZ        |Algeria            |Algerian            |20                    |43053054  |50       |40           |\n",
      "|199.0    |Pago Pago       |ASM         |4         |NULL                  |AS        |American Samoa     |American Samoan     |30                    |55312     |40       |20           |\n",
      "|468.0    |Andorra la Vella|AND         |5         |NULL                  |AD        |Andorra            |Andorran            |20                    |77142     |20       |70           |\n",
      "|1246700.0|Luanda          |AGO         |6         |80                    |AO        |Angola             |Angolan             |20                    |31825295  |50       |160          |\n",
      "|91.0     |The Valley      |AIA         |7         |60                    |AI        |Anguilla           |Anguillan           |40                    |14869     |10       |10           |\n",
      "|1.42E7   |McMurdo Station |ATA         |8         |NULL                  |AQ        |Antarctica         |Antarctic           |30                    |1106      |40       |NULL         |\n",
      "|442.0    |St. John's      |ATG         |9         |60                    |AG        |Antigua and Barbuda|Antiguan or Barbudan|40                    |97118     |10       |10           |\n",
      "|2780400.0|Buenos Aires    |ARG         |10        |40                    |AR        |Argentina          |Argentine           |40                    |44780677  |10       |10           |\n",
      "+---------+----------------+------------+----------+----------------------+----------+-------------------+--------------------+----------------------+----------+---------+-------------+\n",
      "only showing top 10 rows\n"
     ]
    }
   ],
   "source": [
    "\n",
    "df_single_json  = spark.read.format('json').load('./data/countries_single_line.json')\n",
    "df_single_json.show(10, False)"
   ]
  },
  {
   "cell_type": "markdown",
   "id": "121abff4",
   "metadata": {},
   "source": [
    "### Read multiline json"
   ]
  },
  {
   "cell_type": "code",
   "execution_count": 4,
   "id": "997dab4c",
   "metadata": {},
   "outputs": [
    {
     "name": "stdout",
     "output_type": "stream",
     "text": [
      "+---------+----------------+------------+----------+----------------------+----------+-------------------+--------------------+----------------------+----------+---------+-------------+\n",
      "|AREA_KM2 |CAPITAL         |COUNTRY_CODE|COUNTRY_ID|INTERMEDIATE_REGION_ID|ISO_ALPHA2|NAME               |NATIONALITY         |ORGANIZATION_REGION_ID|POPULATION|REGION_ID|SUB_REGION_ID|\n",
      "+---------+----------------+------------+----------+----------------------+----------+-------------------+--------------------+----------------------+----------+---------+-------------+\n",
      "|652230.0 |Kabul           |AFG         |1         |NULL                  |AF        |Afghanistan        |Afghan              |30                    |38041754  |30       |30           |\n",
      "|28748.0  |Tirana          |ALB         |2         |NULL                  |AL        |Albania            |Albanian            |20                    |2880917   |20       |70           |\n",
      "|2381741.0|Algiers         |DZA         |3         |NULL                  |DZ        |Algeria            |Algerian            |20                    |43053054  |50       |40           |\n",
      "|199.0    |Pago Pago       |ASM         |4         |NULL                  |AS        |American Samoa     |American Samoan     |30                    |55312     |40       |20           |\n",
      "|468.0    |Andorra la Vella|AND         |5         |NULL                  |AD        |Andorra            |Andorran            |20                    |77142     |20       |70           |\n",
      "|1246700.0|Luanda          |AGO         |6         |80                    |AO        |Angola             |Angolan             |20                    |31825295  |50       |160          |\n",
      "|91.0     |The Valley      |AIA         |7         |60                    |AI        |Anguilla           |Anguillan           |40                    |14869     |10       |10           |\n",
      "|1.42E7   |McMurdo Station |ATA         |8         |NULL                  |AQ        |Antarctica         |Antarctic           |30                    |1106      |40       |NULL         |\n",
      "|442.0    |St. John's      |ATG         |9         |60                    |AG        |Antigua and Barbuda|Antiguan or Barbudan|40                    |97118     |10       |10           |\n",
      "|2780400.0|Buenos Aires    |ARG         |10        |40                    |AR        |Argentina          |Argentine           |40                    |44780677  |10       |10           |\n",
      "+---------+----------------+------------+----------+----------------------+----------+-------------------+--------------------+----------------------+----------+---------+-------------+\n",
      "only showing top 10 rows\n"
     ]
    }
   ],
   "source": [
    "df_multiline_json = spark.read.format('json').option('multiline', 'true').load('./data/countries_multi_line.json')\n",
    "df_multiline_json.show(10, False)\n"
   ]
  },
  {
   "cell_type": "markdown",
   "id": "3f5c175f",
   "metadata": {},
   "source": [
    "### Read employee data "
   ]
  },
  {
   "cell_type": "code",
   "execution_count": 5,
   "id": "3370c205",
   "metadata": {},
   "outputs": [
    {
     "name": "stdout",
     "output_type": "stream",
     "text": [
      "+------+--------+----------+------+\n",
      "|emp_id|emp_name|manager_id|salary|\n",
      "+------+--------+----------+------+\n",
      "|1     |Alice   |NULL      |90000 |\n",
      "|2     |Bob     |1         |75000 |\n",
      "|3     |Charlie |7         |72000 |\n",
      "|4     |David   |7         |60000 |\n",
      "|5     |Eve     |2         |58000 |\n",
      "|6     |Frank   |3         |62000 |\n",
      "|7     |Grace   |3         |58000 |\n",
      "|8     |Hank    |7         |50000 |\n",
      "|9     |Ivy     |5         |53000 |\n",
      "|10    |Jack    |5         |51000 |\n",
      "+------+--------+----------+------+\n",
      "only showing top 10 rows\n"
     ]
    }
   ],
   "source": [
    "emp_df = spark.read.format('json').option('multiline', 'true').load('./data/employee.json')\n",
    "emp_df.show(10, False)"
   ]
  },
  {
   "cell_type": "markdown",
   "id": "65cff098",
   "metadata": {},
   "source": [
    "### CSV Without Column Names/Schema"
   ]
  },
  {
   "cell_type": "code",
   "execution_count": 6,
   "id": "2f4c1a2f",
   "metadata": {},
   "outputs": [
    {
     "name": "stdout",
     "output_type": "stream",
     "text": [
      "+------+--------+------+----------+\n",
      "|emp_id|emp_name|salary|manager_id|\n",
      "+------+--------+------+----------+\n",
      "|     1|   Alice| 90000|      NULL|\n",
      "|     2|     Bob| 75000|         1|\n",
      "|     3| Charlie| 72000|         1|\n",
      "|     4|   David| 60000|         2|\n",
      "|     5|     Eve| 58000|         2|\n",
      "|     6|   Frank| 62000|         3|\n",
      "|     7|   Grace| 61000|         3|\n",
      "|     8|    Hank| 50000|         4|\n",
      "|     9|     Ivy| 53000|         5|\n",
      "|    10|    Jack| 51000|         5|\n",
      "+------+--------+------+----------+\n",
      "\n"
     ]
    }
   ],
   "source": [
    "ew_data = spark.read.format('csv').load('./data/emp-without_header.csv')\n",
    "emp_df2 = ew_data.toDF('emp_id', 'emp_name','salary','manager_id')\n",
    "emp_df2.show()\n"
   ]
  },
  {
   "cell_type": "markdown",
   "id": "e211776a",
   "metadata": {},
   "source": [
    "### Find 3rd Highest Salary"
   ]
  },
  {
   "cell_type": "code",
   "execution_count": 7,
   "id": "f0bf3590",
   "metadata": {},
   "outputs": [
    {
     "name": "stderr",
     "output_type": "stream",
     "text": [
      "C:\\Users\\srima\\AppData\\Local\\Packages\\PythonSoftwareFoundation.Python.3.12_qbz5n2kfra8p0\\LocalCache\\local-packages\\Python312\\site-packages\\pyspark\\sql\\connect\\expressions.py:1091: UserWarning: WARN WindowExpression: No Partition Defined for Window operation! Moving all data to a single partition, this can cause serious performance degradation.\n",
      "  warnings.warn(\n"
     ]
    },
    {
     "name": "stdout",
     "output_type": "stream",
     "text": [
      "+------+--------+----------+------+--------+\n",
      "|emp_id|emp_name|manager_id|salary|sal_rank|\n",
      "+------+--------+----------+------+--------+\n",
      "|    12|     Leo|         7| 91000|       1|\n",
      "|     1|   Alice|      NULL| 90000|       2|\n",
      "|     2|     Bob|         1| 75000|       3|\n",
      "|     3| Charlie|         7| 72000|       4|\n",
      "|     6|   Frank|         3| 62000|       5|\n",
      "|     4|   David|         7| 60000|       6|\n",
      "|     5|     Eve|         2| 58000|       7|\n",
      "|     7|   Grace|         3| 58000|       7|\n",
      "|     9|     Ivy|         5| 53000|       9|\n",
      "|    10|    Jack|         5| 51000|      10|\n",
      "|     8|    Hank|         7| 50000|      11|\n",
      "|    11|   Kathy|         7| 48000|      12|\n",
      "|    13|     Mia|         7| 45000|      13|\n",
      "|    14|    Nina|         7| 44000|      14|\n",
      "+------+--------+----------+------+--------+\n",
      "\n",
      "+------+--------+----------+------+--------+\n",
      "|emp_id|emp_name|manager_id|salary|sal_rank|\n",
      "+------+--------+----------+------+--------+\n",
      "|     2|     Bob|         1| 75000|       3|\n",
      "+------+--------+----------+------+--------+\n",
      "\n"
     ]
    }
   ],
   "source": [
    "from pyspark.sql.functions import *\n",
    "from pyspark.sql.window import Window\n",
    "\n",
    "windowSpec = Window.orderBy(col('salary').desc())\n",
    "emp_df = emp_df.withColumn('sal_rank', rank().over(windowSpec))\n",
    "emp_df.show()\n",
    "thrid_highest_salary = emp_df.filter(col('sal_rank') ==3)\n",
    "thrid_highest_salary.show()\n",
    "\n",
    "\n",
    "\n"
   ]
  },
  {
   "cell_type": "markdown",
   "id": "bac5b0e5",
   "metadata": {},
   "source": [
    "### Filter Rows Where Employee Salary > Manager Salary\n"
   ]
  },
  {
   "cell_type": "code",
   "execution_count": 8,
   "id": "4ef452d7",
   "metadata": {},
   "outputs": [
    {
     "name": "stdout",
     "output_type": "stream",
     "text": [
      "+------+--------+----------+------+--------+------+--------+----------+------+--------+\n",
      "|emp_id|emp_name|manager_id|salary|sal_rank|emp_id|emp_name|manager_id|salary|sal_rank|\n",
      "+------+--------+----------+------+--------+------+--------+----------+------+--------+\n",
      "|     2|     Bob|         1| 75000|       3|     1|   Alice|      NULL| 90000|       2|\n",
      "|     6|   Frank|         3| 62000|       5|     3| Charlie|         7| 72000|       4|\n",
      "|     5|     Eve|         2| 58000|       7|     2|     Bob|         1| 75000|       3|\n",
      "|     7|   Grace|         3| 58000|       7|     3| Charlie|         7| 72000|       4|\n",
      "|     9|     Ivy|         5| 53000|       9|     5|     Eve|         2| 58000|       7|\n",
      "|    10|    Jack|         5| 51000|      10|     5|     Eve|         2| 58000|       7|\n",
      "|     8|    Hank|         7| 50000|      11|     7|   Grace|         3| 58000|       7|\n",
      "|    11|   Kathy|         7| 48000|      12|     7|   Grace|         3| 58000|       7|\n",
      "|    13|     Mia|         7| 45000|      13|     7|   Grace|         3| 58000|       7|\n",
      "|    14|    Nina|         7| 44000|      14|     7|   Grace|         3| 58000|       7|\n",
      "+------+--------+----------+------+--------+------+--------+----------+------+--------+\n",
      "\n"
     ]
    }
   ],
   "source": [
    "get_emp_df = emp_df.alias('emp') \n",
    "get_mgr_df = emp_df.alias('mgr')\n",
    "\n",
    "join_df = get_emp_df.join(get_mgr_df, get_mgr_df.emp_id == get_emp_df.manager_id, 'inner')\n",
    "result_df = join_df.filter( get_mgr_df.salary > get_emp_df.salary )\n",
    "result_df.show()"
   ]
  },
  {
   "cell_type": "code",
   "execution_count": null,
   "id": "d5a20528",
   "metadata": {},
   "outputs": [],
   "source": []
  }
 ],
 "metadata": {
  "kernelspec": {
   "display_name": "Python 3",
   "language": "python",
   "name": "python3"
  },
  "language_info": {
   "codemirror_mode": {
    "name": "ipython",
    "version": 3
   },
   "file_extension": ".py",
   "mimetype": "text/x-python",
   "name": "python",
   "nbconvert_exporter": "python",
   "pygments_lexer": "ipython3",
   "version": "3.12.10"
  }
 },
 "nbformat": 4,
 "nbformat_minor": 5
}
