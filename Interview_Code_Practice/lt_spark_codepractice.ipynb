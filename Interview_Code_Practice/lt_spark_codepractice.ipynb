{
 "cells": [
  {
   "cell_type": "markdown",
   "id": "55d6b1c4",
   "metadata": {},
   "source": [
    "## Spark code Practice"
   ]
  },
  {
   "cell_type": "code",
   "execution_count": 77,
   "id": "4cc55171",
   "metadata": {},
   "outputs": [],
   "source": [
    "from pyspark.sql import SparkSession\n",
    "from pyspark.sql.functions import *\n",
    "from pyspark.sql.window import Window\n",
    "from pyspark.sql.types import *\n",
    "\n",
    "spark = SparkSession.builder.appName(\"App\").getOrCreate()"
   ]
  },
  {
   "cell_type": "code",
   "execution_count": 78,
   "id": "518d69f0",
   "metadata": {},
   "outputs": [
    {
     "name": "stdout",
     "output_type": "stream",
     "text": [
      "+----------+-------------------+--------------------+------------+----------+----------------+----------+---------+---------+-------------+----------------------+----------------------+\n",
      "|COUNTRY_ID|               NAME|         NATIONALITY|COUNTRY_CODE|ISO_ALPHA2|         CAPITAL|POPULATION| AREA_KM2|REGION_ID|SUB_REGION_ID|INTERMEDIATE_REGION_ID|ORGANIZATION_REGION_ID|\n",
      "+----------+-------------------+--------------------+------------+----------+----------------+----------+---------+---------+-------------+----------------------+----------------------+\n",
      "|         1|        Afghanistan|              Afghan|         AFG|        AF|           Kabul|  38041754| 652230.0|       30|           30|                  NULL|                    30|\n",
      "|         2|            Albania|            Albanian|         ALB|        AL|          Tirana|   2880917|  28748.0|       20|           70|                  NULL|                    20|\n",
      "|         3|            Algeria|            Algerian|         DZA|        DZ|         Algiers|  43053054|2381741.0|       50|           40|                  NULL|                    20|\n",
      "|         4|     American Samoa|     American Samoan|         ASM|        AS|       Pago Pago|     55312|    199.0|       40|           20|                  NULL|                    30|\n",
      "|         5|            Andorra|            Andorran|         AND|        AD|Andorra la Vella|     77142|    468.0|       20|           70|                  NULL|                    20|\n",
      "|         6|             Angola|             Angolan|         AGO|        AO|          Luanda|  31825295|1246700.0|       50|          160|                    80|                    20|\n",
      "|         7|           Anguilla|           Anguillan|         AIA|        AI|      The Valley|     14869|     91.0|       10|           10|                    60|                    40|\n",
      "|         8|         Antarctica|           Antarctic|         ATA|        AQ| McMurdo Station|      1106|   1.42E7|       40|         NULL|                  NULL|                    30|\n",
      "|         9|Antigua and Barbuda|Antiguan or Barbudan|         ATG|        AG|      St. John's|     97118|    442.0|       10|           10|                    60|                    40|\n",
      "|        10|          Argentina|           Argentine|         ARG|        AR|    Buenos Aires|  44780677|2780400.0|       10|           10|                    40|                    40|\n",
      "|        11|            Armenia|            Armenian|         ARM|        AM|         Yerevan|   2957731|  29743.0|       30|          170|                  NULL|                    30|\n",
      "|        12|              Aruba|              Aruban|         ABW|        AW|      Oranjestad|    106314|    180.0|       10|           10|                    60|                    40|\n",
      "|        13|          Australia|          Australian|         AUS|        AU|        Canberra|  25203198|7692024.0|       40|           90|                  NULL|                    30|\n",
      "|        14|            Austria|            Austrian|         AUT|        AT|          Vienna|   8955102|  83871.0|       20|          150|                  NULL|                    20|\n",
      "|        15|         Azerbaijan|         Azerbaijani|         AZE|        AZ|            Baku|  10047718|  86600.0|       30|          170|                  NULL|                    30|\n",
      "|        16|            Bahamas|            Bahamian|         BHS|        BS|          Nassau|    389482|  13943.0|       10|           10|                    60|                    40|\n",
      "|        17|            Bahrain|            Bahraini|         BHR|        BH|          Manama|   1641172|    765.0|       30|          170|                  NULL|                    30|\n",
      "|        18|         Bangladesh|         Bangladeshi|         BGD|        BD|           Dhaka| 163046161| 147570.0|       30|           30|                  NULL|                    30|\n",
      "|        19|           Barbados|           Barbadian|         BRB|        BB|      Bridgetown|    287025|    430.0|       10|           10|                    60|                    40|\n",
      "|        20|            Belarus|          Belarusian|         BLR|        BY|           Minsk|   9452411| 207600.0|       20|          140|                  NULL|                    20|\n",
      "+----------+-------------------+--------------------+------------+----------+----------------+----------+---------+---------+-------------+----------------------+----------------------+\n",
      "only showing top 20 rows\n"
     ]
    }
   ],
   "source": [
    "df = spark.read.format(\"csv\").option('header', 'true').option('inferSchema', True).load('./data/countries.csv')\n",
    "df.show()"
   ]
  },
  {
   "cell_type": "markdown",
   "id": "629b81ed",
   "metadata": {},
   "source": [
    "## Read Json file"
   ]
  },
  {
   "cell_type": "markdown",
   "id": "55fea9b9",
   "metadata": {},
   "source": [
    "### Read single line json file"
   ]
  },
  {
   "cell_type": "code",
   "execution_count": 79,
   "id": "4575f7ba",
   "metadata": {},
   "outputs": [
    {
     "name": "stdout",
     "output_type": "stream",
     "text": [
      "+---------+----------------+------------+----------+----------------------+----------+-------------------+--------------------+----------------------+----------+---------+-------------+\n",
      "|AREA_KM2 |CAPITAL         |COUNTRY_CODE|COUNTRY_ID|INTERMEDIATE_REGION_ID|ISO_ALPHA2|NAME               |NATIONALITY         |ORGANIZATION_REGION_ID|POPULATION|REGION_ID|SUB_REGION_ID|\n",
      "+---------+----------------+------------+----------+----------------------+----------+-------------------+--------------------+----------------------+----------+---------+-------------+\n",
      "|652230.0 |Kabul           |AFG         |1         |NULL                  |AF        |Afghanistan        |Afghan              |30                    |38041754  |30       |30           |\n",
      "|28748.0  |Tirana          |ALB         |2         |NULL                  |AL        |Albania            |Albanian            |20                    |2880917   |20       |70           |\n",
      "|2381741.0|Algiers         |DZA         |3         |NULL                  |DZ        |Algeria            |Algerian            |20                    |43053054  |50       |40           |\n",
      "|199.0    |Pago Pago       |ASM         |4         |NULL                  |AS        |American Samoa     |American Samoan     |30                    |55312     |40       |20           |\n",
      "|468.0    |Andorra la Vella|AND         |5         |NULL                  |AD        |Andorra            |Andorran            |20                    |77142     |20       |70           |\n",
      "|1246700.0|Luanda          |AGO         |6         |80                    |AO        |Angola             |Angolan             |20                    |31825295  |50       |160          |\n",
      "|91.0     |The Valley      |AIA         |7         |60                    |AI        |Anguilla           |Anguillan           |40                    |14869     |10       |10           |\n",
      "|1.42E7   |McMurdo Station |ATA         |8         |NULL                  |AQ        |Antarctica         |Antarctic           |30                    |1106      |40       |NULL         |\n",
      "|442.0    |St. John's      |ATG         |9         |60                    |AG        |Antigua and Barbuda|Antiguan or Barbudan|40                    |97118     |10       |10           |\n",
      "|2780400.0|Buenos Aires    |ARG         |10        |40                    |AR        |Argentina          |Argentine           |40                    |44780677  |10       |10           |\n",
      "+---------+----------------+------------+----------+----------------------+----------+-------------------+--------------------+----------------------+----------+---------+-------------+\n",
      "only showing top 10 rows\n"
     ]
    }
   ],
   "source": [
    "\n",
    "df_single_json  = spark.read.format('json').load('./data/countries_single_line.json')\n",
    "df_single_json.show(10, False)"
   ]
  },
  {
   "cell_type": "markdown",
   "id": "121abff4",
   "metadata": {},
   "source": [
    "### Read multiline json"
   ]
  },
  {
   "cell_type": "code",
   "execution_count": 80,
   "id": "997dab4c",
   "metadata": {},
   "outputs": [
    {
     "name": "stdout",
     "output_type": "stream",
     "text": [
      "+---------+----------------+------------+----------+----------------------+----------+-------------------+--------------------+----------------------+----------+---------+-------------+\n",
      "|AREA_KM2 |CAPITAL         |COUNTRY_CODE|COUNTRY_ID|INTERMEDIATE_REGION_ID|ISO_ALPHA2|NAME               |NATIONALITY         |ORGANIZATION_REGION_ID|POPULATION|REGION_ID|SUB_REGION_ID|\n",
      "+---------+----------------+------------+----------+----------------------+----------+-------------------+--------------------+----------------------+----------+---------+-------------+\n",
      "|652230.0 |Kabul           |AFG         |1         |NULL                  |AF        |Afghanistan        |Afghan              |30                    |38041754  |30       |30           |\n",
      "|28748.0  |Tirana          |ALB         |2         |NULL                  |AL        |Albania            |Albanian            |20                    |2880917   |20       |70           |\n",
      "|2381741.0|Algiers         |DZA         |3         |NULL                  |DZ        |Algeria            |Algerian            |20                    |43053054  |50       |40           |\n",
      "|199.0    |Pago Pago       |ASM         |4         |NULL                  |AS        |American Samoa     |American Samoan     |30                    |55312     |40       |20           |\n",
      "|468.0    |Andorra la Vella|AND         |5         |NULL                  |AD        |Andorra            |Andorran            |20                    |77142     |20       |70           |\n",
      "|1246700.0|Luanda          |AGO         |6         |80                    |AO        |Angola             |Angolan             |20                    |31825295  |50       |160          |\n",
      "|91.0     |The Valley      |AIA         |7         |60                    |AI        |Anguilla           |Anguillan           |40                    |14869     |10       |10           |\n",
      "|1.42E7   |McMurdo Station |ATA         |8         |NULL                  |AQ        |Antarctica         |Antarctic           |30                    |1106      |40       |NULL         |\n",
      "|442.0    |St. John's      |ATG         |9         |60                    |AG        |Antigua and Barbuda|Antiguan or Barbudan|40                    |97118     |10       |10           |\n",
      "|2780400.0|Buenos Aires    |ARG         |10        |40                    |AR        |Argentina          |Argentine           |40                    |44780677  |10       |10           |\n",
      "+---------+----------------+------------+----------+----------------------+----------+-------------------+--------------------+----------------------+----------+---------+-------------+\n",
      "only showing top 10 rows\n"
     ]
    }
   ],
   "source": [
    "df_multiline_json = spark.read.format('json').option('multiline', 'true').load('./data/countries_multi_line.json')\n",
    "df_multiline_json.show(10, False)\n"
   ]
  },
  {
   "cell_type": "markdown",
   "id": "3f5c175f",
   "metadata": {},
   "source": [
    "### Read employee data "
   ]
  },
  {
   "cell_type": "code",
   "execution_count": 81,
   "id": "3370c205",
   "metadata": {},
   "outputs": [
    {
     "name": "stdout",
     "output_type": "stream",
     "text": [
      "+------+--------+----------+------+\n",
      "|emp_id|emp_name|manager_id|salary|\n",
      "+------+--------+----------+------+\n",
      "|1     |Alice   |NULL      |90000 |\n",
      "|2     |Bob     |1         |75000 |\n",
      "|3     |Charlie |7         |72000 |\n",
      "|4     |David   |7         |60000 |\n",
      "|5     |Eve     |2         |58000 |\n",
      "|6     |Frank   |3         |62000 |\n",
      "|7     |Grace   |3         |58000 |\n",
      "|8     |Hank    |7         |50000 |\n",
      "|9     |Ivy     |5         |53000 |\n",
      "|10    |Jack    |5         |51000 |\n",
      "+------+--------+----------+------+\n",
      "only showing top 10 rows\n"
     ]
    }
   ],
   "source": [
    "emp_df = spark.read.format('json').option('multiline', 'true').load('./data/employee.json')\n",
    "emp_df.show(10, False)"
   ]
  },
  {
   "cell_type": "markdown",
   "id": "65cff098",
   "metadata": {},
   "source": [
    "### CSV Without Column Names/Schema"
   ]
  },
  {
   "cell_type": "code",
   "execution_count": 82,
   "id": "2f4c1a2f",
   "metadata": {},
   "outputs": [
    {
     "name": "stdout",
     "output_type": "stream",
     "text": [
      "+------+--------+------+----------+\n",
      "|emp_id|emp_name|salary|manager_id|\n",
      "+------+--------+------+----------+\n",
      "|     1|   Alice| 90000|      NULL|\n",
      "|     2|     Bob| 75000|         1|\n",
      "|     3| Charlie| 72000|         1|\n",
      "|     4|   David| 60000|         2|\n",
      "|     5|     Eve| 58000|         2|\n",
      "|     6|   Frank| 62000|         3|\n",
      "|     7|   Grace| 61000|         3|\n",
      "|     8|    Hank| 50000|         4|\n",
      "|     9|     Ivy| 53000|         5|\n",
      "|    10|    Jack| 51000|         5|\n",
      "+------+--------+------+----------+\n",
      "\n"
     ]
    }
   ],
   "source": [
    "ew_data = spark.read.format('csv').load('./data/emp-without_header.csv')\n",
    "emp_df2 = ew_data.toDF('emp_id', 'emp_name','salary','manager_id')\n",
    "emp_df2.show()\n"
   ]
  },
  {
   "cell_type": "markdown",
   "id": "e211776a",
   "metadata": {},
   "source": [
    "### Find 3rd Highest Salary"
   ]
  },
  {
   "cell_type": "code",
   "execution_count": 83,
   "id": "f0bf3590",
   "metadata": {},
   "outputs": [
    {
     "name": "stdout",
     "output_type": "stream",
     "text": [
      "+------+--------+----------+------+--------+\n",
      "|emp_id|emp_name|manager_id|salary|sal_rank|\n",
      "+------+--------+----------+------+--------+\n",
      "|    12|     Leo|         7| 91000|       1|\n",
      "|     1|   Alice|      NULL| 90000|       2|\n",
      "|     2|     Bob|         1| 75000|       3|\n",
      "|     3| Charlie|         7| 72000|       4|\n",
      "|     6|   Frank|         3| 62000|       5|\n",
      "|     4|   David|         7| 60000|       6|\n",
      "|     5|     Eve|         2| 58000|       7|\n",
      "|     7|   Grace|         3| 58000|       7|\n",
      "|     9|     Ivy|         5| 53000|       9|\n",
      "|    10|    Jack|         5| 51000|      10|\n",
      "|     8|    Hank|         7| 50000|      11|\n",
      "|    11|   Kathy|         7| 48000|      12|\n",
      "|    13|     Mia|         7| 45000|      13|\n",
      "|    14|    Nina|         7| 44000|      14|\n",
      "+------+--------+----------+------+--------+\n",
      "\n"
     ]
    },
    {
     "ename": "KeyboardInterrupt",
     "evalue": "",
     "output_type": "error",
     "traceback": [
      "\u001b[1;31m---------------------------------------------------------------------------\u001b[0m",
      "\u001b[1;31mKeyboardInterrupt\u001b[0m                         Traceback (most recent call last)",
      "Cell \u001b[1;32mIn[83], line 8\u001b[0m\n\u001b[0;32m      6\u001b[0m emp_df\u001b[38;5;241m.\u001b[39mshow()\n\u001b[0;32m      7\u001b[0m thrid_highest_salary \u001b[38;5;241m=\u001b[39m emp_df\u001b[38;5;241m.\u001b[39mfilter(col(\u001b[38;5;124m'\u001b[39m\u001b[38;5;124msal_rank\u001b[39m\u001b[38;5;124m'\u001b[39m) \u001b[38;5;241m==\u001b[39m\u001b[38;5;241m3\u001b[39m)\n\u001b[1;32m----> 8\u001b[0m \u001b[43mthrid_highest_salary\u001b[49m\u001b[38;5;241;43m.\u001b[39;49m\u001b[43mshow\u001b[49m\u001b[43m(\u001b[49m\u001b[43m)\u001b[49m\n",
      "File \u001b[1;32m~\\AppData\\Local\\Packages\\PythonSoftwareFoundation.Python.3.12_qbz5n2kfra8p0\\LocalCache\\local-packages\\Python312\\site-packages\\pyspark\\sql\\connect\\dataframe.py:1116\u001b[0m, in \u001b[0;36mDataFrame.show\u001b[1;34m(self, n, truncate, vertical)\u001b[0m\n\u001b[0;32m   1115\u001b[0m \u001b[38;5;28;01mdef\u001b[39;00m\u001b[38;5;250m \u001b[39m\u001b[38;5;21mshow\u001b[39m(\u001b[38;5;28mself\u001b[39m, n: \u001b[38;5;28mint\u001b[39m \u001b[38;5;241m=\u001b[39m \u001b[38;5;241m20\u001b[39m, truncate: Union[\u001b[38;5;28mbool\u001b[39m, \u001b[38;5;28mint\u001b[39m] \u001b[38;5;241m=\u001b[39m \u001b[38;5;28;01mTrue\u001b[39;00m, vertical: \u001b[38;5;28mbool\u001b[39m \u001b[38;5;241m=\u001b[39m \u001b[38;5;28;01mFalse\u001b[39;00m) \u001b[38;5;241m-\u001b[39m\u001b[38;5;241m>\u001b[39m \u001b[38;5;28;01mNone\u001b[39;00m:\n\u001b[1;32m-> 1116\u001b[0m     \u001b[38;5;28mprint\u001b[39m(\u001b[38;5;28;43mself\u001b[39;49m\u001b[38;5;241;43m.\u001b[39;49m\u001b[43m_show_string\u001b[49m\u001b[43m(\u001b[49m\u001b[43mn\u001b[49m\u001b[43m,\u001b[49m\u001b[43m \u001b[49m\u001b[43mtruncate\u001b[49m\u001b[43m,\u001b[49m\u001b[43m \u001b[49m\u001b[43mvertical\u001b[49m\u001b[43m)\u001b[49m)\n",
      "File \u001b[1;32m~\\AppData\\Local\\Packages\\PythonSoftwareFoundation.Python.3.12_qbz5n2kfra8p0\\LocalCache\\local-packages\\Python312\\site-packages\\pyspark\\sql\\connect\\dataframe.py:869\u001b[0m, in \u001b[0;36mDataFrame._show_string\u001b[1;34m(self, n, truncate, vertical)\u001b[0m\n\u001b[0;32m    852\u001b[0m     \u001b[38;5;28;01mexcept\u001b[39;00m \u001b[38;5;167;01mValueError\u001b[39;00m:\n\u001b[0;32m    853\u001b[0m         \u001b[38;5;28;01mraise\u001b[39;00m PySparkTypeError(\n\u001b[0;32m    854\u001b[0m             errorClass\u001b[38;5;241m=\u001b[39m\u001b[38;5;124m\"\u001b[39m\u001b[38;5;124mNOT_BOOL\u001b[39m\u001b[38;5;124m\"\u001b[39m,\n\u001b[0;32m    855\u001b[0m             messageParameters\u001b[38;5;241m=\u001b[39m{\n\u001b[1;32m   (...)\u001b[0m\n\u001b[0;32m    858\u001b[0m             },\n\u001b[0;32m    859\u001b[0m         )\n\u001b[0;32m    861\u001b[0m table, _ \u001b[38;5;241m=\u001b[39m \u001b[43mDataFrame\u001b[49m\u001b[43m(\u001b[49m\n\u001b[0;32m    862\u001b[0m \u001b[43m    \u001b[49m\u001b[43mplan\u001b[49m\u001b[38;5;241;43m.\u001b[39;49m\u001b[43mShowString\u001b[49m\u001b[43m(\u001b[49m\n\u001b[0;32m    863\u001b[0m \u001b[43m        \u001b[49m\u001b[43mchild\u001b[49m\u001b[38;5;241;43m=\u001b[39;49m\u001b[38;5;28;43mself\u001b[39;49m\u001b[38;5;241;43m.\u001b[39;49m\u001b[43m_plan\u001b[49m\u001b[43m,\u001b[49m\n\u001b[0;32m    864\u001b[0m \u001b[43m        \u001b[49m\u001b[43mnum_rows\u001b[49m\u001b[38;5;241;43m=\u001b[39;49m\u001b[43mn\u001b[49m\u001b[43m,\u001b[49m\n\u001b[0;32m    865\u001b[0m \u001b[43m        \u001b[49m\u001b[43mtruncate\u001b[49m\u001b[38;5;241;43m=\u001b[39;49m\u001b[43m_truncate\u001b[49m\u001b[43m,\u001b[49m\n\u001b[0;32m    866\u001b[0m \u001b[43m        \u001b[49m\u001b[43mvertical\u001b[49m\u001b[38;5;241;43m=\u001b[39;49m\u001b[43mvertical\u001b[49m\u001b[43m,\u001b[49m\n\u001b[0;32m    867\u001b[0m \u001b[43m    \u001b[49m\u001b[43m)\u001b[49m\u001b[43m,\u001b[49m\n\u001b[0;32m    868\u001b[0m \u001b[43m    \u001b[49m\u001b[43msession\u001b[49m\u001b[38;5;241;43m=\u001b[39;49m\u001b[38;5;28;43mself\u001b[39;49m\u001b[38;5;241;43m.\u001b[39;49m\u001b[43m_session\u001b[49m\u001b[43m,\u001b[49m\n\u001b[1;32m--> 869\u001b[0m \u001b[43m\u001b[49m\u001b[43m)\u001b[49m\u001b[38;5;241;43m.\u001b[39;49m\u001b[43m_to_table\u001b[49m\u001b[43m(\u001b[49m\u001b[43m)\u001b[49m\n\u001b[0;32m    870\u001b[0m \u001b[38;5;28;01mreturn\u001b[39;00m table[\u001b[38;5;241m0\u001b[39m][\u001b[38;5;241m0\u001b[39m]\u001b[38;5;241m.\u001b[39mas_py()\n",
      "File \u001b[1;32m~\\AppData\\Local\\Packages\\PythonSoftwareFoundation.Python.3.12_qbz5n2kfra8p0\\LocalCache\\local-packages\\Python312\\site-packages\\pyspark\\sql\\connect\\dataframe.py:1791\u001b[0m, in \u001b[0;36mDataFrame._to_table\u001b[1;34m(self)\u001b[0m\n\u001b[0;32m   1789\u001b[0m \u001b[38;5;28;01mdef\u001b[39;00m\u001b[38;5;250m \u001b[39m\u001b[38;5;21m_to_table\u001b[39m(\u001b[38;5;28mself\u001b[39m) \u001b[38;5;241m-\u001b[39m\u001b[38;5;241m>\u001b[39m Tuple[\u001b[38;5;124m\"\u001b[39m\u001b[38;5;124mpa.Table\u001b[39m\u001b[38;5;124m\"\u001b[39m, Optional[StructType]]:\n\u001b[0;32m   1790\u001b[0m     query \u001b[38;5;241m=\u001b[39m \u001b[38;5;28mself\u001b[39m\u001b[38;5;241m.\u001b[39m_plan\u001b[38;5;241m.\u001b[39mto_proto(\u001b[38;5;28mself\u001b[39m\u001b[38;5;241m.\u001b[39m_session\u001b[38;5;241m.\u001b[39mclient)\n\u001b[1;32m-> 1791\u001b[0m     table, schema, \u001b[38;5;28mself\u001b[39m\u001b[38;5;241m.\u001b[39m_execution_info \u001b[38;5;241m=\u001b[39m \u001b[38;5;28;43mself\u001b[39;49m\u001b[38;5;241;43m.\u001b[39;49m\u001b[43m_session\u001b[49m\u001b[38;5;241;43m.\u001b[39;49m\u001b[43mclient\u001b[49m\u001b[38;5;241;43m.\u001b[39;49m\u001b[43mto_table\u001b[49m\u001b[43m(\u001b[49m\n\u001b[0;32m   1792\u001b[0m \u001b[43m        \u001b[49m\u001b[43mquery\u001b[49m\u001b[43m,\u001b[49m\u001b[43m \u001b[49m\u001b[38;5;28;43mself\u001b[39;49m\u001b[38;5;241;43m.\u001b[39;49m\u001b[43m_plan\u001b[49m\u001b[38;5;241;43m.\u001b[39;49m\u001b[43mobservations\u001b[49m\n\u001b[0;32m   1793\u001b[0m \u001b[43m    \u001b[49m\u001b[43m)\u001b[49m\n\u001b[0;32m   1794\u001b[0m     \u001b[38;5;28;01massert\u001b[39;00m table \u001b[38;5;129;01mis\u001b[39;00m \u001b[38;5;129;01mnot\u001b[39;00m \u001b[38;5;28;01mNone\u001b[39;00m\n\u001b[0;32m   1795\u001b[0m     \u001b[38;5;28;01mreturn\u001b[39;00m (table, schema)\n",
      "File \u001b[1;32m~\\AppData\\Local\\Packages\\PythonSoftwareFoundation.Python.3.12_qbz5n2kfra8p0\\LocalCache\\local-packages\\Python312\\site-packages\\pyspark\\sql\\connect\\client\\core.py:925\u001b[0m, in \u001b[0;36mSparkConnectClient.to_table\u001b[1;34m(self, plan, observations)\u001b[0m\n\u001b[0;32m    923\u001b[0m req \u001b[38;5;241m=\u001b[39m \u001b[38;5;28mself\u001b[39m\u001b[38;5;241m.\u001b[39m_execute_plan_request_with_metadata()\n\u001b[0;32m    924\u001b[0m req\u001b[38;5;241m.\u001b[39mplan\u001b[38;5;241m.\u001b[39mCopyFrom(plan)\n\u001b[1;32m--> 925\u001b[0m table, schema, metrics, observed_metrics, _ \u001b[38;5;241m=\u001b[39m \u001b[38;5;28;43mself\u001b[39;49m\u001b[38;5;241;43m.\u001b[39;49m\u001b[43m_execute_and_fetch\u001b[49m\u001b[43m(\u001b[49m\u001b[43mreq\u001b[49m\u001b[43m,\u001b[49m\u001b[43m \u001b[49m\u001b[43mobservations\u001b[49m\u001b[43m)\u001b[49m\n\u001b[0;32m    927\u001b[0m \u001b[38;5;66;03m# Create a query execution object.\u001b[39;00m\n\u001b[0;32m    928\u001b[0m ei \u001b[38;5;241m=\u001b[39m ExecutionInfo(metrics, observed_metrics)\n",
      "File \u001b[1;32m~\\AppData\\Local\\Packages\\PythonSoftwareFoundation.Python.3.12_qbz5n2kfra8p0\\LocalCache\\local-packages\\Python312\\site-packages\\pyspark\\sql\\connect\\client\\core.py:1560\u001b[0m, in \u001b[0;36mSparkConnectClient._execute_and_fetch\u001b[1;34m(self, req, observations, self_destruct)\u001b[0m\n\u001b[0;32m   1557\u001b[0m properties: Dict[\u001b[38;5;28mstr\u001b[39m, Any] \u001b[38;5;241m=\u001b[39m {}\n\u001b[0;32m   1559\u001b[0m \u001b[38;5;28;01mwith\u001b[39;00m Progress(handlers\u001b[38;5;241m=\u001b[39m\u001b[38;5;28mself\u001b[39m\u001b[38;5;241m.\u001b[39m_progress_handlers, operation_id\u001b[38;5;241m=\u001b[39mreq\u001b[38;5;241m.\u001b[39moperation_id) \u001b[38;5;28;01mas\u001b[39;00m progress:\n\u001b[1;32m-> 1560\u001b[0m \u001b[43m    \u001b[49m\u001b[38;5;28;43;01mfor\u001b[39;49;00m\u001b[43m \u001b[49m\u001b[43mresponse\u001b[49m\u001b[43m \u001b[49m\u001b[38;5;129;43;01min\u001b[39;49;00m\u001b[43m \u001b[49m\u001b[38;5;28;43mself\u001b[39;49m\u001b[38;5;241;43m.\u001b[39;49m\u001b[43m_execute_and_fetch_as_iterator\u001b[49m\u001b[43m(\u001b[49m\n\u001b[0;32m   1561\u001b[0m \u001b[43m        \u001b[49m\u001b[43mreq\u001b[49m\u001b[43m,\u001b[49m\u001b[43m \u001b[49m\u001b[43mobservations\u001b[49m\u001b[43m,\u001b[49m\u001b[43m \u001b[49m\u001b[43mprogress\u001b[49m\u001b[38;5;241;43m=\u001b[39;49m\u001b[43mprogress\u001b[49m\n\u001b[0;32m   1562\u001b[0m \u001b[43m    \u001b[49m\u001b[43m)\u001b[49m\u001b[43m:\u001b[49m\n\u001b[0;32m   1563\u001b[0m \u001b[43m        \u001b[49m\u001b[38;5;28;43;01mif\u001b[39;49;00m\u001b[43m \u001b[49m\u001b[38;5;28;43misinstance\u001b[39;49m\u001b[43m(\u001b[49m\u001b[43mresponse\u001b[49m\u001b[43m,\u001b[49m\u001b[43m \u001b[49m\u001b[43mStructType\u001b[49m\u001b[43m)\u001b[49m\u001b[43m:\u001b[49m\n\u001b[0;32m   1564\u001b[0m \u001b[43m            \u001b[49m\u001b[43mschema\u001b[49m\u001b[43m \u001b[49m\u001b[38;5;241;43m=\u001b[39;49m\u001b[43m \u001b[49m\u001b[43mresponse\u001b[49m\n",
      "File \u001b[1;32m~\\AppData\\Local\\Packages\\PythonSoftwareFoundation.Python.3.12_qbz5n2kfra8p0\\LocalCache\\local-packages\\Python312\\site-packages\\pyspark\\sql\\connect\\client\\core.py:1535\u001b[0m, in \u001b[0;36mSparkConnectClient._execute_and_fetch_as_iterator\u001b[1;34m(self, req, observations, progress)\u001b[0m\n\u001b[0;32m   1533\u001b[0m         progress\u001b[38;5;241m.\u001b[39mfinish()\n\u001b[0;32m   1534\u001b[0m     \u001b[38;5;28mself\u001b[39m\u001b[38;5;241m.\u001b[39minterrupt_operation(req\u001b[38;5;241m.\u001b[39moperation_id)\n\u001b[1;32m-> 1535\u001b[0m     \u001b[38;5;28;01mraise\u001b[39;00m kb\n\u001b[0;32m   1536\u001b[0m \u001b[38;5;28;01mexcept\u001b[39;00m \u001b[38;5;167;01mException\u001b[39;00m \u001b[38;5;28;01mas\u001b[39;00m error:\n\u001b[0;32m   1537\u001b[0m     \u001b[38;5;28mself\u001b[39m\u001b[38;5;241m.\u001b[39m_handle_error(error)\n",
      "File \u001b[1;32m~\\AppData\\Local\\Packages\\PythonSoftwareFoundation.Python.3.12_qbz5n2kfra8p0\\LocalCache\\local-packages\\Python312\\site-packages\\pyspark\\sql\\connect\\client\\core.py:1523\u001b[0m, in \u001b[0;36mSparkConnectClient._execute_and_fetch_as_iterator\u001b[1;34m(self, req, observations, progress)\u001b[0m\n\u001b[0;32m   1518\u001b[0m \u001b[38;5;28;01mif\u001b[39;00m \u001b[38;5;28mself\u001b[39m\u001b[38;5;241m.\u001b[39m_use_reattachable_execute:\n\u001b[0;32m   1519\u001b[0m     \u001b[38;5;66;03m# Don't use retryHandler - own retry handling is inside.\u001b[39;00m\n\u001b[0;32m   1520\u001b[0m     generator \u001b[38;5;241m=\u001b[39m ExecutePlanResponseReattachableIterator(\n\u001b[0;32m   1521\u001b[0m         req, \u001b[38;5;28mself\u001b[39m\u001b[38;5;241m.\u001b[39m_stub, \u001b[38;5;28mself\u001b[39m\u001b[38;5;241m.\u001b[39m_retrying, \u001b[38;5;28mself\u001b[39m\u001b[38;5;241m.\u001b[39m_builder\u001b[38;5;241m.\u001b[39mmetadata()\n\u001b[0;32m   1522\u001b[0m     )\n\u001b[1;32m-> 1523\u001b[0m \u001b[43m    \u001b[49m\u001b[38;5;28;43;01mfor\u001b[39;49;00m\u001b[43m \u001b[49m\u001b[43mb\u001b[49m\u001b[43m \u001b[49m\u001b[38;5;129;43;01min\u001b[39;49;00m\u001b[43m \u001b[49m\u001b[43mgenerator\u001b[49m\u001b[43m:\u001b[49m\n\u001b[0;32m   1524\u001b[0m \u001b[43m        \u001b[49m\u001b[38;5;28;43;01myield from\u001b[39;49;00m\u001b[43m \u001b[49m\u001b[43mhandle_response\u001b[49m\u001b[43m(\u001b[49m\u001b[43mb\u001b[49m\u001b[43m)\u001b[49m\n\u001b[0;32m   1525\u001b[0m \u001b[38;5;28;01melse\u001b[39;00m:\n",
      "File \u001b[1;32m<frozen _collections_abc>:356\u001b[0m, in \u001b[0;36m__next__\u001b[1;34m(self)\u001b[0m\n",
      "File \u001b[1;32m~\\AppData\\Local\\Packages\\PythonSoftwareFoundation.Python.3.12_qbz5n2kfra8p0\\LocalCache\\local-packages\\Python312\\site-packages\\pyspark\\sql\\connect\\client\\reattach.py:138\u001b[0m, in \u001b[0;36mExecutePlanResponseReattachableIterator.send\u001b[1;34m(self, value)\u001b[0m\n\u001b[0;32m    136\u001b[0m \u001b[38;5;28;01mdef\u001b[39;00m\u001b[38;5;250m \u001b[39m\u001b[38;5;21msend\u001b[39m(\u001b[38;5;28mself\u001b[39m, value: Any) \u001b[38;5;241m-\u001b[39m\u001b[38;5;241m>\u001b[39m pb2\u001b[38;5;241m.\u001b[39mExecutePlanResponse:\n\u001b[0;32m    137\u001b[0m     \u001b[38;5;66;03m# will trigger reattach in case the stream completed without result_complete\u001b[39;00m\n\u001b[1;32m--> 138\u001b[0m     \u001b[38;5;28;01mif\u001b[39;00m \u001b[38;5;129;01mnot\u001b[39;00m \u001b[38;5;28;43mself\u001b[39;49m\u001b[38;5;241;43m.\u001b[39;49m\u001b[43m_has_next\u001b[49m\u001b[43m(\u001b[49m\u001b[43m)\u001b[49m:\n\u001b[0;32m    139\u001b[0m         \u001b[38;5;28;01mraise\u001b[39;00m \u001b[38;5;167;01mStopIteration\u001b[39;00m()\n\u001b[0;32m    141\u001b[0m     ret \u001b[38;5;241m=\u001b[39m \u001b[38;5;28mself\u001b[39m\u001b[38;5;241m.\u001b[39m_current\n",
      "File \u001b[1;32m~\\AppData\\Local\\Packages\\PythonSoftwareFoundation.Python.3.12_qbz5n2kfra8p0\\LocalCache\\local-packages\\Python312\\site-packages\\pyspark\\sql\\connect\\client\\reattach.py:162\u001b[0m, in \u001b[0;36mExecutePlanResponseReattachableIterator._has_next\u001b[1;34m(self)\u001b[0m\n\u001b[0;32m    160\u001b[0m \u001b[38;5;28;01mif\u001b[39;00m \u001b[38;5;28mself\u001b[39m\u001b[38;5;241m.\u001b[39m_current \u001b[38;5;129;01mis\u001b[39;00m \u001b[38;5;28;01mNone\u001b[39;00m:\n\u001b[0;32m    161\u001b[0m     \u001b[38;5;28;01mtry\u001b[39;00m:\n\u001b[1;32m--> 162\u001b[0m         \u001b[38;5;28mself\u001b[39m\u001b[38;5;241m.\u001b[39m_current \u001b[38;5;241m=\u001b[39m \u001b[38;5;28;43mself\u001b[39;49m\u001b[38;5;241;43m.\u001b[39;49m\u001b[43m_call_iter\u001b[49m\u001b[43m(\u001b[49m\n\u001b[0;32m    163\u001b[0m \u001b[43m            \u001b[49m\u001b[38;5;28;43;01mlambda\u001b[39;49;00m\u001b[43m:\u001b[49m\u001b[43m \u001b[49m\u001b[38;5;28;43mnext\u001b[39;49m\u001b[43m(\u001b[49m\u001b[38;5;28;43mself\u001b[39;49m\u001b[38;5;241;43m.\u001b[39;49m\u001b[43m_iterator\u001b[49m\u001b[43m)\u001b[49m\u001b[43m  \u001b[49m\u001b[38;5;66;43;03m# type: ignore[arg-type]\u001b[39;49;00m\n\u001b[0;32m    164\u001b[0m \u001b[43m        \u001b[49m\u001b[43m)\u001b[49m\n\u001b[0;32m    165\u001b[0m     \u001b[38;5;28;01mexcept\u001b[39;00m \u001b[38;5;167;01mStopIteration\u001b[39;00m:\n\u001b[0;32m    166\u001b[0m         \u001b[38;5;28;01mpass\u001b[39;00m\n",
      "File \u001b[1;32m~\\AppData\\Local\\Packages\\PythonSoftwareFoundation.Python.3.12_qbz5n2kfra8p0\\LocalCache\\local-packages\\Python312\\site-packages\\pyspark\\sql\\connect\\client\\reattach.py:261\u001b[0m, in \u001b[0;36mExecutePlanResponseReattachableIterator._call_iter\u001b[1;34m(self, iter_fun)\u001b[0m\n\u001b[0;32m    254\u001b[0m     \u001b[38;5;28mself\u001b[39m\u001b[38;5;241m.\u001b[39m_iterator \u001b[38;5;241m=\u001b[39m \u001b[38;5;28miter\u001b[39m(\n\u001b[0;32m    255\u001b[0m         \u001b[38;5;28mself\u001b[39m\u001b[38;5;241m.\u001b[39m_stub\u001b[38;5;241m.\u001b[39mReattachExecute(\n\u001b[0;32m    256\u001b[0m             \u001b[38;5;28mself\u001b[39m\u001b[38;5;241m.\u001b[39m_create_reattach_execute_request(), metadata\u001b[38;5;241m=\u001b[39m\u001b[38;5;28mself\u001b[39m\u001b[38;5;241m.\u001b[39m_metadata\n\u001b[0;32m    257\u001b[0m         )\n\u001b[0;32m    258\u001b[0m     )\n\u001b[0;32m    260\u001b[0m \u001b[38;5;28;01mtry\u001b[39;00m:\n\u001b[1;32m--> 261\u001b[0m     \u001b[38;5;28;01mreturn\u001b[39;00m \u001b[43miter_fun\u001b[49m\u001b[43m(\u001b[49m\u001b[43m)\u001b[49m\n\u001b[0;32m    262\u001b[0m \u001b[38;5;28;01mexcept\u001b[39;00m grpc\u001b[38;5;241m.\u001b[39mRpcError \u001b[38;5;28;01mas\u001b[39;00m e:\n\u001b[0;32m    263\u001b[0m     status \u001b[38;5;241m=\u001b[39m rpc_status\u001b[38;5;241m.\u001b[39mfrom_call(cast(grpc\u001b[38;5;241m.\u001b[39mCall, e))\n",
      "File \u001b[1;32m~\\AppData\\Local\\Packages\\PythonSoftwareFoundation.Python.3.12_qbz5n2kfra8p0\\LocalCache\\local-packages\\Python312\\site-packages\\pyspark\\sql\\connect\\client\\reattach.py:163\u001b[0m, in \u001b[0;36mExecutePlanResponseReattachableIterator._has_next.<locals>.<lambda>\u001b[1;34m()\u001b[0m\n\u001b[0;32m    160\u001b[0m \u001b[38;5;28;01mif\u001b[39;00m \u001b[38;5;28mself\u001b[39m\u001b[38;5;241m.\u001b[39m_current \u001b[38;5;129;01mis\u001b[39;00m \u001b[38;5;28;01mNone\u001b[39;00m:\n\u001b[0;32m    161\u001b[0m     \u001b[38;5;28;01mtry\u001b[39;00m:\n\u001b[0;32m    162\u001b[0m         \u001b[38;5;28mself\u001b[39m\u001b[38;5;241m.\u001b[39m_current \u001b[38;5;241m=\u001b[39m \u001b[38;5;28mself\u001b[39m\u001b[38;5;241m.\u001b[39m_call_iter(\n\u001b[1;32m--> 163\u001b[0m             \u001b[38;5;28;01mlambda\u001b[39;00m: \u001b[38;5;28;43mnext\u001b[39;49m\u001b[43m(\u001b[49m\u001b[38;5;28;43mself\u001b[39;49m\u001b[38;5;241;43m.\u001b[39;49m\u001b[43m_iterator\u001b[49m\u001b[43m)\u001b[49m  \u001b[38;5;66;03m# type: ignore[arg-type]\u001b[39;00m\n\u001b[0;32m    164\u001b[0m         )\n\u001b[0;32m    165\u001b[0m     \u001b[38;5;28;01mexcept\u001b[39;00m \u001b[38;5;167;01mStopIteration\u001b[39;00m:\n\u001b[0;32m    166\u001b[0m         \u001b[38;5;28;01mpass\u001b[39;00m\n",
      "File \u001b[1;32m~\\AppData\\Local\\Packages\\PythonSoftwareFoundation.Python.3.12_qbz5n2kfra8p0\\LocalCache\\local-packages\\Python312\\site-packages\\grpc\\_channel.py:543\u001b[0m, in \u001b[0;36m_Rendezvous.__next__\u001b[1;34m(self)\u001b[0m\n\u001b[0;32m    542\u001b[0m \u001b[38;5;28;01mdef\u001b[39;00m\u001b[38;5;250m \u001b[39m\u001b[38;5;21m__next__\u001b[39m(\u001b[38;5;28mself\u001b[39m):\n\u001b[1;32m--> 543\u001b[0m     \u001b[38;5;28;01mreturn\u001b[39;00m \u001b[38;5;28;43mself\u001b[39;49m\u001b[38;5;241;43m.\u001b[39;49m\u001b[43m_next\u001b[49m\u001b[43m(\u001b[49m\u001b[43m)\u001b[49m\n",
      "File \u001b[1;32m~\\AppData\\Local\\Packages\\PythonSoftwareFoundation.Python.3.12_qbz5n2kfra8p0\\LocalCache\\local-packages\\Python312\\site-packages\\grpc\\_channel.py:960\u001b[0m, in \u001b[0;36m_MultiThreadedRendezvous._next\u001b[1;34m(self)\u001b[0m\n\u001b[0;32m    954\u001b[0m \u001b[38;5;28;01mdef\u001b[39;00m\u001b[38;5;250m \u001b[39m\u001b[38;5;21m_response_ready\u001b[39m():\n\u001b[0;32m    955\u001b[0m     \u001b[38;5;28;01mreturn\u001b[39;00m \u001b[38;5;28mself\u001b[39m\u001b[38;5;241m.\u001b[39m_state\u001b[38;5;241m.\u001b[39mresponse \u001b[38;5;129;01mis\u001b[39;00m \u001b[38;5;129;01mnot\u001b[39;00m \u001b[38;5;28;01mNone\u001b[39;00m \u001b[38;5;129;01mor\u001b[39;00m (\n\u001b[0;32m    956\u001b[0m         cygrpc\u001b[38;5;241m.\u001b[39mOperationType\u001b[38;5;241m.\u001b[39mreceive_message \u001b[38;5;129;01mnot\u001b[39;00m \u001b[38;5;129;01min\u001b[39;00m \u001b[38;5;28mself\u001b[39m\u001b[38;5;241m.\u001b[39m_state\u001b[38;5;241m.\u001b[39mdue\n\u001b[0;32m    957\u001b[0m         \u001b[38;5;129;01mand\u001b[39;00m \u001b[38;5;28mself\u001b[39m\u001b[38;5;241m.\u001b[39m_state\u001b[38;5;241m.\u001b[39mcode \u001b[38;5;129;01mis\u001b[39;00m \u001b[38;5;129;01mnot\u001b[39;00m \u001b[38;5;28;01mNone\u001b[39;00m\n\u001b[0;32m    958\u001b[0m     )\n\u001b[1;32m--> 960\u001b[0m \u001b[43m_common\u001b[49m\u001b[38;5;241;43m.\u001b[39;49m\u001b[43mwait\u001b[49m\u001b[43m(\u001b[49m\u001b[38;5;28;43mself\u001b[39;49m\u001b[38;5;241;43m.\u001b[39;49m\u001b[43m_state\u001b[49m\u001b[38;5;241;43m.\u001b[39;49m\u001b[43mcondition\u001b[49m\u001b[38;5;241;43m.\u001b[39;49m\u001b[43mwait\u001b[49m\u001b[43m,\u001b[49m\u001b[43m \u001b[49m\u001b[43m_response_ready\u001b[49m\u001b[43m)\u001b[49m\n\u001b[0;32m    961\u001b[0m \u001b[38;5;28;01mif\u001b[39;00m \u001b[38;5;28mself\u001b[39m\u001b[38;5;241m.\u001b[39m_state\u001b[38;5;241m.\u001b[39mresponse \u001b[38;5;129;01mis\u001b[39;00m \u001b[38;5;129;01mnot\u001b[39;00m \u001b[38;5;28;01mNone\u001b[39;00m:\n\u001b[0;32m    962\u001b[0m     response \u001b[38;5;241m=\u001b[39m \u001b[38;5;28mself\u001b[39m\u001b[38;5;241m.\u001b[39m_state\u001b[38;5;241m.\u001b[39mresponse\n",
      "File \u001b[1;32m~\\AppData\\Local\\Packages\\PythonSoftwareFoundation.Python.3.12_qbz5n2kfra8p0\\LocalCache\\local-packages\\Python312\\site-packages\\grpc\\_common.py:156\u001b[0m, in \u001b[0;36mwait\u001b[1;34m(wait_fn, wait_complete_fn, timeout, spin_cb)\u001b[0m\n\u001b[0;32m    154\u001b[0m \u001b[38;5;28;01mif\u001b[39;00m timeout \u001b[38;5;129;01mis\u001b[39;00m \u001b[38;5;28;01mNone\u001b[39;00m:\n\u001b[0;32m    155\u001b[0m     \u001b[38;5;28;01mwhile\u001b[39;00m \u001b[38;5;129;01mnot\u001b[39;00m wait_complete_fn():\n\u001b[1;32m--> 156\u001b[0m         \u001b[43m_wait_once\u001b[49m\u001b[43m(\u001b[49m\u001b[43mwait_fn\u001b[49m\u001b[43m,\u001b[49m\u001b[43m \u001b[49m\u001b[43mMAXIMUM_WAIT_TIMEOUT\u001b[49m\u001b[43m,\u001b[49m\u001b[43m \u001b[49m\u001b[43mspin_cb\u001b[49m\u001b[43m)\u001b[49m\n\u001b[0;32m    157\u001b[0m \u001b[38;5;28;01melse\u001b[39;00m:\n\u001b[0;32m    158\u001b[0m     end \u001b[38;5;241m=\u001b[39m time\u001b[38;5;241m.\u001b[39mtime() \u001b[38;5;241m+\u001b[39m timeout\n",
      "File \u001b[1;32m~\\AppData\\Local\\Packages\\PythonSoftwareFoundation.Python.3.12_qbz5n2kfra8p0\\LocalCache\\local-packages\\Python312\\site-packages\\grpc\\_common.py:116\u001b[0m, in \u001b[0;36m_wait_once\u001b[1;34m(wait_fn, timeout, spin_cb)\u001b[0m\n\u001b[0;32m    111\u001b[0m \u001b[38;5;28;01mdef\u001b[39;00m\u001b[38;5;250m \u001b[39m\u001b[38;5;21m_wait_once\u001b[39m(\n\u001b[0;32m    112\u001b[0m     wait_fn: Callable[\u001b[38;5;241m.\u001b[39m\u001b[38;5;241m.\u001b[39m\u001b[38;5;241m.\u001b[39m, \u001b[38;5;28mbool\u001b[39m],\n\u001b[0;32m    113\u001b[0m     timeout: \u001b[38;5;28mfloat\u001b[39m,\n\u001b[0;32m    114\u001b[0m     spin_cb: Optional[Callable[[], \u001b[38;5;28;01mNone\u001b[39;00m]],\n\u001b[0;32m    115\u001b[0m ):\n\u001b[1;32m--> 116\u001b[0m     \u001b[43mwait_fn\u001b[49m\u001b[43m(\u001b[49m\u001b[43mtimeout\u001b[49m\u001b[38;5;241;43m=\u001b[39;49m\u001b[43mtimeout\u001b[49m\u001b[43m)\u001b[49m\n\u001b[0;32m    117\u001b[0m     \u001b[38;5;28;01mif\u001b[39;00m spin_cb \u001b[38;5;129;01mis\u001b[39;00m \u001b[38;5;129;01mnot\u001b[39;00m \u001b[38;5;28;01mNone\u001b[39;00m:\n\u001b[0;32m    118\u001b[0m         spin_cb()\n",
      "File \u001b[1;32mC:\\Program Files\\WindowsApps\\PythonSoftwareFoundation.Python.3.12_3.12.2800.0_x64__qbz5n2kfra8p0\\Lib\\threading.py:359\u001b[0m, in \u001b[0;36mCondition.wait\u001b[1;34m(self, timeout)\u001b[0m\n\u001b[0;32m    357\u001b[0m \u001b[38;5;28;01melse\u001b[39;00m:\n\u001b[0;32m    358\u001b[0m     \u001b[38;5;28;01mif\u001b[39;00m timeout \u001b[38;5;241m>\u001b[39m \u001b[38;5;241m0\u001b[39m:\n\u001b[1;32m--> 359\u001b[0m         gotit \u001b[38;5;241m=\u001b[39m \u001b[43mwaiter\u001b[49m\u001b[38;5;241;43m.\u001b[39;49m\u001b[43macquire\u001b[49m\u001b[43m(\u001b[49m\u001b[38;5;28;43;01mTrue\u001b[39;49;00m\u001b[43m,\u001b[49m\u001b[43m \u001b[49m\u001b[43mtimeout\u001b[49m\u001b[43m)\u001b[49m\n\u001b[0;32m    360\u001b[0m     \u001b[38;5;28;01melse\u001b[39;00m:\n\u001b[0;32m    361\u001b[0m         gotit \u001b[38;5;241m=\u001b[39m waiter\u001b[38;5;241m.\u001b[39macquire(\u001b[38;5;28;01mFalse\u001b[39;00m)\n",
      "\u001b[1;31mKeyboardInterrupt\u001b[0m: "
     ]
    }
   ],
   "source": [
    "from pyspark.sql.functions import *\n",
    "from pyspark.sql.window import Window\n",
    "\n",
    "windowSpec = Window.orderBy(col('salary').desc())\n",
    "emp_df = emp_df.withColumn('sal_rank', rank().over(windowSpec))\n",
    "emp_df.show()\n",
    "thrid_highest_salary = emp_df.filter(col('sal_rank') ==3)\n",
    "thrid_highest_salary.show()\n",
    "\n",
    "\n",
    "\n"
   ]
  },
  {
   "cell_type": "markdown",
   "id": "bac5b0e5",
   "metadata": {},
   "source": [
    "### Filter Rows Where Employee Salary > Manager Salary\n"
   ]
  },
  {
   "cell_type": "code",
   "execution_count": null,
   "id": "4ef452d7",
   "metadata": {},
   "outputs": [
    {
     "name": "stdout",
     "output_type": "stream",
     "text": [
      "+------+--------+----------+------+--------+------+--------+----------+------+--------+\n",
      "|emp_id|emp_name|manager_id|salary|sal_rank|emp_id|emp_name|manager_id|salary|sal_rank|\n",
      "+------+--------+----------+------+--------+------+--------+----------+------+--------+\n",
      "|     2|     Bob|         1| 75000|       3|     1|   Alice|      NULL| 90000|       2|\n",
      "|     6|   Frank|         3| 62000|       5|     3| Charlie|         7| 72000|       4|\n",
      "|     5|     Eve|         2| 58000|       7|     2|     Bob|         1| 75000|       3|\n",
      "|     7|   Grace|         3| 58000|       7|     3| Charlie|         7| 72000|       4|\n",
      "|     9|     Ivy|         5| 53000|       9|     5|     Eve|         2| 58000|       7|\n",
      "|    10|    Jack|         5| 51000|      10|     5|     Eve|         2| 58000|       7|\n",
      "|     8|    Hank|         7| 50000|      11|     7|   Grace|         3| 58000|       7|\n",
      "|    11|   Kathy|         7| 48000|      12|     7|   Grace|         3| 58000|       7|\n",
      "|    13|     Mia|         7| 45000|      13|     7|   Grace|         3| 58000|       7|\n",
      "|    14|    Nina|         7| 44000|      14|     7|   Grace|         3| 58000|       7|\n",
      "+------+--------+----------+------+--------+------+--------+----------+------+--------+\n",
      "\n"
     ]
    }
   ],
   "source": [
    "get_emp_df = emp_df.alias('emp') \n",
    "get_mgr_df = emp_df.alias('mgr')\n",
    "\n",
    "join_df = get_emp_df.join(get_mgr_df, get_mgr_df.emp_id == get_emp_df.manager_id, 'inner')\n",
    "result_df = join_df.filter( get_mgr_df.salary > get_emp_df.salary )\n",
    "result_df.show()"
   ]
  },
  {
   "cell_type": "code",
   "execution_count": null,
   "id": "d5a20528",
   "metadata": {},
   "outputs": [],
   "source": []
  }
 ],
 "metadata": {
  "kernelspec": {
   "display_name": "Python 3",
   "language": "python",
   "name": "python3"
  },
  "language_info": {
   "codemirror_mode": {
    "name": "ipython",
    "version": 3
   },
   "file_extension": ".py",
   "mimetype": "text/x-python",
   "name": "python",
   "nbconvert_exporter": "python",
   "pygments_lexer": "ipython3",
   "version": "3.12.10"
  }
 },
 "nbformat": 4,
 "nbformat_minor": 5
}
