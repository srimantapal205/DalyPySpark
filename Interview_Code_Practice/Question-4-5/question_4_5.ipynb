{
 "cells": [
  {
   "cell_type": "code",
   "execution_count": 2,
   "id": "6c741d5a",
   "metadata": {},
   "outputs": [],
   "source": [
    "from pyspark.sql import SparkSession\n",
    "from pyspark.sql.functions import *\n",
    "from pyspark.sql.window import Window\n",
    "from pyspark.sql.types import *\n",
    "import json\n",
    "spark = SparkSession.builder.appName(\"App\").getOrCreate()"
   ]
  },
  {
   "cell_type": "markdown",
   "id": "9e419269",
   "metadata": {},
   "source": [
    "`Question 4: Complex Nested JSON Processing with Schema Evolution\n",
    "Problem: Process deeply nested JSON data with varying schemas, flatten the structure, a\n",
    "missing fields gracefully.`\n"
   ]
  },
  {
   "cell_type": "code",
   "execution_count": 4,
   "id": "ee5b9826",
   "metadata": {},
   "outputs": [],
   "source": [
    "\n",
    "# Complex nested JSON data with different schemas\n",
    "json_data=[\n",
    "    {\n",
    "        \"user_id\": 1,\n",
    "        \"profile\": {\n",
    "            \"personal\": {\n",
    "                \"name\": \"John Doe\",\n",
    "                \"age\": 30,\n",
    "                \"contacts\": {\n",
    "                    \"email\": \"john@email.com\",\n",
    "                    \"phone\": \"123-456-7890\"\n",
    "                    }\n",
    "                },\n",
    "            \"professional\": {\n",
    "                \"company\": \"TechCorp\",\n",
    "                \"position\": \"Engineer\",\n",
    "                \"skills\": [\"Python\", \"Java\", \"SQL\"]\n",
    "            }\n",
    "        },\n",
    "        \"activities\": [\n",
    "            {\"type\": \"login\", \"timestamp\": \"2023-01-01T10:00:00\", \"metadata\": {\"ip\": \"192.168.1\"}},\n",
    "            {\"type\": \"purchase\", \"timestamp\": \"2023-01-01T11:00:00\", \"amount\": 250.00}\n",
    "        ]\n",
    "    },\n",
    "    {\n",
    "        \"user_id\": 2,\n",
    "        \"profile\": {\n",
    "            \"personal\": {\n",
    "                \"name\": \"Jane Smith\",\n",
    "                \"age\": 25,\n",
    "                \"contacts\": {\n",
    "                    \"email\": \"jane@email.com\" \n",
    "                    # Missing phone\n",
    "                    }\n",
    "                },\n",
    "                # Missing professional section\n",
    "            },\n",
    "        \"activities\": [\n",
    "            {\"type\": \"login\", \"timestamp\": \"2023-01-02T09:00:00\", \"metadata\": {\"ip\": \"192.168.1\"}}\n",
    "        ]\n",
    "    },\n",
    "    {\n",
    "        \"user_id\": 3,\n",
    "        \"profile\": {\n",
    "            \"personal\": {\n",
    "                \"name\": \"Bob Johnson\",\n",
    "                \"contacts\": {\"email\": \"bob@email.com\",\"phone\": \"987-654-3210\"}\n",
    "                # Missing age\n",
    "                },\n",
    "                \"professional\": {\n",
    "                    \"company\": \"DataCorp\",\n",
    "                    \"skills\": [\"R\", \"Python\"]\n",
    "                    # Missing position\n",
    "                    }\n",
    "                },\n",
    "        \"activities\": [] # Empty activities\n",
    "    }\n",
    "]"
   ]
  },
  {
   "cell_type": "code",
   "execution_count": null,
   "id": "7f681325",
   "metadata": {},
   "outputs": [
    {
     "name": "stdout",
     "output_type": "stream",
     "text": [
      "+--------------------+\n",
      "|         json_string|\n",
      "+--------------------+\n",
      "|{\"user_id\": 1, \"p...|\n",
      "|{\"user_id\": 2, \"p...|\n",
      "|{\"user_id\": 3, \"p...|\n",
      "+--------------------+\n",
      "\n"
     ]
    }
   ],
   "source": [
    "json_strings = [json.dumps(record) for record in json_data]\n",
    "# Create a DataFrame from the JSON strings\n",
    "json_df = spark.createDataFrame([(s,) for s in json_strings], [\"json_string\"])\n",
    "\n",
    "\n",
    "\n",
    "\n",
    "\n",
    "\n",
    "\n",
    "\n",
    "\n",
    "\n",
    "\n",
    "json_df.show()\n"
   ]
  },
  {
   "cell_type": "code",
   "execution_count": null,
   "id": "b06826d2",
   "metadata": {},
   "outputs": [],
   "source": []
  }
 ],
 "metadata": {
  "kernelspec": {
   "display_name": "Python 3",
   "language": "python",
   "name": "python3"
  },
  "language_info": {
   "codemirror_mode": {
    "name": "ipython",
    "version": 3
   },
   "file_extension": ".py",
   "mimetype": "text/x-python",
   "name": "python",
   "nbconvert_exporter": "python",
   "pygments_lexer": "ipython3",
   "version": "3.12.10"
  }
 },
 "nbformat": 4,
 "nbformat_minor": 5
}
