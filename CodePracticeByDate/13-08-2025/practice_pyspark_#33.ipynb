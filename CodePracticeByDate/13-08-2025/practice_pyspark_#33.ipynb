{
 "cells": [
  {
   "cell_type": "code",
   "execution_count": 4,
   "id": "4b998c1c",
   "metadata": {},
   "outputs": [],
   "source": [
    "from pyspark.sql import SparkSession\n",
    "from pyspark.sql.types import *\n",
    "from pyspark.sql.functions import *  # Import the function\n",
    "spark = SparkSession.builder.getOrCreate()\n",
    "from pyspark.sql.functions import regexp_replace, col\n",
    "from pyspark.sql.window import Window "
   ]
  },
  {
   "cell_type": "code",
   "execution_count": 5,
   "id": "95e7303a",
   "metadata": {},
   "outputs": [
    {
     "name": "stdout",
     "output_type": "stream",
     "text": [
      "+--------+----------+-----+\n",
      "|stock_id|      date|price|\n",
      "+--------+----------+-----+\n",
      "|       A|2023-01-01|  100|\n",
      "|       A|2023-01-02|  150|\n",
      "|       A|2023-01-03|  200|\n",
      "|       A|2023-01-04|  250|\n",
      "|       B|2023-01-01|  250|\n",
      "|       B|2023-01-02|  200|\n",
      "|       B|2023-01-03|  150|\n",
      "|       B|2023-01-04|  100|\n",
      "|       C|2023-01-01|  400|\n",
      "|       C|2023-01-02|  350|\n",
      "|       C|2023-01-03|  300|\n",
      "+--------+----------+-----+\n",
      "\n"
     ]
    }
   ],
   "source": [
    "# Sample Data\n",
    "data = [\n",
    "    (\"A\", \"2023-01-01\", 100),\n",
    "    (\"A\", \"2023-01-02\", 150),\n",
    "    (\"A\", \"2023-01-03\", 200),\n",
    "    (\"A\", \"2023-01-04\", 250),\n",
    "    (\"B\", \"2023-01-01\", 250),\n",
    "    (\"B\", \"2023-01-02\", 200),\n",
    "    (\"B\", \"2023-01-03\", 150),\n",
    "    (\"B\", \"2023-01-04\", 100),\n",
    "    (\"C\", \"2023-01-01\", 400),\n",
    "    (\"C\", \"2023-01-02\", 350),\n",
    "    (\"C\", \"2023-01-03\", 300)\n",
    "]\n",
    "# Define Schema\n",
    "schema = ['stock_id', 'date', 'price']\n",
    "df = spark.createDataFrame(data, schema)\n",
    "df.show()\n"
   ]
  },
  {
   "cell_type": "code",
   "execution_count": 6,
   "id": "41836929",
   "metadata": {},
   "outputs": [
    {
     "name": "stdout",
     "output_type": "stream",
     "text": [
      "+--------+----------+-----+-----------+\n",
      "|stock_id|      date|price|rolling_avg|\n",
      "+--------+----------+-----+-----------+\n",
      "|       A|2023-01-01|  100|      100.0|\n",
      "|       A|2023-01-02|  150|      125.0|\n",
      "|       A|2023-01-03|  200|      150.0|\n",
      "|       A|2023-01-04|  250|      200.0|\n",
      "|       B|2023-01-01|  250|      250.0|\n",
      "|       B|2023-01-02|  200|      225.0|\n",
      "|       B|2023-01-03|  150|      200.0|\n",
      "|       B|2023-01-04|  100|      150.0|\n",
      "|       C|2023-01-01|  400|      400.0|\n",
      "|       C|2023-01-02|  350|      375.0|\n",
      "|       C|2023-01-03|  300|      350.0|\n",
      "+--------+----------+-----+-----------+\n",
      "\n"
     ]
    }
   ],
   "source": [
    "wondow_space = Window.partitionBy(\"stock_id\").orderBy(\"date\").rowsBetween(-2, 0)\n",
    "\n",
    "# Calculate the rolling avarage\n",
    "result_df = df.withColumn(\"rolling_avg\", avg(col(\"price\")).over(wondow_space))\n",
    "\n",
    "#Show the result\n",
    "result_df.show()"
   ]
  },
  {
   "cell_type": "code",
   "execution_count": null,
   "id": "2d661d36",
   "metadata": {},
   "outputs": [],
   "source": []
  }
 ],
 "metadata": {
  "kernelspec": {
   "display_name": "Python 3",
   "language": "python",
   "name": "python3"
  },
  "language_info": {
   "codemirror_mode": {
    "name": "ipython",
    "version": 3
   },
   "file_extension": ".py",
   "mimetype": "text/x-python",
   "name": "python",
   "nbconvert_exporter": "python",
   "pygments_lexer": "ipython3",
   "version": "3.12.10"
  }
 },
 "nbformat": 4,
 "nbformat_minor": 5
}
