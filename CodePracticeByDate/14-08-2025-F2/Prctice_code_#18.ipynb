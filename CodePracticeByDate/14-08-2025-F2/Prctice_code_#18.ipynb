{
 "cells": [
  {
   "cell_type": "code",
   "execution_count": 1,
   "id": "bb5f4eda",
   "metadata": {},
   "outputs": [],
   "source": [
    "from pyspark.sql import SparkSession\n",
    "from pyspark.sql.types import *\n",
    "from pyspark.sql.functions import *  # Import the function\n",
    "spark = SparkSession.builder.getOrCreate()\n",
    "from pyspark.sql.functions import regexp_replace, col\n",
    "from pyspark.sql.window import Window "
   ]
  },
  {
   "cell_type": "code",
   "execution_count": 2,
   "id": "ad3b7485",
   "metadata": {},
   "outputs": [
    {
     "name": "stdout",
     "output_type": "stream",
     "text": [
      "+----------+------------+--------------+\n",
      "|product_id|product_name| category_name|\n",
      "+----------+------------+--------------+\n",
      "|         1|      Laptop|   Electronics|\n",
      "|         2|  Smartphone|Mobile Devices|\n",
      "|         3|      Tablet|   Electronics|\n",
      "+----------+------------+--------------+\n",
      "\n"
     ]
    }
   ],
   "source": [
    "product_data = [\n",
    "    (1, \"Laptop\", 101),\n",
    "    (2, \"Smartphone\", 102),\n",
    "    (3, \"Tablet\", 101)\n",
    "]\n",
    "product_schema = [\"product_id\", \"product_name\", \"category_id\"]\n",
    "\n",
    "product_df = spark.createDataFrame(\n",
    "    product_data,\n",
    "    product_schema\n",
    ")\n",
    "\n",
    "# Create a DataFrame for categories\n",
    "categories_data =[\n",
    "    (101, \"Electronics\"),\n",
    "    (102, \"Mobile Devices\"),\n",
    "    (103, \"Computers\")    \n",
    "]\n",
    "\n",
    "categories_schema = [\"category_id\", \"category_name\"]\n",
    "\n",
    "categories_df = spark.createDataFrame(\n",
    "    categories_data,\n",
    "    categories_schema\n",
    ")\n",
    "\n",
    "\n",
    "# Perform the join using the category_id\n",
    "joined_df = product_df.join(categories_df, product_df[\"category_id\"] == categories_df[\"category_id\"], \"inner\").select(\n",
    "    \"product_id\", \"product_name\", \"category_name\"\n",
    ")\n",
    "\n",
    "joined_df.show()"
   ]
  },
  {
   "cell_type": "code",
   "execution_count": null,
   "id": "238856b0",
   "metadata": {},
   "outputs": [],
   "source": []
  }
 ],
 "metadata": {
  "kernelspec": {
   "display_name": "Python 3",
   "language": "python",
   "name": "python3"
  },
  "language_info": {
   "codemirror_mode": {
    "name": "ipython",
    "version": 3
   },
   "file_extension": ".py",
   "mimetype": "text/x-python",
   "name": "python",
   "nbconvert_exporter": "python",
   "pygments_lexer": "ipython3",
   "version": "3.12.10"
  }
 },
 "nbformat": 4,
 "nbformat_minor": 5
}
