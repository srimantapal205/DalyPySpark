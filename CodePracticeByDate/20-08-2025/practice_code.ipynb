{
 "cells": [
  {
   "cell_type": "markdown",
   "id": "e1675906",
   "metadata": {},
   "source": [
    "# A single PySpark script with different functions for:\n",
    "\n",
    "- Reading data (CSV, Parquet)\n",
    "\n",
    "- Transformation (filter, join, groupBy, agg)\n",
    "\n",
    "- Handling nulls\n",
    "\n",
    "- Partitioning & Repartitioning\n",
    "\n",
    "- Using UDF\n",
    "\n",
    "- Writing data\n",
    "\n",
    "- Explaining optimization concepts"
   ]
  },
  {
   "cell_type": "code",
   "execution_count": 1,
   "id": "3782a004",
   "metadata": {},
   "outputs": [],
   "source": [
    "from pyspark.sql import SparkSession\n",
    "from pyspark.sql.types import *\n",
    "from pyspark.sql.functions import *  # Import the function\n",
    "spark = SparkSession.builder.getOrCreate()\n",
    "from pyspark.sql.functions import regexp_replace, col\n",
    "from pyspark.sql.window import Window "
   ]
  },
  {
   "cell_type": "code",
   "execution_count": 2,
   "id": "76584f1c",
   "metadata": {},
   "outputs": [],
   "source": [
    "## Create Spark Session\n",
    "spark = SparkSession.builder.appName('Interview_Askable_Functions').getOrCreate()"
   ]
  },
  {
   "cell_type": "code",
   "execution_count": 4,
   "id": "c4c1fde7",
   "metadata": {},
   "outputs": [
    {
     "name": "stdout",
     "output_type": "stream",
     "text": [
      "+---+-------+----------+------+----------+\n",
      "| id|   name|department|salary| join_date|\n",
      "+---+-------+----------+------+----------+\n",
      "|  1|  Alice|        HR|  5000|      NULL|\n",
      "|  2|    Bob|        IT|  7000|2024-01-01|\n",
      "|  3|Charlie|   Finance|  6000|2024-01-05|\n",
      "|  4|  David|        IT|  NULL|2024-02-01|\n",
      "|  5|    Eva|   Finance|  7500|      NULL|\n",
      "+---+-------+----------+------+----------+\n",
      "\n"
     ]
    }
   ],
   "source": [
    "## Sample Data\n",
    "data = [\n",
    "    (1, \"Alice\", \"HR\", 5000, None),\n",
    "    (2, \"Bob\", \"IT\", 7000, \"2024-01-01\"),\n",
    "    (3, \"Charlie\", \"Finance\", 6000, \"2024-01-05\"),\n",
    "    (4, \"David\", \"IT\", None, \"2024-02-01\"),\n",
    "    (5, \"Eva\", \"Finance\", 7500, None)\n",
    "]\n",
    "\n",
    "columns = [\"id\", \"name\", \"department\", \"salary\", \"join_date\"]\n",
    "\n",
    "df = spark.createDataFrame(data, columns)\n",
    "\n",
    "df.show()"
   ]
  },
  {
   "cell_type": "code",
   "execution_count": 10,
   "id": "f52b74bd",
   "metadata": {},
   "outputs": [
    {
     "name": "stdout",
     "output_type": "stream",
     "text": [
      "+---+----+----------+------+----------+\n",
      "| id|name|department|salary| join_date|\n",
      "+---+----+----------+------+----------+\n",
      "|  2| Bob|        IT|  7000|2024-01-01|\n",
      "|  5| Eva|   Finance|  7500|      NULL|\n",
      "+---+----+----------+------+----------+\n",
      "\n",
      "+---+----+----------+------+----------+\n",
      "| id|name|department|salary| join_date|\n",
      "+---+----+----------+------+----------+\n",
      "|  2| Bob|        IT|  7000|2024-01-01|\n",
      "|  5| Eva|   Finance|  7500|      NULL|\n",
      "+---+----+----------+------+----------+\n",
      "\n"
     ]
    }
   ],
   "source": [
    "# 1. Filter employees with salary > 6000\n",
    "high_salary_df = df.filter(col('salary')> 6000)\n",
    "high_salary_df.show()\n",
    "\n",
    "def filter_high_salary(df):\n",
    "    return df.filter(col('salary') > 6000)\n",
    "\n",
    "filter_high_salary(df).show()\n"
   ]
  },
  {
   "cell_type": "code",
   "execution_count": 14,
   "id": "1c60fa81",
   "metadata": {},
   "outputs": [
    {
     "name": "stdout",
     "output_type": "stream",
     "text": [
      "+----------+--------------+\n",
      "|department|avarage_salary|\n",
      "+----------+--------------+\n",
      "|        HR|        5000.0|\n",
      "|   Finance|        6750.0|\n",
      "|        IT|        7000.0|\n",
      "+----------+--------------+\n",
      "\n",
      "+----------+--------------+\n",
      "|department|avarage_salary|\n",
      "+----------+--------------+\n",
      "|        HR|        5000.0|\n",
      "|   Finance|        6750.0|\n",
      "|        IT|        7000.0|\n",
      "+----------+--------------+\n",
      "\n"
     ]
    }
   ],
   "source": [
    "# 2. Group by department & find avg salary\n",
    "\n",
    "avg_salry_by_group = df.groupBy(col('department')).agg(avg(col('salary')).alias('avarage_salary'))\n",
    "avg_salry_by_group.show()\n",
    "\n",
    "def avarage_salary_by_group(df):\n",
    "    return df.groupBy(col('department')).agg(avg(col('salary')).alias('avarage_salary')).show()\n",
    "\n",
    "\n",
    "avarage_salary_by_group(df)\n",
    "\n"
   ]
  },
  {
   "cell_type": "code",
   "execution_count": null,
   "id": "93692469",
   "metadata": {},
   "outputs": [],
   "source": [
    "# 3. Handle NULL values\n",
    "\n",
    "\n",
    "\n"
   ]
  }
 ],
 "metadata": {
  "kernelspec": {
   "display_name": "Python 3",
   "language": "python",
   "name": "python3"
  },
  "language_info": {
   "codemirror_mode": {
    "name": "ipython",
    "version": 3
   },
   "file_extension": ".py",
   "mimetype": "text/x-python",
   "name": "python",
   "nbconvert_exporter": "python",
   "pygments_lexer": "ipython3",
   "version": "3.12.10"
  }
 },
 "nbformat": 4,
 "nbformat_minor": 5
}
