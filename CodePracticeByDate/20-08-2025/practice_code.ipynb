{
 "cells": [
  {
   "cell_type": "markdown",
   "id": "e1675906",
   "metadata": {},
   "source": [
    "# A single PySpark script with different functions for:\n",
    "\n",
    "- Reading data (CSV, Parquet)\n",
    "\n",
    "- Transformation (filter, join, groupBy, agg)\n",
    "\n",
    "- Handling nulls\n",
    "\n",
    "- Partitioning & Repartitioning\n",
    "\n",
    "- Using UDF\n",
    "\n",
    "- Writing data\n",
    "\n",
    "- Explaining optimization concepts"
   ]
  },
  {
   "cell_type": "code",
   "execution_count": 1,
   "id": "3782a004",
   "metadata": {},
   "outputs": [],
   "source": [
    "from pyspark.sql import SparkSession\n",
    "from pyspark.sql.types import *\n",
    "from pyspark.sql.functions import *  # Import the function\n",
    "spark = SparkSession.builder.getOrCreate()\n",
    "from pyspark.sql.functions import regexp_replace, col, udf\n",
    "from pyspark.sql.window import Window "
   ]
  },
  {
   "cell_type": "code",
   "execution_count": 2,
   "id": "76584f1c",
   "metadata": {},
   "outputs": [],
   "source": [
    "## Create Spark Session\n",
    "spark = SparkSession.builder.appName('Interview_Askable_Functions').getOrCreate()"
   ]
  },
  {
   "cell_type": "code",
   "execution_count": 3,
   "id": "c4c1fde7",
   "metadata": {},
   "outputs": [
    {
     "name": "stdout",
     "output_type": "stream",
     "text": [
      "+---+-------+----------+------+----------+\n",
      "| id|   name|department|salary| join_date|\n",
      "+---+-------+----------+------+----------+\n",
      "|  1|  Alice|        HR|  5000|      NULL|\n",
      "|  2|    Bob|        IT|  7000|2024-01-01|\n",
      "|  3|Charlie|   Finance|  6000|2024-01-05|\n",
      "|  4|  David|        IT|  NULL|2024-02-01|\n",
      "|  5|    Eva|   Finance|  7500|      NULL|\n",
      "+---+-------+----------+------+----------+\n",
      "\n"
     ]
    }
   ],
   "source": [
    "## Sample Data\n",
    "data = [\n",
    "    (1, \"Alice\", \"HR\", 5000, None),\n",
    "    (2, \"Bob\", \"IT\", 7000, \"2024-01-01\"),\n",
    "    (3, \"Charlie\", \"Finance\", 6000, \"2024-01-05\"),\n",
    "    (4, \"David\", \"IT\", None, \"2024-02-01\"),\n",
    "    (5, \"Eva\", \"Finance\", 7500, None)\n",
    "]\n",
    "\n",
    "columns = [\"id\", \"name\", \"department\", \"salary\", \"join_date\"]\n",
    "\n",
    "df = spark.createDataFrame(data, columns)\n",
    "\n",
    "df.show()"
   ]
  },
  {
   "cell_type": "code",
   "execution_count": 4,
   "id": "f52b74bd",
   "metadata": {},
   "outputs": [
    {
     "name": "stdout",
     "output_type": "stream",
     "text": [
      "+---+----+----------+------+----------+\n",
      "| id|name|department|salary| join_date|\n",
      "+---+----+----------+------+----------+\n",
      "|  2| Bob|        IT|  7000|2024-01-01|\n",
      "|  5| Eva|   Finance|  7500|      NULL|\n",
      "+---+----+----------+------+----------+\n",
      "\n",
      "+---+----+----------+------+----------+\n",
      "| id|name|department|salary| join_date|\n",
      "+---+----+----------+------+----------+\n",
      "|  2| Bob|        IT|  7000|2024-01-01|\n",
      "|  5| Eva|   Finance|  7500|      NULL|\n",
      "+---+----+----------+------+----------+\n",
      "\n"
     ]
    }
   ],
   "source": [
    "# 1. Filter employees with salary > 6000\n",
    "high_salary_df = df.filter(col('salary')> 6000)\n",
    "high_salary_df.show()\n",
    "\n",
    "def filter_high_salary(df):\n",
    "    return df.filter(col('salary') > 6000)\n",
    "\n",
    "filter_high_salary(df).show()\n"
   ]
  },
  {
   "cell_type": "code",
   "execution_count": 5,
   "id": "1c60fa81",
   "metadata": {},
   "outputs": [
    {
     "name": "stdout",
     "output_type": "stream",
     "text": [
      "+----------+--------------+\n",
      "|department|avarage_salary|\n",
      "+----------+--------------+\n",
      "|        HR|        5000.0|\n",
      "|   Finance|        6750.0|\n",
      "|        IT|        7000.0|\n",
      "+----------+--------------+\n",
      "\n",
      "+----------+--------------+\n",
      "|department|avarage_salary|\n",
      "+----------+--------------+\n",
      "|        HR|        5000.0|\n",
      "|   Finance|        6750.0|\n",
      "|        IT|        7000.0|\n",
      "+----------+--------------+\n",
      "\n"
     ]
    }
   ],
   "source": [
    "# 2. Group by department & find avg salary\n",
    "\n",
    "avg_salry_by_group = df.groupBy(col('department')).agg(avg(col('salary')).alias('avarage_salary'))\n",
    "avg_salry_by_group.show()\n",
    "\n",
    "def avarage_salary_by_group(df):\n",
    "    return df.groupBy(col('department')).agg(avg(col('salary')).alias('avarage_salary')).show()\n",
    "\n",
    "\n",
    "avarage_salary_by_group(df)\n",
    "\n"
   ]
  },
  {
   "cell_type": "code",
   "execution_count": 6,
   "id": "93692469",
   "metadata": {},
   "outputs": [
    {
     "name": "stdout",
     "output_type": "stream",
     "text": [
      "+---+-------+----------+------+----------+\n",
      "| id|   name|department|salary| join_date|\n",
      "+---+-------+----------+------+----------+\n",
      "|  1|  Alice|        HR|  5000|1900-01-01|\n",
      "|  2|    Bob|        IT|  7000|2024-01-01|\n",
      "|  3|Charlie|   Finance|  6000|2024-01-05|\n",
      "|  4|  David|        IT|     0|2024-02-01|\n",
      "|  5|    Eva|   Finance|  7500|1900-01-01|\n",
      "+---+-------+----------+------+----------+\n",
      "\n",
      "+---+-------+----------+------+----------+\n",
      "| id|   name|department|salary| join_date|\n",
      "+---+-------+----------+------+----------+\n",
      "|  1|  Alice|        HR|  5000|1900-01-01|\n",
      "|  2|    Bob|        IT|  7000|2024-01-01|\n",
      "|  3|Charlie|   Finance|  6000|2024-01-05|\n",
      "|  4|  David|        IT|     0|2024-02-01|\n",
      "|  5|    Eva|   Finance|  7500|1900-01-01|\n",
      "+---+-------+----------+------+----------+\n",
      "\n"
     ]
    }
   ],
   "source": [
    "# 3. Handle NULL values\n",
    "\n",
    "fillNullDefaultValue = df.fillna({\"salary\":0, \"join_date\":\"1900-01-01\"})\n",
    "\n",
    "fillNullDefaultValue.show()\n",
    "\n",
    "def fillNullDefaultValueFun(df):\n",
    "    return df.fillna({\"salary\": 0, \"join_date\":\"1900-01-01\"})\n",
    "\n",
    "fillNullDefaultValueFun(df).show()\n"
   ]
  },
  {
   "cell_type": "code",
   "execution_count": 7,
   "id": "90882e49",
   "metadata": {},
   "outputs": [
    {
     "name": "stdout",
     "output_type": "stream",
     "text": [
      "+-------+----------------+\n",
      "|   dept|   dept_fullName|\n",
      "+-------+----------------+\n",
      "|     HR|  Human Resource|\n",
      "|     IT|Information Tech|\n",
      "|Finance|        Accounts|\n",
      "+-------+----------------+\n",
      "\n"
     ]
    }
   ],
   "source": [
    "# Create Department Data Frame\n",
    "dept_data = [(\"HR\", \"Human Resource\"), (\"IT\", \"Information Tech\"), (\"Finance\", \"Accounts\")]\n",
    "dept_column = [\"dept\", \"dept_fullName\"]\n",
    "dept_df = spark.createDataFrame(dept_data, dept_column)\n",
    "dept_df.show()\n",
    "\n",
    "\n",
    "\n",
    "\n"
   ]
  },
  {
   "cell_type": "code",
   "execution_count": 8,
   "id": "5aa92a04",
   "metadata": {},
   "outputs": [
    {
     "name": "stdout",
     "output_type": "stream",
     "text": [
      "+---+-------+----------+------+----------+----------------+\n",
      "| id|   name|department|salary| join_date|   dept_fullName|\n",
      "+---+-------+----------+------+----------+----------------+\n",
      "|  1|  Alice|        HR|  5000|      NULL|  Human Resource|\n",
      "|  2|    Bob|        IT|  7000|2024-01-01|Information Tech|\n",
      "|  3|Charlie|   Finance|  6000|2024-01-05|        Accounts|\n",
      "|  4|  David|        IT|  NULL|2024-02-01|Information Tech|\n",
      "|  5|    Eva|   Finance|  7500|      NULL|        Accounts|\n",
      "+---+-------+----------+------+----------+----------------+\n",
      "\n"
     ]
    }
   ],
   "source": [
    "# Joining the table\n",
    "joinTable_df = df.join(dept_df, df[\"department\"] == dept_df[\"dept\"], \"left\").select(col(\"id\"),col(\"name\"),col(\"department\"),col(\"salary\"),col(\"join_date\"),col(\"dept_fullName\"))\n",
    "joinTable_df.show()\n",
    "\n",
    "\n",
    "\n"
   ]
  },
  {
   "cell_type": "code",
   "execution_count": 13,
   "id": "6f9d21fd",
   "metadata": {},
   "outputs": [
    {
     "name": "stdout",
     "output_type": "stream",
     "text": [
      "== Physical Plan ==\n",
      "AdaptiveSparkPlan isFinalPlan=false\n",
      "+- Exchange hashpartitioning(department#474, 10), REPARTITION_BY_NUM, [plan_id=199]\n",
      "   +- LocalTableScan [id#472L, name#473, department#474, salary#475L, join_date#476]\n",
      "\n",
      "\n"
     ]
    }
   ],
   "source": [
    "# 5. Partition & Repartition Example\n",
    "repartDf = df.repartition(10, \"department\") # shuffle partitioning\n",
    "repartDf.explain()"
   ]
  },
  {
   "cell_type": "code",
   "execution_count": 14,
   "id": "8cba0e5c",
   "metadata": {},
   "outputs": [
    {
     "name": "stdout",
     "output_type": "stream",
     "text": [
      "== Physical Plan ==\n",
      "AdaptiveSparkPlan isFinalPlan=false\n",
      "+- Coalesce 2\n",
      "   +- Exchange hashpartitioning(department#480, 10), REPARTITION_BY_NUM, [plan_id=210]\n",
      "      +- LocalTableScan [id#478L, name#479, department#480, salary#481L, join_date#482]\n",
      "\n",
      "\n"
     ]
    }
   ],
   "source": [
    "coalsecDF = repartDf.coalesce(2)\n",
    "coalsecDF.explain()"
   ]
  },
  {
   "cell_type": "code",
   "execution_count": null,
   "id": "77739e72",
   "metadata": {},
   "outputs": [],
   "source": [
    "# 6. UDF Example\n",
    "\n",
    "def upper_case(name):\n",
    "    return name.upper() if name else None\n",
    "\n",
    "\n",
    "upper_udf = udf(upper_case, StringType())\n",
    "\n",
    "upper_df = df.withColumn(\"name_upper\", upper_udf(col(\"name\")))\n",
    "\n",
    "upper_df.show()\n",
    "\n"
   ]
  },
  {
   "cell_type": "code",
   "execution_count": null,
   "id": "c0573c70",
   "metadata": {},
   "outputs": [],
   "source": [
    "# 7. Write to Parquet\n",
    "\n",
    "df.write.mode(\"overwrite\").format(\"parquet\").save('./temp/interview')\n",
    "\n",
    "#df.coalesce(1).write.mode(\"overwrite\").parquet('./temp/interview')\n"
   ]
  },
  {
   "cell_type": "code",
   "execution_count": null,
   "id": "fa002e3d",
   "metadata": {},
   "outputs": [],
   "source": [
    "df = spark.read.option(\"mode\", \"DROPMALFORMED\").csv(\"path/to/data.csv\", schema=schema)"
   ]
  }
 ],
 "metadata": {
  "kernelspec": {
   "display_name": "Python 3",
   "language": "python",
   "name": "python3"
  },
  "language_info": {
   "codemirror_mode": {
    "name": "ipython",
    "version": 3
   },
   "file_extension": ".py",
   "mimetype": "text/x-python",
   "name": "python",
   "nbconvert_exporter": "python",
   "pygments_lexer": "ipython3",
   "version": "3.12.10"
  }
 },
 "nbformat": 4,
 "nbformat_minor": 5
}
