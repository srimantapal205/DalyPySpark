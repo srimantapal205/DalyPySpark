{
 "cells": [
  {
   "cell_type": "code",
   "execution_count": 3,
   "id": "3caad9b5",
   "metadata": {},
   "outputs": [],
   "source": [
    "from pyspark.sql import SparkSession\n",
    "from pyspark.sql.types import *\n",
    "from pyspark.sql.functions import *  # Import the function\n",
    "spark = SparkSession.builder.getOrCreate()\n",
    "from pyspark.sql.functions import regexp_replace, col"
   ]
  },
  {
   "cell_type": "code",
   "execution_count": 5,
   "id": "d0036e52",
   "metadata": {},
   "outputs": [
    {
     "name": "stdout",
     "output_type": "stream",
     "text": [
      "+----------+--------+-----+--------+\n",
      "|product_id| product|price|quantity|\n",
      "+----------+--------+-----+--------+\n",
      "|         1|  Laptop| 1000|       5|\n",
      "|         2|   Mouse| NULL|    NULL|\n",
      "|         3|Keyboard|   50|       2|\n",
      "|         4| Monitor|  200|    NULL|\n",
      "|         5|    NULL|  500|    NULL|\n",
      "+----------+--------+-----+--------+\n",
      "\n"
     ]
    }
   ],
   "source": [
    "# List of Data\n",
    "data = [\n",
    "    (1, \"Laptop\", 1000, 5), \n",
    "    (2, \"Mouse\", None, None), \n",
    "    (3, \"Keyboard\", 50, 2), \n",
    "    (4, \"Monitor\", 200, None), \n",
    "    (5, None, 500, None), \n",
    "    ] \n",
    "\n",
    "# Define schema and create DataFrame \n",
    "columns = [\"product_id\", \"product\", \"price\", \"quantity\"]\n",
    "\n",
    "df = spark.createDataFrame(data, columns) \n",
    "\n",
    "# Show the original DataFrame\n",
    "df.show()\n",
    "\n"
   ]
  },
  {
   "cell_type": "code",
   "execution_count": 6,
   "id": "451cec3c",
   "metadata": {},
   "outputs": [
    {
     "name": "stdout",
     "output_type": "stream",
     "text": [
      "+----------+--------+-----+--------+\n",
      "|product_id| product|price|quantity|\n",
      "+----------+--------+-----+--------+\n",
      "|         1|  Laptop| 1000|       5|\n",
      "|         2|   Mouse|  437|    NULL|\n",
      "|         3|Keyboard|   50|       2|\n",
      "|         4| Monitor|  200|    NULL|\n",
      "|         5|    NULL|  500|    NULL|\n",
      "+----------+--------+-----+--------+\n",
      "\n"
     ]
    }
   ],
   "source": [
    "# Step 1 Replace missing values in 'price' with mean\n",
    "mean_price = df.select(mean(col(\"price\"))).collect()[0][0]\n",
    "df = df.fillna({\"price\": mean_price})\n",
    "df.show()\n"
   ]
  },
  {
   "cell_type": "code",
   "execution_count": 8,
   "id": "6694c6a3",
   "metadata": {},
   "outputs": [
    {
     "name": "stdout",
     "output_type": "stream",
     "text": [
      "+----------+--------+-----+--------+\n",
      "|product_id| product|price|quantity|\n",
      "+----------+--------+-----+--------+\n",
      "|         1|  Laptop| 1000|       5|\n",
      "|         2|   Mouse|  437|    NULL|\n",
      "|         3|Keyboard|   50|       2|\n",
      "|         4| Monitor|  200|    NULL|\n",
      "+----------+--------+-----+--------+\n",
      "\n"
     ]
    }
   ],
   "source": [
    "# Step 2 : Drop rows where 'product' is null\n",
    "df = df.filter(col(\"product\").isNotNull())\n",
    "df.show()"
   ]
  },
  {
   "cell_type": "code",
   "execution_count": 10,
   "id": "2f57827e",
   "metadata": {},
   "outputs": [
    {
     "name": "stdout",
     "output_type": "stream",
     "text": [
      "+----------+--------+-----+--------+\n",
      "|product_id| product|price|quantity|\n",
      "+----------+--------+-----+--------+\n",
      "|         1|  Laptop| 1000|       5|\n",
      "|         2|   Mouse|  437|       1|\n",
      "|         3|Keyboard|   50|       2|\n",
      "|         4| Monitor|  200|       1|\n",
      "+----------+--------+-----+--------+\n",
      "\n"
     ]
    }
   ],
   "source": [
    "# Step 3: Fill missing values in 'quentity' with 1\n",
    "df = df.fillna({\"quantity\": 1})\n",
    "\n",
    "# Show the final Dataframe\n",
    "df.show()\n"
   ]
  },
  {
   "cell_type": "code",
   "execution_count": null,
   "id": "71b5a358",
   "metadata": {},
   "outputs": [],
   "source": []
  }
 ],
 "metadata": {
  "kernelspec": {
   "display_name": "Python 3",
   "language": "python",
   "name": "python3"
  },
  "language_info": {
   "codemirror_mode": {
    "name": "ipython",
    "version": 3
   },
   "file_extension": ".py",
   "mimetype": "text/x-python",
   "name": "python",
   "nbconvert_exporter": "python",
   "pygments_lexer": "ipython3",
   "version": "3.12.10"
  }
 },
 "nbformat": 4,
 "nbformat_minor": 5
}
