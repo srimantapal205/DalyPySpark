{
 "cells": [
  {
   "cell_type": "code",
   "execution_count": 1,
   "id": "0ed4ae1a",
   "metadata": {},
   "outputs": [],
   "source": [
    "from pyspark.sql import SparkSession\n",
    "from pyspark.sql.types import *\n",
    "from pyspark.sql.functions import *  # Import the function\n",
    "spark = SparkSession.builder.getOrCreate()\n",
    "from pyspark.sql.functions import regexp_replace, col\n",
    "from pyspark.sql.window import Window "
   ]
  },
  {
   "cell_type": "code",
   "execution_count": 4,
   "id": "50f9a61a",
   "metadata": {},
   "outputs": [
    {
     "name": "stdout",
     "output_type": "stream",
     "text": [
      "+------+-----+-----+\n",
      "|region|month|sales|\n",
      "+------+-----+-----+\n",
      "|   Est|  Jan|  200|\n",
      "|   Est|  Feb|  300|\n",
      "|   Est|  Mar|  250|\n",
      "|  West|  Jan|  400|\n",
      "|  West|  Jan|  350|\n",
      "|  West|  Jan|  450|\n",
      "+------+-----+-----+\n",
      "\n"
     ]
    }
   ],
   "source": [
    "data = [\n",
    "    (\"Est\", \"Jan\", 200),\n",
    "    (\"Est\", \"Feb\", 300),\n",
    "    (\"Est\", \"Mar\", 250),\n",
    "    (\"West\", \"Jan\", 400),\n",
    "    (\"West\", \"Jan\", 350),\n",
    "    (\"West\", \"Jan\", 450),\n",
    "]\n",
    "columns = [\"region\", \"month\", \"sales\"]\n",
    "\n",
    "sales_df = spark.createDataFrame(data, columns)\n",
    "\n",
    "sales_df.show()"
   ]
  },
  {
   "cell_type": "code",
   "execution_count": 5,
   "id": "7ec62591",
   "metadata": {},
   "outputs": [
    {
     "name": "stdout",
     "output_type": "stream",
     "text": [
      "+------+-----+-----+----------------+----+\n",
      "|region|month|sales|cumulative_sales|rank|\n",
      "+------+-----+-----+----------------+----+\n",
      "|   Est|  Jan|  200|             200|   1|\n",
      "|   Est|  Mar|  250|             450|   2|\n",
      "|   Est|  Feb|  300|             750|   3|\n",
      "|  West|  Jan|  350|             350|   1|\n",
      "|  West|  Jan|  400|             750|   2|\n",
      "|  West|  Jan|  450|            1200|   3|\n",
      "+------+-----+-----+----------------+----+\n",
      "\n"
     ]
    }
   ],
   "source": [
    "# Define window specification\n",
    "window_space = Window.partitionBy(\"region\").orderBy(\"sales\")\n",
    "\n",
    "#Add Cumulative sum and rank column\n",
    "result_df = sales_df.withColumn(\"cumulative_sales\", sum(\"sales\").over(window_space)).withColumn(\"rank\", rank().over(window_space))\n",
    "result_df.show()"
   ]
  },
  {
   "cell_type": "code",
   "execution_count": null,
   "id": "d2cb5298",
   "metadata": {},
   "outputs": [],
   "source": []
  }
 ],
 "metadata": {
  "kernelspec": {
   "display_name": "Python 3",
   "language": "python",
   "name": "python3"
  },
  "language_info": {
   "codemirror_mode": {
    "name": "ipython",
    "version": 3
   },
   "file_extension": ".py",
   "mimetype": "text/x-python",
   "name": "python",
   "nbconvert_exporter": "python",
   "pygments_lexer": "ipython3",
   "version": "3.12.10"
  }
 },
 "nbformat": 4,
 "nbformat_minor": 5
}
