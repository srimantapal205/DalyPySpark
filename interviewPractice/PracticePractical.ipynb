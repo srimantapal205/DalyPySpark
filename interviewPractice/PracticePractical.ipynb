{
  "cells": [
    {
      "cell_type": "markdown",
      "metadata": {
        "id": "c2L-0y-LDFIg"
      },
      "source": [
        "## PySpark COde Practice"
      ]
    },
    {
      "cell_type": "code",
      "execution_count": 3,
      "metadata": {
        "id": "dVz3VjwEDKo_"
      },
      "outputs": [
        {
          "ename": "Py4JJavaError",
          "evalue": "An error occurred while calling None.org.apache.spark.api.java.JavaSparkContext.\n: java.net.BindException: Failed to bind to address 0.0.0.0/0.0.0.0:15002: Service 'org.apache.spark.sql.connect.service.SparkConnectService$' failed after 0 retries (starting from 15002)! Consider explicitly setting the appropriate port for the service 'org.apache.spark.sql.connect.service.SparkConnectService$' (for example spark.ui.port for SparkUI) to an available port or increasing spark.port.maxRetries.\r\n\tat org.sparkproject.connect.grpc.netty.NettyServer.start(NettyServer.java:333)\r\n\tat org.sparkproject.connect.grpc.internal.ServerImpl.start(ServerImpl.java:185)\r\n\tat org.sparkproject.connect.grpc.internal.ServerImpl.start(ServerImpl.java:94)\r\n\tat org.apache.spark.sql.connect.service.SparkConnectService$.$anonfun$startGRPCService$1(SparkConnectService.scala:396)\r\n\tat org.apache.spark.sql.connect.service.SparkConnectService$.$anonfun$startGRPCService$1$adapted(SparkConnectService.scala:374)\r\n\tat org.apache.spark.util.Utils$.$anonfun$startServiceOnPort$2(Utils.scala:2262)\r\n\tat scala.collection.immutable.Range.foreach$mVc$sp(Range.scala:192)\r\n\tat org.apache.spark.util.Utils$.startServiceOnPort(Utils.scala:2254)\r\n\tat org.apache.spark.sql.connect.service.SparkConnectService$.startGRPCService(SparkConnectService.scala:412)\r\n\tat org.apache.spark.sql.connect.service.SparkConnectService$.start(SparkConnectService.scala:422)\r\n\tat org.apache.spark.sql.connect.SparkConnectPlugin$$anon$1.init(SparkConnectPlugin.scala:48)\r\n\tat org.apache.spark.internal.plugin.DriverPluginContainer.$anonfun$driverPlugins$1(PluginContainer.scala:53)\r\n\tat scala.collection.StrictOptimizedIterableOps.flatMap(StrictOptimizedIterableOps.scala:118)\r\n\tat scala.collection.StrictOptimizedIterableOps.flatMap$(StrictOptimizedIterableOps.scala:105)\r\n\tat scala.collection.immutable.ArraySeq.flatMap(ArraySeq.scala:35)\r\n\tat org.apache.spark.internal.plugin.DriverPluginContainer.<init>(PluginContainer.scala:46)\r\n\tat org.apache.spark.internal.plugin.PluginContainer$.apply(PluginContainer.scala:213)\r\n\tat org.apache.spark.internal.plugin.PluginContainer$.apply(PluginContainer.scala:196)\r\n\tat org.apache.spark.SparkContext.<init>(SparkContext.scala:588)\r\n\tat org.apache.spark.api.java.JavaSparkContext.<init>(JavaSparkContext.scala:59)\r\n\tat java.base/jdk.internal.reflect.NativeConstructorAccessorImpl.newInstance0(Native Method)\r\n\tat java.base/jdk.internal.reflect.NativeConstructorAccessorImpl.newInstance(NativeConstructorAccessorImpl.java:75)\r\n\tat java.base/jdk.internal.reflect.DelegatingConstructorAccessorImpl.newInstance(DelegatingConstructorAccessorImpl.java:53)\r\n\tat java.base/java.lang.reflect.Constructor.newInstanceWithCaller(Constructor.java:502)\r\n\tat java.base/java.lang.reflect.Constructor.newInstance(Constructor.java:486)\r\n\tat py4j.reflection.MethodInvoker.invoke(MethodInvoker.java:247)\r\n\tat py4j.reflection.ReflectionEngine.invoke(ReflectionEngine.java:374)\r\n\tat py4j.Gateway.invoke(Gateway.java:238)\r\n\tat py4j.commands.ConstructorCommand.invokeConstructor(ConstructorCommand.java:80)\r\n\tat py4j.commands.ConstructorCommand.execute(ConstructorCommand.java:69)\r\n\tat py4j.ClientServerConnection.waitForCommands(ClientServerConnection.java:184)\r\n\tat py4j.ClientServerConnection.run(ClientServerConnection.java:108)\r\n\tat java.base/java.lang.Thread.run(Thread.java:1583)\r\n",
          "output_type": "error",
          "traceback": [
            "\u001b[1;31m---------------------------------------------------------------------------\u001b[0m",
            "\u001b[1;31mPy4JJavaError\u001b[0m                             Traceback (most recent call last)",
            "Cell \u001b[1;32mIn[3], line 6\u001b[0m\n\u001b[0;32m      4\u001b[0m \u001b[38;5;28;01mfrom\u001b[39;00m\u001b[38;5;250m \u001b[39m\u001b[38;5;21;01mpyspark\u001b[39;00m\u001b[38;5;21;01m.\u001b[39;00m\u001b[38;5;21;01msql\u001b[39;00m\u001b[38;5;21;01m.\u001b[39;00m\u001b[38;5;21;01mfunctions\u001b[39;00m\u001b[38;5;250m \u001b[39m\u001b[38;5;28;01mimport\u001b[39;00m \u001b[38;5;241m*\u001b[39m  \u001b[38;5;66;03m# Import the function\u001b[39;00m\n\u001b[0;32m      5\u001b[0m \u001b[38;5;28;01mfrom\u001b[39;00m\u001b[38;5;250m \u001b[39m\u001b[38;5;21;01mpyspark\u001b[39;00m\u001b[38;5;21;01m.\u001b[39;00m\u001b[38;5;21;01msql\u001b[39;00m\u001b[38;5;21;01m.\u001b[39;00m\u001b[38;5;21;01mfunctions\u001b[39;00m\u001b[38;5;250m \u001b[39m\u001b[38;5;28;01mimport\u001b[39;00m regexp_replace, col\n\u001b[1;32m----> 6\u001b[0m spark \u001b[38;5;241m=\u001b[39m \u001b[43mSparkSession\u001b[49m\u001b[38;5;241;43m.\u001b[39;49m\u001b[43mbuilder\u001b[49m\u001b[38;5;241;43m.\u001b[39;49m\u001b[43mgetOrCreate\u001b[49m\u001b[43m(\u001b[49m\u001b[43m)\u001b[49m\n",
            "File \u001b[1;32m~\\AppData\\Local\\Packages\\PythonSoftwareFoundation.Python.3.12_qbz5n2kfra8p0\\LocalCache\\local-packages\\Python312\\site-packages\\pyspark\\sql\\session.py:527\u001b[0m, in \u001b[0;36mSparkSession.Builder.getOrCreate\u001b[1;34m(self)\u001b[0m\n\u001b[0;32m    523\u001b[0m \u001b[38;5;28;01mif\u001b[39;00m url\u001b[38;5;241m.\u001b[39mstartswith(\u001b[38;5;124m\"\u001b[39m\u001b[38;5;124mlocal\u001b[39m\u001b[38;5;124m\"\u001b[39m) \u001b[38;5;129;01mor\u001b[39;00m (\n\u001b[0;32m    524\u001b[0m     is_api_mode_connect \u001b[38;5;129;01mand\u001b[39;00m \u001b[38;5;129;01mnot\u001b[39;00m url\u001b[38;5;241m.\u001b[39mstartswith(\u001b[38;5;124m\"\u001b[39m\u001b[38;5;124msc://\u001b[39m\u001b[38;5;124m\"\u001b[39m)\n\u001b[0;32m    525\u001b[0m ):\n\u001b[0;32m    526\u001b[0m     os\u001b[38;5;241m.\u001b[39menviron[\u001b[38;5;124m\"\u001b[39m\u001b[38;5;124mSPARK_LOCAL_REMOTE\u001b[39m\u001b[38;5;124m\"\u001b[39m] \u001b[38;5;241m=\u001b[39m \u001b[38;5;124m\"\u001b[39m\u001b[38;5;124m1\u001b[39m\u001b[38;5;124m\"\u001b[39m\n\u001b[1;32m--> 527\u001b[0m     \u001b[43mRemoteSparkSession\u001b[49m\u001b[38;5;241;43m.\u001b[39;49m\u001b[43m_start_connect_server\u001b[49m\u001b[43m(\u001b[49m\u001b[43murl\u001b[49m\u001b[43m,\u001b[49m\u001b[43m \u001b[49m\u001b[43mopts\u001b[49m\u001b[43m)\u001b[49m\n\u001b[0;32m    528\u001b[0m     url \u001b[38;5;241m=\u001b[39m \u001b[38;5;124m\"\u001b[39m\u001b[38;5;124msc://localhost\u001b[39m\u001b[38;5;124m\"\u001b[39m\n\u001b[0;32m    530\u001b[0m os\u001b[38;5;241m.\u001b[39menviron[\u001b[38;5;124m\"\u001b[39m\u001b[38;5;124mSPARK_CONNECT_MODE_ENABLED\u001b[39m\u001b[38;5;124m\"\u001b[39m] \u001b[38;5;241m=\u001b[39m \u001b[38;5;124m\"\u001b[39m\u001b[38;5;124m1\u001b[39m\u001b[38;5;124m\"\u001b[39m\n",
            "File \u001b[1;32m~\\AppData\\Local\\Packages\\PythonSoftwareFoundation.Python.3.12_qbz5n2kfra8p0\\LocalCache\\local-packages\\Python312\\site-packages\\pyspark\\sql\\connect\\session.py:1087\u001b[0m, in \u001b[0;36mSparkSession._start_connect_server\u001b[1;34m(master, opts)\u001b[0m\n\u001b[0;32m   1085\u001b[0m conf \u001b[38;5;241m=\u001b[39m SparkConf(loadDefaults\u001b[38;5;241m=\u001b[39m\u001b[38;5;28;01mTrue\u001b[39;00m)\n\u001b[0;32m   1086\u001b[0m conf\u001b[38;5;241m.\u001b[39msetAll(\u001b[38;5;28mlist\u001b[39m(overwrite_conf\u001b[38;5;241m.\u001b[39mitems()))\u001b[38;5;241m.\u001b[39msetAll(\u001b[38;5;28mlist\u001b[39m(default_conf\u001b[38;5;241m.\u001b[39mitems()))\n\u001b[1;32m-> 1087\u001b[0m PySparkSession(\u001b[43mSparkContext\u001b[49m\u001b[38;5;241;43m.\u001b[39;49m\u001b[43mgetOrCreate\u001b[49m\u001b[43m(\u001b[49m\u001b[43mconf\u001b[49m\u001b[43m)\u001b[49m)\n\u001b[0;32m   1089\u001b[0m \u001b[38;5;66;03m# Lastly only keep runtime configurations because other configurations are\u001b[39;00m\n\u001b[0;32m   1090\u001b[0m \u001b[38;5;66;03m# disallowed to set in the regular Spark Connect session.\u001b[39;00m\n\u001b[0;32m   1091\u001b[0m utl \u001b[38;5;241m=\u001b[39m SparkContext\u001b[38;5;241m.\u001b[39m_jvm\u001b[38;5;241m.\u001b[39mPythonSQLUtils  \u001b[38;5;66;03m# type: ignore[union-attr]\u001b[39;00m\n",
            "File \u001b[1;32m~\\AppData\\Local\\Packages\\PythonSoftwareFoundation.Python.3.12_qbz5n2kfra8p0\\LocalCache\\local-packages\\Python312\\site-packages\\pyspark\\core\\context.py:523\u001b[0m, in \u001b[0;36mSparkContext.getOrCreate\u001b[1;34m(cls, conf)\u001b[0m\n\u001b[0;32m    521\u001b[0m \u001b[38;5;28;01mwith\u001b[39;00m SparkContext\u001b[38;5;241m.\u001b[39m_lock:\n\u001b[0;32m    522\u001b[0m     \u001b[38;5;28;01mif\u001b[39;00m SparkContext\u001b[38;5;241m.\u001b[39m_active_spark_context \u001b[38;5;129;01mis\u001b[39;00m \u001b[38;5;28;01mNone\u001b[39;00m:\n\u001b[1;32m--> 523\u001b[0m         \u001b[43mSparkContext\u001b[49m\u001b[43m(\u001b[49m\u001b[43mconf\u001b[49m\u001b[38;5;241;43m=\u001b[39;49m\u001b[43mconf\u001b[49m\u001b[43m \u001b[49m\u001b[38;5;129;43;01mor\u001b[39;49;00m\u001b[43m \u001b[49m\u001b[43mSparkConf\u001b[49m\u001b[43m(\u001b[49m\u001b[43m)\u001b[49m\u001b[43m)\u001b[49m\n\u001b[0;32m    524\u001b[0m     \u001b[38;5;28;01massert\u001b[39;00m SparkContext\u001b[38;5;241m.\u001b[39m_active_spark_context \u001b[38;5;129;01mis\u001b[39;00m \u001b[38;5;129;01mnot\u001b[39;00m \u001b[38;5;28;01mNone\u001b[39;00m\n\u001b[0;32m    525\u001b[0m     \u001b[38;5;28;01mreturn\u001b[39;00m SparkContext\u001b[38;5;241m.\u001b[39m_active_spark_context\n",
            "File \u001b[1;32m~\\AppData\\Local\\Packages\\PythonSoftwareFoundation.Python.3.12_qbz5n2kfra8p0\\LocalCache\\local-packages\\Python312\\site-packages\\pyspark\\core\\context.py:207\u001b[0m, in \u001b[0;36mSparkContext.__init__\u001b[1;34m(self, master, appName, sparkHome, pyFiles, environment, batchSize, serializer, conf, gateway, jsc, profiler_cls, udf_profiler_cls, memory_profiler_cls)\u001b[0m\n\u001b[0;32m    205\u001b[0m SparkContext\u001b[38;5;241m.\u001b[39m_ensure_initialized(\u001b[38;5;28mself\u001b[39m, gateway\u001b[38;5;241m=\u001b[39mgateway, conf\u001b[38;5;241m=\u001b[39mconf)\n\u001b[0;32m    206\u001b[0m \u001b[38;5;28;01mtry\u001b[39;00m:\n\u001b[1;32m--> 207\u001b[0m     \u001b[38;5;28;43mself\u001b[39;49m\u001b[38;5;241;43m.\u001b[39;49m\u001b[43m_do_init\u001b[49m\u001b[43m(\u001b[49m\n\u001b[0;32m    208\u001b[0m \u001b[43m        \u001b[49m\u001b[43mmaster\u001b[49m\u001b[43m,\u001b[49m\n\u001b[0;32m    209\u001b[0m \u001b[43m        \u001b[49m\u001b[43mappName\u001b[49m\u001b[43m,\u001b[49m\n\u001b[0;32m    210\u001b[0m \u001b[43m        \u001b[49m\u001b[43msparkHome\u001b[49m\u001b[43m,\u001b[49m\n\u001b[0;32m    211\u001b[0m \u001b[43m        \u001b[49m\u001b[43mpyFiles\u001b[49m\u001b[43m,\u001b[49m\n\u001b[0;32m    212\u001b[0m \u001b[43m        \u001b[49m\u001b[43menvironment\u001b[49m\u001b[43m,\u001b[49m\n\u001b[0;32m    213\u001b[0m \u001b[43m        \u001b[49m\u001b[43mbatchSize\u001b[49m\u001b[43m,\u001b[49m\n\u001b[0;32m    214\u001b[0m \u001b[43m        \u001b[49m\u001b[43mserializer\u001b[49m\u001b[43m,\u001b[49m\n\u001b[0;32m    215\u001b[0m \u001b[43m        \u001b[49m\u001b[43mconf\u001b[49m\u001b[43m,\u001b[49m\n\u001b[0;32m    216\u001b[0m \u001b[43m        \u001b[49m\u001b[43mjsc\u001b[49m\u001b[43m,\u001b[49m\n\u001b[0;32m    217\u001b[0m \u001b[43m        \u001b[49m\u001b[43mprofiler_cls\u001b[49m\u001b[43m,\u001b[49m\n\u001b[0;32m    218\u001b[0m \u001b[43m        \u001b[49m\u001b[43mudf_profiler_cls\u001b[49m\u001b[43m,\u001b[49m\n\u001b[0;32m    219\u001b[0m \u001b[43m        \u001b[49m\u001b[43mmemory_profiler_cls\u001b[49m\u001b[43m,\u001b[49m\n\u001b[0;32m    220\u001b[0m \u001b[43m    \u001b[49m\u001b[43m)\u001b[49m\n\u001b[0;32m    221\u001b[0m \u001b[38;5;28;01mexcept\u001b[39;00m \u001b[38;5;167;01mBaseException\u001b[39;00m:\n\u001b[0;32m    222\u001b[0m     \u001b[38;5;66;03m# If an error occurs, clean up in order to allow future SparkContext creation:\u001b[39;00m\n\u001b[0;32m    223\u001b[0m     \u001b[38;5;28mself\u001b[39m\u001b[38;5;241m.\u001b[39mstop()\n",
            "File \u001b[1;32m~\\AppData\\Local\\Packages\\PythonSoftwareFoundation.Python.3.12_qbz5n2kfra8p0\\LocalCache\\local-packages\\Python312\\site-packages\\pyspark\\core\\context.py:300\u001b[0m, in \u001b[0;36mSparkContext._do_init\u001b[1;34m(self, master, appName, sparkHome, pyFiles, environment, batchSize, serializer, conf, jsc, profiler_cls, udf_profiler_cls, memory_profiler_cls)\u001b[0m\n\u001b[0;32m    297\u001b[0m \u001b[38;5;28mself\u001b[39m\u001b[38;5;241m.\u001b[39menvironment[\u001b[38;5;124m\"\u001b[39m\u001b[38;5;124mPYTHONHASHSEED\u001b[39m\u001b[38;5;124m\"\u001b[39m] \u001b[38;5;241m=\u001b[39m os\u001b[38;5;241m.\u001b[39menviron\u001b[38;5;241m.\u001b[39mget(\u001b[38;5;124m\"\u001b[39m\u001b[38;5;124mPYTHONHASHSEED\u001b[39m\u001b[38;5;124m\"\u001b[39m, \u001b[38;5;124m\"\u001b[39m\u001b[38;5;124m0\u001b[39m\u001b[38;5;124m\"\u001b[39m)\n\u001b[0;32m    299\u001b[0m \u001b[38;5;66;03m# Create the Java SparkContext through Py4J\u001b[39;00m\n\u001b[1;32m--> 300\u001b[0m \u001b[38;5;28mself\u001b[39m\u001b[38;5;241m.\u001b[39m_jsc \u001b[38;5;241m=\u001b[39m jsc \u001b[38;5;129;01mor\u001b[39;00m \u001b[38;5;28;43mself\u001b[39;49m\u001b[38;5;241;43m.\u001b[39;49m\u001b[43m_initialize_context\u001b[49m\u001b[43m(\u001b[49m\u001b[38;5;28;43mself\u001b[39;49m\u001b[38;5;241;43m.\u001b[39;49m\u001b[43m_conf\u001b[49m\u001b[38;5;241;43m.\u001b[39;49m\u001b[43m_jconf\u001b[49m\u001b[43m)\u001b[49m\n\u001b[0;32m    301\u001b[0m \u001b[38;5;66;03m# Reset the SparkConf to the one actually used by the SparkContext in JVM.\u001b[39;00m\n\u001b[0;32m    302\u001b[0m \u001b[38;5;28mself\u001b[39m\u001b[38;5;241m.\u001b[39m_conf \u001b[38;5;241m=\u001b[39m SparkConf(_jconf\u001b[38;5;241m=\u001b[39m\u001b[38;5;28mself\u001b[39m\u001b[38;5;241m.\u001b[39m_jsc\u001b[38;5;241m.\u001b[39msc()\u001b[38;5;241m.\u001b[39mconf())\n",
            "File \u001b[1;32m~\\AppData\\Local\\Packages\\PythonSoftwareFoundation.Python.3.12_qbz5n2kfra8p0\\LocalCache\\local-packages\\Python312\\site-packages\\pyspark\\core\\context.py:429\u001b[0m, in \u001b[0;36mSparkContext._initialize_context\u001b[1;34m(self, jconf)\u001b[0m\n\u001b[0;32m    425\u001b[0m \u001b[38;5;250m\u001b[39m\u001b[38;5;124;03m\"\"\"\u001b[39;00m\n\u001b[0;32m    426\u001b[0m \u001b[38;5;124;03mInitialize SparkContext in function to allow subclass specific initialization\u001b[39;00m\n\u001b[0;32m    427\u001b[0m \u001b[38;5;124;03m\"\"\"\u001b[39;00m\n\u001b[0;32m    428\u001b[0m \u001b[38;5;28;01massert\u001b[39;00m \u001b[38;5;28mself\u001b[39m\u001b[38;5;241m.\u001b[39m_jvm \u001b[38;5;129;01mis\u001b[39;00m \u001b[38;5;129;01mnot\u001b[39;00m \u001b[38;5;28;01mNone\u001b[39;00m\n\u001b[1;32m--> 429\u001b[0m \u001b[38;5;28;01mreturn\u001b[39;00m \u001b[38;5;28;43mself\u001b[39;49m\u001b[38;5;241;43m.\u001b[39;49m\u001b[43m_jvm\u001b[49m\u001b[38;5;241;43m.\u001b[39;49m\u001b[43mJavaSparkContext\u001b[49m\u001b[43m(\u001b[49m\u001b[43mjconf\u001b[49m\u001b[43m)\u001b[49m\n",
            "File \u001b[1;32m~\\AppData\\Local\\Packages\\PythonSoftwareFoundation.Python.3.12_qbz5n2kfra8p0\\LocalCache\\local-packages\\Python312\\site-packages\\py4j\\java_gateway.py:1627\u001b[0m, in \u001b[0;36mJavaClass.__call__\u001b[1;34m(self, *args)\u001b[0m\n\u001b[0;32m   1621\u001b[0m command \u001b[38;5;241m=\u001b[39m proto\u001b[38;5;241m.\u001b[39mCONSTRUCTOR_COMMAND_NAME \u001b[38;5;241m+\u001b[39m\\\n\u001b[0;32m   1622\u001b[0m     \u001b[38;5;28mself\u001b[39m\u001b[38;5;241m.\u001b[39m_command_header \u001b[38;5;241m+\u001b[39m\\\n\u001b[0;32m   1623\u001b[0m     args_command \u001b[38;5;241m+\u001b[39m\\\n\u001b[0;32m   1624\u001b[0m     proto\u001b[38;5;241m.\u001b[39mEND_COMMAND_PART\n\u001b[0;32m   1626\u001b[0m answer \u001b[38;5;241m=\u001b[39m \u001b[38;5;28mself\u001b[39m\u001b[38;5;241m.\u001b[39m_gateway_client\u001b[38;5;241m.\u001b[39msend_command(command)\n\u001b[1;32m-> 1627\u001b[0m return_value \u001b[38;5;241m=\u001b[39m \u001b[43mget_return_value\u001b[49m\u001b[43m(\u001b[49m\n\u001b[0;32m   1628\u001b[0m \u001b[43m    \u001b[49m\u001b[43manswer\u001b[49m\u001b[43m,\u001b[49m\u001b[43m \u001b[49m\u001b[38;5;28;43mself\u001b[39;49m\u001b[38;5;241;43m.\u001b[39;49m\u001b[43m_gateway_client\u001b[49m\u001b[43m,\u001b[49m\u001b[43m \u001b[49m\u001b[38;5;28;43;01mNone\u001b[39;49;00m\u001b[43m,\u001b[49m\u001b[43m \u001b[49m\u001b[38;5;28;43mself\u001b[39;49m\u001b[38;5;241;43m.\u001b[39;49m\u001b[43m_fqn\u001b[49m\u001b[43m)\u001b[49m\n\u001b[0;32m   1630\u001b[0m \u001b[38;5;28;01mfor\u001b[39;00m temp_arg \u001b[38;5;129;01min\u001b[39;00m temp_args:\n\u001b[0;32m   1631\u001b[0m     \u001b[38;5;28;01mif\u001b[39;00m \u001b[38;5;28mhasattr\u001b[39m(temp_arg, \u001b[38;5;124m\"\u001b[39m\u001b[38;5;124m_detach\u001b[39m\u001b[38;5;124m\"\u001b[39m):\n",
            "File \u001b[1;32m~\\AppData\\Local\\Packages\\PythonSoftwareFoundation.Python.3.12_qbz5n2kfra8p0\\LocalCache\\local-packages\\Python312\\site-packages\\py4j\\protocol.py:327\u001b[0m, in \u001b[0;36mget_return_value\u001b[1;34m(answer, gateway_client, target_id, name)\u001b[0m\n\u001b[0;32m    325\u001b[0m value \u001b[38;5;241m=\u001b[39m OUTPUT_CONVERTER[\u001b[38;5;28mtype\u001b[39m](answer[\u001b[38;5;241m2\u001b[39m:], gateway_client)\n\u001b[0;32m    326\u001b[0m \u001b[38;5;28;01mif\u001b[39;00m answer[\u001b[38;5;241m1\u001b[39m] \u001b[38;5;241m==\u001b[39m REFERENCE_TYPE:\n\u001b[1;32m--> 327\u001b[0m     \u001b[38;5;28;01mraise\u001b[39;00m Py4JJavaError(\n\u001b[0;32m    328\u001b[0m         \u001b[38;5;124m\"\u001b[39m\u001b[38;5;124mAn error occurred while calling \u001b[39m\u001b[38;5;132;01m{0}\u001b[39;00m\u001b[38;5;132;01m{1}\u001b[39;00m\u001b[38;5;132;01m{2}\u001b[39;00m\u001b[38;5;124m.\u001b[39m\u001b[38;5;130;01m\\n\u001b[39;00m\u001b[38;5;124m\"\u001b[39m\u001b[38;5;241m.\u001b[39m\n\u001b[0;32m    329\u001b[0m         \u001b[38;5;28mformat\u001b[39m(target_id, \u001b[38;5;124m\"\u001b[39m\u001b[38;5;124m.\u001b[39m\u001b[38;5;124m\"\u001b[39m, name), value)\n\u001b[0;32m    330\u001b[0m \u001b[38;5;28;01melse\u001b[39;00m:\n\u001b[0;32m    331\u001b[0m     \u001b[38;5;28;01mraise\u001b[39;00m Py4JError(\n\u001b[0;32m    332\u001b[0m         \u001b[38;5;124m\"\u001b[39m\u001b[38;5;124mAn error occurred while calling \u001b[39m\u001b[38;5;132;01m{0}\u001b[39;00m\u001b[38;5;132;01m{1}\u001b[39;00m\u001b[38;5;132;01m{2}\u001b[39;00m\u001b[38;5;124m. Trace:\u001b[39m\u001b[38;5;130;01m\\n\u001b[39;00m\u001b[38;5;132;01m{3}\u001b[39;00m\u001b[38;5;130;01m\\n\u001b[39;00m\u001b[38;5;124m\"\u001b[39m\u001b[38;5;241m.\u001b[39m\n\u001b[0;32m    333\u001b[0m         \u001b[38;5;28mformat\u001b[39m(target_id, \u001b[38;5;124m\"\u001b[39m\u001b[38;5;124m.\u001b[39m\u001b[38;5;124m\"\u001b[39m, name, value))\n",
            "\u001b[1;31mPy4JJavaError\u001b[0m: An error occurred while calling None.org.apache.spark.api.java.JavaSparkContext.\n: java.net.BindException: Failed to bind to address 0.0.0.0/0.0.0.0:15002: Service 'org.apache.spark.sql.connect.service.SparkConnectService$' failed after 0 retries (starting from 15002)! Consider explicitly setting the appropriate port for the service 'org.apache.spark.sql.connect.service.SparkConnectService$' (for example spark.ui.port for SparkUI) to an available port or increasing spark.port.maxRetries.\r\n\tat org.sparkproject.connect.grpc.netty.NettyServer.start(NettyServer.java:333)\r\n\tat org.sparkproject.connect.grpc.internal.ServerImpl.start(ServerImpl.java:185)\r\n\tat org.sparkproject.connect.grpc.internal.ServerImpl.start(ServerImpl.java:94)\r\n\tat org.apache.spark.sql.connect.service.SparkConnectService$.$anonfun$startGRPCService$1(SparkConnectService.scala:396)\r\n\tat org.apache.spark.sql.connect.service.SparkConnectService$.$anonfun$startGRPCService$1$adapted(SparkConnectService.scala:374)\r\n\tat org.apache.spark.util.Utils$.$anonfun$startServiceOnPort$2(Utils.scala:2262)\r\n\tat scala.collection.immutable.Range.foreach$mVc$sp(Range.scala:192)\r\n\tat org.apache.spark.util.Utils$.startServiceOnPort(Utils.scala:2254)\r\n\tat org.apache.spark.sql.connect.service.SparkConnectService$.startGRPCService(SparkConnectService.scala:412)\r\n\tat org.apache.spark.sql.connect.service.SparkConnectService$.start(SparkConnectService.scala:422)\r\n\tat org.apache.spark.sql.connect.SparkConnectPlugin$$anon$1.init(SparkConnectPlugin.scala:48)\r\n\tat org.apache.spark.internal.plugin.DriverPluginContainer.$anonfun$driverPlugins$1(PluginContainer.scala:53)\r\n\tat scala.collection.StrictOptimizedIterableOps.flatMap(StrictOptimizedIterableOps.scala:118)\r\n\tat scala.collection.StrictOptimizedIterableOps.flatMap$(StrictOptimizedIterableOps.scala:105)\r\n\tat scala.collection.immutable.ArraySeq.flatMap(ArraySeq.scala:35)\r\n\tat org.apache.spark.internal.plugin.DriverPluginContainer.<init>(PluginContainer.scala:46)\r\n\tat org.apache.spark.internal.plugin.PluginContainer$.apply(PluginContainer.scala:213)\r\n\tat org.apache.spark.internal.plugin.PluginContainer$.apply(PluginContainer.scala:196)\r\n\tat org.apache.spark.SparkContext.<init>(SparkContext.scala:588)\r\n\tat org.apache.spark.api.java.JavaSparkContext.<init>(JavaSparkContext.scala:59)\r\n\tat java.base/jdk.internal.reflect.NativeConstructorAccessorImpl.newInstance0(Native Method)\r\n\tat java.base/jdk.internal.reflect.NativeConstructorAccessorImpl.newInstance(NativeConstructorAccessorImpl.java:75)\r\n\tat java.base/jdk.internal.reflect.DelegatingConstructorAccessorImpl.newInstance(DelegatingConstructorAccessorImpl.java:53)\r\n\tat java.base/java.lang.reflect.Constructor.newInstanceWithCaller(Constructor.java:502)\r\n\tat java.base/java.lang.reflect.Constructor.newInstance(Constructor.java:486)\r\n\tat py4j.reflection.MethodInvoker.invoke(MethodInvoker.java:247)\r\n\tat py4j.reflection.ReflectionEngine.invoke(ReflectionEngine.java:374)\r\n\tat py4j.Gateway.invoke(Gateway.java:238)\r\n\tat py4j.commands.ConstructorCommand.invokeConstructor(ConstructorCommand.java:80)\r\n\tat py4j.commands.ConstructorCommand.execute(ConstructorCommand.java:69)\r\n\tat py4j.ClientServerConnection.waitForCommands(ClientServerConnection.java:184)\r\n\tat py4j.ClientServerConnection.run(ClientServerConnection.java:108)\r\n\tat java.base/java.lang.Thread.run(Thread.java:1583)\r\n"
          ]
        }
      ],
      "source": [
        "from pyspark.sql import SparkSession\n",
        "from pyspark.sql.types import *\n",
        "from pyspark.sql import *\n",
        "from pyspark.sql.functions import *  # Import the function\n",
        "from pyspark.sql.functions import regexp_replace, col\n",
        "spark = SparkSession.builder.getOrCreate()"
      ]
    },
    {
      "cell_type": "markdown",
      "metadata": {
        "id": "UeNn8qQ12Ysa"
      },
      "source": [
        "#### 1. Calculate the difference (in days) between the start_date and end_date."
      ]
    },
    {
      "cell_type": "code",
      "execution_count": null,
      "metadata": {
        "colab": {
          "base_uri": "https://localhost:8080/"
        },
        "id": "Mee6nzKL2UA0",
        "outputId": "1bc19173-1daf-4f36-87ce-12535346954f"
      },
      "outputs": [],
      "source": [
        "df = spark.createDataFrame(\n",
        "      [\n",
        "        (\"2023-01-01\", \"2023-02-01\"),\n",
        "        (\"2023-03-15\", \"2023-03-20\")\n",
        "      ],\n",
        "      [\"start_date\", \"end_date\"]\n",
        "    )\n",
        "\n",
        "df.show()\n",
        "dif_df = df.withColumn(\"date_diffrence\", datediff(col(\"end_date\"), col(\"start_date\")))\n",
        "dif_df.show()"
      ]
    },
    {
      "cell_type": "markdown",
      "metadata": {
        "id": "y0MS7a_l4I2e"
      },
      "source": [
        "#### 2. Extracting Year from a Date Column Sometimes, you may need to extract specific parts of a date, such as the year, especially when grouping data by year."
      ]
    },
    {
      "cell_type": "code",
      "execution_count": null,
      "metadata": {
        "colab": {
          "base_uri": "https://localhost:8080/"
        },
        "id": "3tFHBBGz38ay",
        "outputId": "559eff20-ef6c-495c-bfcf-bb5ce93a322c"
      },
      "outputs": [],
      "source": [
        "# Define schema for the dataframe\n",
        "schema = StructType(\n",
        "    [\n",
        "        StructField('event_date', StringType(), True)\n",
        "    ]\n",
        ")\n",
        "\n",
        "df =spark.createDataFrame([(\"2023-04-15\",),\n",
        " (\"2022-11-30\",),\n",
        " (\"2021-08-25\",)], schema)\n",
        "df.show()\n",
        "\n",
        "#Convert event date column as date type\n",
        "\n",
        "df = df.withColumn('event_date', to_date(col('event_date'), 'yyyy-MM-dd'))\n",
        "df.withColumn('year', year(col('event_date'))).show()\n",
        "\n",
        "\n"
      ]
    },
    {
      "cell_type": "markdown",
      "metadata": {
        "id": "NVmIZ58v5-uV"
      },
      "source": [
        "####3. Filter Records Based on Date\n",
        "\n",
        "Filtering records based on specific date ranges is a common operation in time-series data.\n",
        "\n",
        "#### Scenario:\n",
        "Filter records where event_date is after 2023-06-01."
      ]
    },
    {
      "cell_type": "code",
      "execution_count": null,
      "metadata": {
        "colab": {
          "base_uri": "https://localhost:8080/"
        },
        "id": "LiEMwEiu5H4T",
        "outputId": "34412b96-20ed-4e40-840f-bc2110f52f14"
      },
      "outputs": [],
      "source": [
        "# Define schema for the dataframe\n",
        "schema = StructType([\n",
        " StructField(\"event_date\", StringType(), True)\n",
        "])\n",
        "# Create DataFrame\n",
        "df = spark.createDataFrame([\n",
        " (\"2023-05-15\",),\n",
        " (\"2023-07-20\",),\n",
        " (\"2023-06-05\",)\n",
        "], schema)\n",
        "df.show()\n",
        "#Convert event date to data type and filter for dates after '2023-06-01'\n",
        "df = df.withColumn('event_date', to_date(col(\"event_date\"), 'yyyy-MM-dd'))\n",
        "df.filter(col('event_date') > '2023-06-01').show()"
      ]
    },
    {
      "cell_type": "markdown",
      "metadata": {
        "id": "OkDGHsru-GBX"
      },
      "source": [
        "#### 4. Add Days to Date\n",
        "\n",
        "Adding a certain number of days to a date is crucial when planning tasks or calculating deadlines.\n",
        "\n",
        "#### Scenario:\n",
        "Add 30 days to each date in the order_date column."
      ]
    },
    {
      "cell_type": "code",
      "execution_count": null,
      "metadata": {
        "colab": {
          "base_uri": "https://localhost:8080/"
        },
        "id": "aslSjkjd9zJi",
        "outputId": "8744a34b-3438-4c36-9710-b3b0f05793c0"
      },
      "outputs": [],
      "source": [
        "df = spark.createDataFrame([\n",
        "    (\"2023-01-10\",),\n",
        "    (\"2023-06-15\",),\n",
        "    (\"2023-07-30\",)\n",
        "], [\"order_date\"])\n",
        "\n",
        "#convert order_date to DataType and add 30 days\n",
        "df = df.withColumn(\"order_date\", to_date(col('order_date'), 'yyyy-MM-dd'))\n",
        "add_df = df.withColumn(\"new_order_date\", date_add(col('order_date'), 30))\n",
        "add_df.show()\n",
        "\n"
      ]
    },
    {
      "cell_type": "code",
      "execution_count": null,
      "metadata": {
        "id": "cLYKGhiKAADl"
      },
      "outputs": [],
      "source": []
    },
    {
      "cell_type": "markdown",
      "metadata": {
        "id": "5YxiVX3aBb4p"
      },
      "source": [
        "####5. Find the Maximum Date in a Column\n",
        "\n",
        "Finding the latest date in a dataset is helpful when dealing with transaction logs or event timestamps.\n",
        "\n",
        "#### Scenario\n",
        "\n",
        "Find the latest payment_date in the column.\n"
      ]
    },
    {
      "cell_type": "code",
      "execution_count": null,
      "metadata": {
        "colab": {
          "base_uri": "https://localhost:8080/"
        },
        "id": "H4mBP0hzBtve",
        "outputId": "84952758-a610-4e8c-ef49-ec10b32064f7"
      },
      "outputs": [],
      "source": [
        "df = spark.createDataFrame([\n",
        " (\"2023-02-15\",),\n",
        " (\"2023-06-25\",),\n",
        " (\"2023-01-10\",)\n",
        "], [\"payment_date\"])\n",
        "\n",
        "df.show()\n",
        "#Convert date into Date type and get the latest payment date\n",
        "df = df.withColumn('payment_date', to_date(col('payment_date'), \"yyyy-MM-dd\"))\n",
        "df.agg(max('payment_date').alias(\"latest_payment_date\")).show()\n"
      ]
    },
    {
      "cell_type": "code",
      "execution_count": null,
      "metadata": {
        "id": "niLn7gGTBvus"
      },
      "outputs": [],
      "source": [
        "#df.groupBy(\"Catagory\").agg(sum('price')).alias('total_price').show()"
      ]
    },
    {
      "cell_type": "code",
      "execution_count": null,
      "metadata": {
        "id": "9gffZSBv4kbV"
      },
      "outputs": [],
      "source": [
        "def is_palindrom(n):\n",
        "  return str(n) == str(n)[::-1]\n",
        "\n",
        "  print(is_palindrom(121))"
      ]
    },
    {
      "cell_type": "code",
      "execution_count": null,
      "metadata": {
        "id": "I-HyojUY6Gkq"
      },
      "outputs": [],
      "source": [
        "# df1.join(df2, on='id', 'inner').show"
      ]
    },
    {
      "cell_type": "code",
      "execution_count": null,
      "metadata": {
        "id": "8LjBzvJh7N3E"
      },
      "outputs": [],
      "source": [
        "# def sqr(x):\n",
        "#   return x*x\n",
        "\n",
        "# sqr_udf = udf(sqr, IntegerType())\n",
        "#df.withColumn(\"Squre\", sqr_udf(df[\"value\"]))"
      ]
    },
    {
      "cell_type": "code",
      "execution_count": null,
      "metadata": {
        "id": "csgR1ts29HyP"
      },
      "outputs": [],
      "source": [
        "# filterd_df = df.filter(df['age']>30)\n",
        "# filterd_df.show()"
      ]
    },
    {
      "cell_type": "code",
      "execution_count": null,
      "metadata": {
        "colab": {
          "base_uri": "https://localhost:8080/"
        },
        "id": "WRliFp_z-zQo",
        "outputId": "21e3f17e-762e-4d66-c8c6-6ad0106b47b3"
      },
      "outputs": [],
      "source": [
        "from collections import Counter\n",
        "def word_frequency(word):\n",
        "  return Counter(word.split())\n",
        "\n",
        "print(word_frequency('A column or function parameter with name function parameter'))"
      ]
    },
    {
      "cell_type": "code",
      "execution_count": null,
      "metadata": {
        "colab": {
          "base_uri": "https://localhost:8080/"
        },
        "id": "UFFITGkX_qPC",
        "outputId": "5beaf1ce-4554-43e3-8efa-0b35916fb401"
      },
      "outputs": [],
      "source": [
        "def getWordFrequency(sentence):\n",
        "  word_fre= {}\n",
        "  words = sentence.split()\n",
        "  for word in words:\n",
        "    if word in word_fre:\n",
        "      word_fre[word] +=1\n",
        "    else:\n",
        "      word_fre[word] = 1\n",
        "  return word_fre\n",
        "\n",
        "print(getWordFrequency('A column or function parameter with name function parameter'))"
      ]
    },
    {
      "cell_type": "markdown",
      "metadata": {
        "id": "TokdTrBGki20"
      },
      "source": [
        "Spark data design"
      ]
    },
    {
      "cell_type": "code",
      "execution_count": null,
      "metadata": {
        "colab": {
          "base_uri": "https://localhost:8080/"
        },
        "id": "PAIdDTK2kimz",
        "outputId": "22448620-6b24-4aad-c093-0d1b460028bf"
      },
      "outputs": [],
      "source": [
        "from datetime import date\n",
        "data = [\n",
        "    (\"cust_1\", \"2023-01-01\", 100),\n",
        "    (\"cust_1\", \"2023-01-02\", 150),\n",
        "    (\"cust_1\", \"2023-01-03\", 200),\n",
        "    (\"cust_2\", \"2023-01-01\", 167),\n",
        "    (\"cust_2\", \"2023-01-02\", 175),\n",
        "    (\"cust_2\", \"2023-01-03\", 187),\n",
        "    (\"cust_3\", \"2023-01-01\", 125),\n",
        "    (\"cust_3\", \"2023-01-02\", 150),\n",
        "    (\"cust_3\", \"2023-01-03\", 175),\n",
        "    (\"cust_4\", \"2023-01-01\", 145),\n",
        "    (\"cust_4\", \"2023-01-02\", 155)\n",
        "]\n",
        "\n",
        "schema = StructType([\n",
        "        StructField('customer_id', StringType(), True),\n",
        "        StructField('date', StringType(), True),\n",
        "        StructField('amount', StringType(), True)\n",
        "    ]\n",
        ")\n",
        "# Print data\n",
        "df = spark.createDataFrame(data, schema)\n",
        "#df.show()\n",
        "\n",
        "#Convert to proper date format\n",
        "df = df.withColumn('date', to_date(col('date'), 'yyyy-MM-dd'))\n",
        "#df.show()\n",
        "\n",
        "#Define windo space\n",
        "window_space = Window.partitionBy('customer_id').orderBy('date')\n",
        "\n",
        "# 1. Previous transaction amount\n",
        "df =df.withColumn(\"prev_amoun\", lag(\"amount\", 1).over(window_space))\n",
        "# df.show()\n",
        "\n",
        "# 2. Running total\n",
        "df = df.withColumn(\"running_total\", sum(\"amount\").over(window_space))\n",
        "# df.show()\n",
        "\n",
        "# 3. Rank by amount per customer\n",
        "rank_space = Window.partitionBy(\"customer_id\").orderBy(col(\"amount\").desc())\n",
        "df = df.withColumn(\"rank\", rank().over(rank_space))\n",
        "\n",
        "df.show()\n"
      ]
    },
    {
      "cell_type": "markdown",
      "metadata": {
        "id": "7AMZQ6Nytxzc"
      },
      "source": [
        "Practice with salses"
      ]
    },
    {
      "cell_type": "code",
      "execution_count": null,
      "metadata": {
        "colab": {
          "base_uri": "https://localhost:8080/"
        },
        "id": "rB0bWSsPooGM",
        "outputId": "2f545ec7-01a0-4d5d-c5e3-6af5353733fb"
      },
      "outputs": [],
      "source": [
        "#Sales dataframe\n",
        "sales_data = [\n",
        "    ('A', '2021-01-01', '1'),\n",
        "    ('A', '2021-01-02', '2'),\n",
        "    ('A', '2021-01-03', '3'),\n",
        "    ('B', '2021-01-01', '1'),\n",
        "    ('B', '2021-01-02', '2'),\n",
        "    ('B', '2021-01-03', '3'),\n",
        "    ('C', '2021-01-01', '1'),\n",
        "    ('C', '2021-01-02', '3'),\n",
        "    ('C', '2021-01-03', '4'),\n",
        "    ('D', '2021-01-01', '1'),\n",
        "    ('D', '2021-01-02', '1'),\n",
        "    ('D', '2021-01-03', '2'),\n",
        "    ('E', '2021-01-01', '3'),\n",
        "    ('E', '2021-01-02', '4'),\n",
        "    ('E', '2021-01-03', '5')\n",
        "]\n",
        "sales_schema = StructType([\n",
        "    StructField('customer_id', StringType(), True),\n",
        "    StructField('date', StringType(), True),\n",
        "    StructField('product_id', StringType(), True)\n",
        "])\n",
        "sales_df = spark.createDataFrame(sales_data, sales_schema)\n",
        "print('Customer Data')\n",
        "sales_df.show()\n",
        "\n",
        "#Menu Dataframe\n",
        "menu_date = [\n",
        "    ('1', 'Sushi', 10),\n",
        "    ('2', 'Curry', 15),\n",
        "    ('3', 'Pizza', 20),\n",
        "    ('4', 'Salad', 5),\n",
        "    ('5', 'Pasta', 12)\n",
        "]\n",
        "menu_schema = StructType([\n",
        "    StructField('product_id', StringType(), True),\n",
        "    StructField('product_name', StringType(), True),\n",
        "    StructField('price', IntegerType(), True)\n",
        "])\n",
        "\n",
        "menu_df = spark.createDataFrame(menu_date, menu_schema)\n",
        "print('Menu Data')\n",
        "menu_df.show()\n",
        "\n",
        "#Member Dataframe\n",
        "member_data = [\n",
        "    ('A', '2021-01-07'),\n",
        "    ('B', '2021-01-09'),\n",
        "    ('C', '2021-01-01'),\n",
        "    ('D', '2021-01-02'),\n",
        "    ('E', '2021-01-01')\n",
        "]\n",
        "member_schema = StructType([\n",
        "    StructField('customer_id', StringType(), True),\n",
        "    StructField('join_date', StringType(), True)\n",
        "])\n",
        "member_df = spark.createDataFrame(member_data, member_schema)\n",
        "print('Member Data')\n",
        "member_df.show()\n",
        "\n",
        "\n",
        "\n",
        "\n"
      ]
    },
    {
      "cell_type": "markdown",
      "metadata": {
        "id": "i3gNrPKpEnFD"
      },
      "source": [
        "Task:\n",
        "For each customer, return the latest order amount, the total amount spent, and the number of orders. Output should include the customer's name."
      ]
    },
    {
      "cell_type": "code",
      "execution_count": null,
      "metadata": {
        "colab": {
          "base_uri": "https://localhost:8080/"
        },
        "id": "l2w6gHAu2ERY",
        "outputId": "2e7f614f-f70f-45e7-cb79-d65105280472"
      },
      "outputs": [],
      "source": [
        "# Sample Data and schema\n",
        "order_data = [\n",
        "    (1, 101, '2024-01-01', 100),\n",
        "    (2, 102, '2024-01-02', 150),\n",
        "    (3, 103, '2024-01-03', 200),\n",
        "    (4, 101, '2024-01-04', 120),\n",
        "    (5, 102, '2024-01-05', 180),\n",
        "    (6, 103, '2024-01-06', 220),\n",
        "    (7, 101, '2024-01-07', 90),\n",
        "    (8, 102, '2024-01-08', 160),\n",
        "    (9, 103, '2024-01-09', 210),\n",
        "    (10, 101, '2024-01-10', 110)\n",
        "]\n",
        "order_schema = StructType([\n",
        "    StructField('order_id', IntegerType(), True),\n",
        "    StructField('customer_id', IntegerType(), True),\n",
        "    StructField('order_date', StringType(), True),\n",
        "    StructField('amount', IntegerType(), True)\n",
        "])\n",
        "customer_data = [\n",
        "    (101, 'Alice'),\n",
        "    (102, 'Bob'),\n",
        "    (103, 'Charlie')\n",
        "]\n",
        "customer_schema = StructType([\n",
        "    StructField('customer_id', IntegerType(), True),\n",
        "    StructField('customer_name', StringType(), True)\n",
        "])\n",
        "\n",
        "# Create Data frame\n",
        "order_df= spark.createDataFrame(order_data, order_schema)\n",
        "customer_df = spark.createDataFrame(customer_data, customer_schema)\n",
        "# Represent\n",
        "order_df.show()\n",
        "customer_df.show()\n",
        "\n",
        "#Change data type in order table date format\n",
        "order_df=order_df.withColumn('order_date', to_date(col(\"order_date\"), 'yyyy-MM-dd'))\n",
        "order_df.printSchema()\n",
        "\n",
        "# 1. Latest order amount using window function\n",
        "window_space = Window.partitionBy(\"customer_id\").orderBy(col(\"order_date\").desc())\n",
        "latest_orders_df = order_df.withColumn('rn', row_number().over(window_space))\n",
        "latest_orders_df = latest_orders_df.filter(col('rn')==1)\n",
        "latest_orders_df.show()\n",
        "\n",
        "# 2. Total amount and order  count per customer\n",
        "agg_df = customer_df.join(order_df, on= 'customer_id')\n",
        "\n",
        "\n"
      ]
    },
    {
      "cell_type": "markdown",
      "metadata": {
        "id": "9y0eysVEadD0"
      },
      "source": [
        "## Question:\n",
        " Calculate the average salary and count of employees for each department."
      ]
    },
    {
      "cell_type": "code",
      "execution_count": null,
      "metadata": {
        "colab": {
          "base_uri": "https://localhost:8080/"
        },
        "id": "F1j9xFwAEmQr",
        "outputId": "cda6c604-dd21-43e7-f039-a825d5f1336a"
      },
      "outputs": [],
      "source": [
        "#Sample data\n",
        "data = [\n",
        "    (\"Sales\", 5000, \"John\"),\n",
        "    (\"Sales\", 5000, \"Doe\"),\n",
        "    (\"HR\", 5000, \"Jane\"),\n",
        "    (\"HR\", 5000, \"Alice\"),\n",
        "    (\"IT\", 5000, \"Bob\"),\n",
        "    (\"IT\", 5000, \"Charlie\")\n",
        "]\n",
        "# Schema\n",
        "schema = StructType([\n",
        "    StructField('department', StringType(), True),\n",
        "    StructField('salary', IntegerType(), True),\n",
        "    StructField('employee_name', StringType(), True)\n",
        "])\n",
        "\n",
        "# Create Data frame\n",
        "df = spark.createDataFrame(data, schema)\n",
        "df.show()\n",
        "\n",
        "# Group By department and calculate average salary and employe count.\n",
        "result_df = df.groupBy('department').agg(\n",
        "    avg(\"salary\").alias(\"avg_salary\"),\n",
        "    count(\"employee_name\").alias(\"employee_counr\")\n",
        ")\n",
        "\n",
        "#Show result\n",
        "result_df.show()\n"
      ]
    },
    {
      "cell_type": "markdown",
      "metadata": {
        "id": "VOssBAe0eT6D"
      },
      "source": [
        "## Question:\n",
        " How would you handle null values in a DataFrame? For example, drop rows with null values in the age column.\n"
      ]
    },
    {
      "cell_type": "code",
      "execution_count": null,
      "metadata": {
        "id": "T_0f7V-TXm0e"
      },
      "outputs": [],
      "source": [
        "data = [(\"Alice\", 30), (\"Bob\", None), (\"Catherine\", 25),\n",
        "(None, 35), (\"Eve\", None)]\n",
        "schema = StructType([\n",
        "    StructField(\"name\", StringType(), True),\n",
        "    StructField(\"age\", IntegerType(), True)\n",
        "])\n",
        "df = spark.createDataFrame(data, schema)\n",
        "df.show()"
      ]
    }
  ],
  "metadata": {
    "colab": {
      "provenance": []
    },
    "kernelspec": {
      "display_name": "Python 3",
      "name": "python3"
    },
    "language_info": {
      "codemirror_mode": {
        "name": "ipython",
        "version": 3
      },
      "file_extension": ".py",
      "mimetype": "text/x-python",
      "name": "python",
      "nbconvert_exporter": "python",
      "pygments_lexer": "ipython3",
      "version": "3.12.10"
    }
  },
  "nbformat": 4,
  "nbformat_minor": 0
}
