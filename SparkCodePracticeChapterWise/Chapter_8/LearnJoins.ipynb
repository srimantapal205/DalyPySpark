{
 "cells": [
  {
   "cell_type": "markdown",
   "id": "6b383d2d",
   "metadata": {},
   "source": [
    "# Diffrent type join"
   ]
  },
  {
   "cell_type": "code",
   "execution_count": 1,
   "id": "547e4d90",
   "metadata": {},
   "outputs": [],
   "source": [
    "from pyspark.sql import SparkSession\n",
    "from pyspark.sql.types import *\n",
    "from pyspark.sql.functions import *\n",
    "from pyspark.sql.functions import regexp_replace, col\n",
    "from pyspark.sql.window import Window\n",
    "spark = SparkSession.builder.appName(\"PySparkPractice\").getOrCreate()"
   ]
  },
  {
   "cell_type": "markdown",
   "id": "6741b926",
   "metadata": {},
   "source": [
    "#### Create dataset"
   ]
  },
  {
   "cell_type": "code",
   "execution_count": 2,
   "id": "b6152be3",
   "metadata": {},
   "outputs": [
    {
     "name": "stdout",
     "output_type": "stream",
     "text": [
      "+---+-------+----------------+---------------+\n",
      "| id|   name|graduate_program|   spark_status|\n",
      "+---+-------+----------------+---------------+\n",
      "|  0|  Alice|               0|          [100]|\n",
      "|  1|    Bob|               1|[500, 250, 100]|\n",
      "|  2|Charlie|               1|     [220, 200]|\n",
      "+---+-------+----------------+---------------+\n",
      "\n",
      "+---+-------+-------------------+------------------+\n",
      "| id| degree|         department|            school|\n",
      "+---+-------+-------------------+------------------+\n",
      "|  0|Masters|      IT Department|      School of IT|\n",
      "|  1|    PhD|Business Department|School of Business|\n",
      "|  2|Masters| Science Department| School of Science|\n",
      "+---+-------+-------------------+------------------+\n",
      "\n",
      "+---+--------------+\n",
      "| id|        status|\n",
      "+---+--------------+\n",
      "|100|Vice President|\n",
      "|200|    PMC Member|\n",
      "|250|     Graduated|\n",
      "|220|   Contributor|\n",
      "+---+--------------+\n",
      "\n"
     ]
    }
   ],
   "source": [
    "person = spark.createDataFrame([\n",
    "    (0, \"Alice\",0, [100]),\n",
    "    (1, \"Bob\", 1, [500, 250,100]),\n",
    "    (2, \"Charlie\", 1, [220, 200]),\n",
    "]).toDF(\"id\", \"name\", \"graduate_program\", \"spark_status\")\n",
    "\n",
    "person.show()\n",
    "graduateProgram = spark.createDataFrame([\n",
    "    (0, \"Masters\", \"IT Department\", \"School of IT\"),\n",
    "    (1, \"PhD\", \"Business Department\", \"School of Business\"),\n",
    "    (2, \"Masters\", \"Science Department\", \"School of Science\")\n",
    "]).toDF(\"id\", \"degree\", \"department\", \"school\")\n",
    "graduateProgram.show()\n",
    "\n",
    "sparkStatus = spark.createDataFrame([\n",
    "    (100, \"Vice President\"),\n",
    "    (200, \"PMC Member\"),\n",
    "    (250, \"Graduated\"),\n",
    "    (220, \"Contributor\")\n",
    "]).toDF(\"id\", \"status\")\n",
    "sparkStatus.show()\n"
   ]
  },
  {
   "cell_type": "markdown",
   "id": "57129aab",
   "metadata": {},
   "source": [
    "### Inner Join"
   ]
  },
  {
   "cell_type": "code",
   "execution_count": null,
   "id": "68f1cf61",
   "metadata": {},
   "outputs": [
    {
     "name": "stdout",
     "output_type": "stream",
     "text": [
      "+---+-------+----------------+---------------+---+-------+-------------------+------------------+\n",
      "| id|   name|graduate_program|   spark_status| id| degree|         department|            school|\n",
      "+---+-------+----------------+---------------+---+-------+-------------------+------------------+\n",
      "|  0|  Alice|               0|          [100]|  0|Masters|      IT Department|      School of IT|\n",
      "|  2|Charlie|               1|     [220, 200]|  1|    PhD|Business Department|School of Business|\n",
      "|  1|    Bob|               1|[500, 250, 100]|  1|    PhD|Business Department|School of Business|\n",
      "+---+-------+----------------+---------------+---+-------+-------------------+------------------+\n",
      "\n"
     ]
    }
   ],
   "source": [
    "joinExpression = person[\"graduate_program\"] == graduateProgram[\"id\"]\n",
    "\n",
    "person.join(graduateProgram, joinExpression).show()\n"
   ]
  },
  {
   "cell_type": "markdown",
   "id": "6be88ca2",
   "metadata": {},
   "source": [
    "#### Outer Join"
   ]
  },
  {
   "cell_type": "code",
   "execution_count": 9,
   "id": "13942102",
   "metadata": {},
   "outputs": [
    {
     "name": "stdout",
     "output_type": "stream",
     "text": [
      "+----+-------+----------------+---------------+---+-------+-------------------+------------------+\n",
      "|  id|   name|graduate_program|   spark_status| id| degree|         department|            school|\n",
      "+----+-------+----------------+---------------+---+-------+-------------------+------------------+\n",
      "|   0|  Alice|               0|          [100]|  0|Masters|      IT Department|      School of IT|\n",
      "|   1|    Bob|               1|[500, 250, 100]|  1|    PhD|Business Department|School of Business|\n",
      "|   2|Charlie|               1|     [220, 200]|  1|    PhD|Business Department|School of Business|\n",
      "|NULL|   NULL|            NULL|           NULL|  2|Masters| Science Department| School of Science|\n",
      "+----+-------+----------------+---------------+---+-------+-------------------+------------------+\n",
      "\n"
     ]
    }
   ],
   "source": [
    "joinType = \"outer\"\n",
    "person.join(graduateProgram, joinExpression, joinType).show()"
   ]
  },
  {
   "cell_type": "markdown",
   "id": "a42e6456",
   "metadata": {},
   "source": [
    "### Left Outer join"
   ]
  },
  {
   "cell_type": "code",
   "execution_count": 10,
   "id": "fe7904ee",
   "metadata": {},
   "outputs": [
    {
     "name": "stdout",
     "output_type": "stream",
     "text": [
      "+---+-------+----------------+---------------+---+-------+-------------------+------------------+\n",
      "| id|   name|graduate_program|   spark_status| id| degree|         department|            school|\n",
      "+---+-------+----------------+---------------+---+-------+-------------------+------------------+\n",
      "|  0|  Alice|               0|          [100]|  0|Masters|      IT Department|      School of IT|\n",
      "|  1|    Bob|               1|[500, 250, 100]|  1|    PhD|Business Department|School of Business|\n",
      "|  2|Charlie|               1|     [220, 200]|  1|    PhD|Business Department|School of Business|\n",
      "+---+-------+----------------+---------------+---+-------+-------------------+------------------+\n",
      "\n"
     ]
    }
   ],
   "source": [
    "Jointype = \"left_outer\"\n",
    "\n",
    "person.join(graduateProgram, joinExpression, Jointype).show()\n",
    "\n"
   ]
  },
  {
   "cell_type": "markdown",
   "id": "67d816ef",
   "metadata": {},
   "source": [
    "#### Right JOIN"
   ]
  },
  {
   "cell_type": "code",
   "execution_count": null,
   "id": "a7355933",
   "metadata": {},
   "outputs": [],
   "source": []
  }
 ],
 "metadata": {
  "kernelspec": {
   "display_name": "Python 3",
   "language": "python",
   "name": "python3"
  },
  "language_info": {
   "codemirror_mode": {
    "name": "ipython",
    "version": 3
   },
   "file_extension": ".py",
   "mimetype": "text/x-python",
   "name": "python",
   "nbconvert_exporter": "python",
   "pygments_lexer": "ipython3",
   "version": "3.12.10"
  }
 },
 "nbformat": 4,
 "nbformat_minor": 5
}
