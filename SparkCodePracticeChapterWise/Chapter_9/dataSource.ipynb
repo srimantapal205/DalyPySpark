{
 "cells": [
  {
   "cell_type": "markdown",
   "id": "dae0dd86",
   "metadata": {},
   "source": [
    "# Multiple Data Soure"
   ]
  },
  {
   "cell_type": "code",
   "execution_count": null,
   "id": "171b8086",
   "metadata": {},
   "outputs": [],
   "source": [
    "from pyspark.sql import SparkSession\n",
    "from pyspark.sql.types import *\n",
    "from pyspark.sql.functions import *\n",
    "from pyspark.sql.functions import regexp_replace, col\n",
    "from pyspark.sql.window import Window\n",
    "spark = SparkSession.builder.appName(\"PySparkPractice\").getOrCreate()"
   ]
  },
  {
   "cell_type": "code",
   "execution_count": null,
   "id": "f40a4d13",
   "metadata": {},
   "outputs": [],
   "source": [
    "path = \"C:/Users/srima/Documents/learning/Technology/Data Engineering/PySpark/Spark-The-Definitive-Guide-master/data/flight-data\""
   ]
  },
  {
   "cell_type": "markdown",
   "id": "ad9b76ca",
   "metadata": {},
   "source": [
    "#### Read CSD data"
   ]
  },
  {
   "cell_type": "code",
   "execution_count": null,
   "id": "0e0b46e1",
   "metadata": {},
   "outputs": [],
   "source": [
    "csv_file = spark.read.format(\"csv\").option(\"header\", True).option(\"mode\", \"FALLFAST\").option(\"inferschema\", True).load(f\"{path}/csv/2010-summary.csv\")\n",
    "csv_file.show()"
   ]
  },
  {
   "cell_type": "code",
   "execution_count": null,
   "id": "bba23a3d",
   "metadata": {},
   "outputs": [],
   "source": [
    "#csv_file.write.format(\"csv\").mode(\"overwrite\").option(\"sep\", \"\\t\").save(\"/temp/new_tsv_file.csv\")\n",
    "csv_file.write.format(\"csv\").mode(\"overwrite\").option(\"sep\", \"\\t\").save(\"new_tsv_file.csv\")\n",
    "#csv_file.coalesce(1).write.format(\"csv\").mode(\"overwrite\").option(\"sep\", \"\\t\").save(\"new_tsv_file.csv\")\n",
    "#spark.read().csv(\"/temp/new_tsv_file.csv\").show()\n"
   ]
  },
  {
   "cell_type": "markdown",
   "id": "ab770096",
   "metadata": {},
   "source": [
    "#### Reading JSON File"
   ]
  },
  {
   "cell_type": "code",
   "execution_count": null,
   "id": "efc97c0a",
   "metadata": {},
   "outputs": [],
   "source": [
    "spark.read.format(\"json\").option(\"mode\", \"FAILFAST\").load(f\"{path}/json/2010-summary.json\").show(5)"
   ]
  },
  {
   "cell_type": "code",
   "execution_count": null,
   "id": "9ce9b469",
   "metadata": {},
   "outputs": [],
   "source": [
    "csv_file.write.format(\"json\").mode(\"overwrite\").save(\"test_json_file.json\")"
   ]
  },
  {
   "cell_type": "markdown",
   "id": "aa3a612b",
   "metadata": {},
   "source": [
    "#### Parquet File"
   ]
  },
  {
   "cell_type": "code",
   "execution_count": null,
   "id": "2eaaa42c",
   "metadata": {},
   "outputs": [],
   "source": [
    "# Add this line before reading the file\n",
    "spark.conf.set(\"spark.hadoop.hadoop.native.lib\", \"false\")\n",
    "\n",
    "# Then proceed as normal\n",
    "spark.read.format(\"parquet\").load(f\"{path}/parquet/2010-summary.parquet\").show(5)\n"
   ]
  },
  {
   "cell_type": "code",
   "execution_count": null,
   "id": "9ce9e5c5",
   "metadata": {},
   "outputs": [],
   "source": []
  }
 ],
 "metadata": {
  "kernelspec": {
   "display_name": "Python 3",
   "language": "python",
   "name": "python3"
  },
  "language_info": {
   "codemirror_mode": {
    "name": "ipython",
    "version": 3
   },
   "file_extension": ".py",
   "mimetype": "text/x-python",
   "name": "python",
   "nbconvert_exporter": "python",
   "pygments_lexer": "ipython3",
   "version": "3.12.10"
  }
 },
 "nbformat": 4,
 "nbformat_minor": 5
}
