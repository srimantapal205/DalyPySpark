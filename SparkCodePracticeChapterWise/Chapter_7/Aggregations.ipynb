{
 "cells": [
  {
   "cell_type": "code",
   "execution_count": 4,
   "id": "a5a96a97",
   "metadata": {},
   "outputs": [],
   "source": [
    "from pyspark.sql import SparkSession\n",
    "from pyspark.sql.types import *\n",
    "from pyspark.sql.functions import *\n",
    "from pyspark.sql.functions import regexp_replace, col\n",
    "\n",
    "spark = SparkSession.builder.appName(\"PySparkPractice\").getOrCreate()"
   ]
  },
  {
   "cell_type": "code",
   "execution_count": 5,
   "id": "33a64d23",
   "metadata": {},
   "outputs": [],
   "source": [
    "#path = \"C:/Users/srima/Documents/learning/Technology/Data Engineering/PySpark/Spark-The-Definitive-Guide-master/data/retail-data/all\"\n",
    "path = \"C:/Users/srima/Documents/learning/Technology/Data Engineering/PySpark/Spark-The-Definitive-Guide-master/data/retail-data/by-day\""
   ]
  },
  {
   "cell_type": "code",
   "execution_count": null,
   "id": "786f532d",
   "metadata": {},
   "outputs": [],
   "source": [
    "# Create Shema\n",
    "# schema = StructType([\n",
    "#     StructField(\"InvoiceNo\", IntegerType(), True),\n",
    "#     StructField(\"StockCode\", StringType(), True),\n",
    "#     StructField(\"Description\", StringType(), True),\n",
    "#     StructField(\"Quantity\", IntegerType(), True),\n",
    "#     StructField(\"InvoiceDate\", TimestampType(), True),\n",
    "#     StructField(\"UnitPrice\", DoubleType(), True),\n",
    "#     StructField(\"CustomerID\", StringType(), True),\n",
    "#     StructField(\"Country\", StringType(), True)\n",
    "# ])\n",
    "\n",
    "df = spark.read.format(\"csv\").option(\"header\", \"true\").option(\"inferschema\", \"true\").load(f\"{path}/*.csv\").coalesce(5)\n",
    "df.cache()\n",
    "df.show(5)\n",
    "df.printSchema()\n",
    "df.createOrReplaceTempView(\"dfTable\")\n"
   ]
  }
 ],
 "metadata": {
  "kernelspec": {
   "display_name": "Python 3",
   "language": "python",
   "name": "python3"
  },
  "language_info": {
   "codemirror_mode": {
    "name": "ipython",
    "version": 3
   },
   "file_extension": ".py",
   "mimetype": "text/x-python",
   "name": "python",
   "nbconvert_exporter": "python",
   "pygments_lexer": "ipython3",
   "version": "3.12.10"
  }
 },
 "nbformat": 4,
 "nbformat_minor": 5
}
