{
 "cells": [
  {
   "cell_type": "code",
   "execution_count": 77,
   "id": "a5a96a97",
   "metadata": {},
   "outputs": [],
   "source": [
    "from pyspark.sql import SparkSession\n",
    "from pyspark.sql.types import *\n",
    "from pyspark.sql.functions import *\n",
    "from pyspark.sql.functions import regexp_replace, col\n",
    "from pyspark.sql.window import Window\n",
    "spark = SparkSession.builder.appName(\"PySparkPractice\").getOrCreate()"
   ]
  },
  {
   "cell_type": "code",
   "execution_count": 78,
   "id": "33a64d23",
   "metadata": {},
   "outputs": [],
   "source": [
    "#path = \"C:/Users/srima/Documents/learning/Technology/Data Engineering/PySpark/Spark-The-Definitive-Guide-master/data/retail-data/all\"\n",
    "path = \"C:/Users/srima/Documents/learning/Technology/Data Engineering/PySpark/Spark-The-Definitive-Guide-master/data/retail-data/by-day\""
   ]
  },
  {
   "cell_type": "code",
   "execution_count": 79,
   "id": "786f532d",
   "metadata": {},
   "outputs": [
    {
     "name": "stdout",
     "output_type": "stream",
     "text": [
      "+---------+---------+--------------------+--------+-------------------+---------+----------+--------------+\n",
      "|InvoiceNo|StockCode|         Description|Quantity|        InvoiceDate|UnitPrice|CustomerID|       Country|\n",
      "+---------+---------+--------------------+--------+-------------------+---------+----------+--------------+\n",
      "|   536365|   85123A|WHITE HANGING HEA...|       6|2010-12-01 08:26:00|     2.55|   17850.0|United Kingdom|\n",
      "|   536365|    71053| WHITE METAL LANTERN|       6|2010-12-01 08:26:00|     3.39|   17850.0|United Kingdom|\n",
      "|   536365|   84406B|CREAM CUPID HEART...|       8|2010-12-01 08:26:00|     2.75|   17850.0|United Kingdom|\n",
      "|   536365|   84029G|KNITTED UNION FLA...|       6|2010-12-01 08:26:00|     3.39|   17850.0|United Kingdom|\n",
      "|   536365|   84029E|RED WOOLLY HOTTIE...|       6|2010-12-01 08:26:00|     3.39|   17850.0|United Kingdom|\n",
      "|   536365|    22752|SET 7 BABUSHKA NE...|       2|2010-12-01 08:26:00|     7.65|   17850.0|United Kingdom|\n",
      "|   536365|    21730|GLASS STAR FROSTE...|       6|2010-12-01 08:26:00|     4.25|   17850.0|United Kingdom|\n",
      "|   536366|    22633|HAND WARMER UNION...|       6|2010-12-01 08:28:00|     1.85|   17850.0|United Kingdom|\n",
      "|   536366|    22632|HAND WARMER RED P...|       6|2010-12-01 08:28:00|     1.85|   17850.0|United Kingdom|\n",
      "|   536367|    84879|ASSORTED COLOUR B...|      32|2010-12-01 08:34:00|     1.69|   13047.0|United Kingdom|\n",
      "|   536367|    22745|POPPY'S PLAYHOUSE...|       6|2010-12-01 08:34:00|      2.1|   13047.0|United Kingdom|\n",
      "|   536367|    22748|POPPY'S PLAYHOUSE...|       6|2010-12-01 08:34:00|      2.1|   13047.0|United Kingdom|\n",
      "|   536367|    22749|FELTCRAFT PRINCES...|       8|2010-12-01 08:34:00|     3.75|   13047.0|United Kingdom|\n",
      "|   536367|    22310|IVORY KNITTED MUG...|       6|2010-12-01 08:34:00|     1.65|   13047.0|United Kingdom|\n",
      "|   536367|    84969|BOX OF 6 ASSORTED...|       6|2010-12-01 08:34:00|     4.25|   13047.0|United Kingdom|\n",
      "|   536367|    22623|BOX OF VINTAGE JI...|       3|2010-12-01 08:34:00|     4.95|   13047.0|United Kingdom|\n",
      "|   536367|    22622|BOX OF VINTAGE AL...|       2|2010-12-01 08:34:00|     9.95|   13047.0|United Kingdom|\n",
      "|   536367|    21754|HOME BUILDING BLO...|       3|2010-12-01 08:34:00|     5.95|   13047.0|United Kingdom|\n",
      "|   536367|    21755|LOVE BUILDING BLO...|       3|2010-12-01 08:34:00|     5.95|   13047.0|United Kingdom|\n",
      "|   536367|    21777|RECIPE BOX WITH M...|       4|2010-12-01 08:34:00|     7.95|   13047.0|United Kingdom|\n",
      "+---------+---------+--------------------+--------+-------------------+---------+----------+--------------+\n",
      "only showing top 20 rows\n"
     ]
    }
   ],
   "source": [
    "#Create Shema\n",
    "schema = StructType([\n",
    "    StructField(\"InvoiceNo\", IntegerType(), True),\n",
    "    StructField(\"StockCode\", StringType(), True),\n",
    "    StructField(\"Description\", StringType(), True),\n",
    "    StructField(\"Quantity\", IntegerType(), True),\n",
    "    StructField(\"InvoiceDate\", TimestampType(), True),\n",
    "    StructField(\"UnitPrice\", DoubleType(), True),\n",
    "    StructField(\"CustomerID\", StringType(), True),\n",
    "    StructField(\"Country\", StringType(), True)\n",
    "])\n",
    "\n",
    "df = spark.read.format(\"csv\").option(\"header\", \"true\").option(\"inferschema\", \"true\").schema(schema).load(f\"{path}/2010-12-01.csv\").coalesce(5)\n",
    "df.cache()\n",
    "df.show()\n",
    "\n",
    "df.createOrReplaceTempView(\"dfTable\")\n"
   ]
  },
  {
   "cell_type": "code",
   "execution_count": 80,
   "id": "4be67988",
   "metadata": {},
   "outputs": [
    {
     "name": "stdout",
     "output_type": "stream",
     "text": [
      "root\n",
      " |-- InvoiceNo: integer (nullable = true)\n",
      " |-- StockCode: string (nullable = true)\n",
      " |-- Description: string (nullable = true)\n",
      " |-- Quantity: integer (nullable = true)\n",
      " |-- InvoiceDate: timestamp (nullable = true)\n",
      " |-- UnitPrice: double (nullable = true)\n",
      " |-- CustomerID: string (nullable = true)\n",
      " |-- Country: string (nullable = true)\n",
      "\n"
     ]
    }
   ],
   "source": [
    "df.count()\n",
    "df.printSchema()"
   ]
  },
  {
   "cell_type": "markdown",
   "id": "6a9f6691",
   "metadata": {},
   "source": [
    "#### count"
   ]
  },
  {
   "cell_type": "code",
   "execution_count": 81,
   "id": "3f41d056",
   "metadata": {},
   "outputs": [
    {
     "name": "stdout",
     "output_type": "stream",
     "text": [
      "+----------------+\n",
      "|count(StockCode)|\n",
      "+----------------+\n",
      "|            3108|\n",
      "+----------------+\n",
      "\n"
     ]
    }
   ],
   "source": [
    "df.select(count(\"StockCode\")).show()"
   ]
  },
  {
   "cell_type": "markdown",
   "id": "5258ecbf",
   "metadata": {},
   "source": [
    "#### CountDistinct  \n"
   ]
  },
  {
   "cell_type": "code",
   "execution_count": 82,
   "id": "3ee518a5",
   "metadata": {},
   "outputs": [
    {
     "name": "stdout",
     "output_type": "stream",
     "text": [
      "+-------------------------+\n",
      "|count(DISTINCT StockCode)|\n",
      "+-------------------------+\n",
      "|                     1351|\n",
      "+-------------------------+\n",
      "\n"
     ]
    }
   ],
   "source": [
    "df.select(count_distinct(\"StockCode\")).show()"
   ]
  },
  {
   "cell_type": "markdown",
   "id": "e6dcbead",
   "metadata": {},
   "source": [
    "#### approx_count_distinct"
   ]
  },
  {
   "cell_type": "code",
   "execution_count": 83,
   "id": "279c83b4",
   "metadata": {},
   "outputs": [
    {
     "name": "stdout",
     "output_type": "stream",
     "text": [
      "+--------------------------------+\n",
      "|approx_count_distinct(StockCode)|\n",
      "+--------------------------------+\n",
      "|                            1282|\n",
      "+--------------------------------+\n",
      "\n"
     ]
    }
   ],
   "source": [
    "df.select(approx_count_distinct(\"StockCode\")).show()"
   ]
  },
  {
   "cell_type": "markdown",
   "id": "0e1eac11",
   "metadata": {},
   "source": [
    "#### first and last"
   ]
  },
  {
   "cell_type": "code",
   "execution_count": 84,
   "id": "edfdf511",
   "metadata": {},
   "outputs": [
    {
     "name": "stdout",
     "output_type": "stream",
     "text": [
      "+----------------+---------------+\n",
      "|first(StockCode)|last(StockCode)|\n",
      "+----------------+---------------+\n",
      "|          85123A|          20755|\n",
      "+----------------+---------------+\n",
      "\n"
     ]
    }
   ],
   "source": [
    "df.select(first(\"StockCode\"), last(\"StockCode\")).show()"
   ]
  },
  {
   "cell_type": "markdown",
   "id": "751b7016",
   "metadata": {},
   "source": [
    "#### min and max"
   ]
  },
  {
   "cell_type": "code",
   "execution_count": 85,
   "id": "8bf64cbb",
   "metadata": {},
   "outputs": [
    {
     "name": "stdout",
     "output_type": "stream",
     "text": [
      "+-------------+-------------+\n",
      "|min(Quantity)|max(Quantity)|\n",
      "+-------------+-------------+\n",
      "|          -24|          600|\n",
      "+-------------+-------------+\n",
      "\n"
     ]
    }
   ],
   "source": [
    "df.select(min(\"Quantity\"), max(\"Quantity\")).show()"
   ]
  },
  {
   "cell_type": "code",
   "execution_count": 86,
   "id": "4f847d1f",
   "metadata": {},
   "outputs": [
    {
     "name": "stdout",
     "output_type": "stream",
     "text": [
      "+-------------+\n",
      "|sum(Quantity)|\n",
      "+-------------+\n",
      "|        26814|\n",
      "+-------------+\n",
      "\n"
     ]
    }
   ],
   "source": [
    "df.select(sum(\"Quantity\")).show()"
   ]
  },
  {
   "cell_type": "code",
   "execution_count": 87,
   "id": "4e2a12df",
   "metadata": {},
   "outputs": [
    {
     "name": "stdout",
     "output_type": "stream",
     "text": [
      "+----------------------+\n",
      "|sum(DISTINCT Quantity)|\n",
      "+----------------------+\n",
      "|                  4690|\n",
      "+----------------------+\n",
      "\n"
     ]
    }
   ],
   "source": [
    "df.select(sum_distinct(\"Quantity\")).show()"
   ]
  },
  {
   "cell_type": "markdown",
   "id": "2f5d11bb",
   "metadata": {},
   "source": [
    "#### avg\n"
   ]
  },
  {
   "cell_type": "code",
   "execution_count": 88,
   "id": "b9a4b71f",
   "metadata": {},
   "outputs": [
    {
     "name": "stdout",
     "output_type": "stream",
     "text": [
      "+-------------+-----------------+-----------------+\n",
      "|total_purches|      avg_purches|     mean_purches|\n",
      "+-------------+-----------------+-----------------+\n",
      "|        26814|8.627413127413128|8.627413127413128|\n",
      "+-------------+-----------------+-----------------+\n",
      "\n"
     ]
    }
   ],
   "source": [
    "df.select(\n",
    "    count(\"Quantity\").alias(\"total_transactions\"),\n",
    "    sum(\"Quantity\").alias(\"total_purches\"),\n",
    "    avg(\"Quantity\").alias(\"avg_purches\"),\n",
    "    expr(\"mean(Quantity)\").alias(\"mean_purches\")        \n",
    "    ).selectExpr('total_purches', 'avg_purches','mean_purches').show()"
   ]
  },
  {
   "cell_type": "markdown",
   "id": "3be81536",
   "metadata": {},
   "source": [
    "#### Variance and Standerd Deviation"
   ]
  },
  {
   "cell_type": "code",
   "execution_count": 89,
   "id": "3975ca60",
   "metadata": {},
   "outputs": [
    {
     "name": "stdout",
     "output_type": "stream",
     "text": [
      "+-----------------+------------------+--------------------+---------------------+\n",
      "|var_pop(Quantity)|var_samp(Quantity)|stddev_pop(Quantity)|stddev_samp(Quantity)|\n",
      "+-----------------+------------------+--------------------+---------------------+\n",
      "|695.2492099104054| 695.4729785650273|  26.367578764657278|   26.371821677029203|\n",
      "+-----------------+------------------+--------------------+---------------------+\n",
      "\n"
     ]
    }
   ],
   "source": [
    "df.select(var_pop(\"Quantity\"), var_samp(\"Quantity\"), stddev_pop(\"Quantity\"), stddev_samp(\"Quantity\")).show()"
   ]
  },
  {
   "cell_type": "markdown",
   "id": "f236d28d",
   "metadata": {},
   "source": [
    "#### skewness and kurtosis"
   ]
  },
  {
   "cell_type": "code",
   "execution_count": 90,
   "id": "facbf757",
   "metadata": {},
   "outputs": [
    {
     "name": "stdout",
     "output_type": "stream",
     "text": [
      "+------------------+------------------+\n",
      "|skewness(Quantity)|kurtosis(Quantity)|\n",
      "+------------------+------------------+\n",
      "|11.384721296581182|182.91886804842397|\n",
      "+------------------+------------------+\n",
      "\n"
     ]
    }
   ],
   "source": [
    "df.select(skewness(\"Quantity\"), kurtosis(\"Quantity\")).show()"
   ]
  },
  {
   "cell_type": "markdown",
   "id": "05441af0",
   "metadata": {},
   "source": [
    "#### Covariance and Correlation"
   ]
  },
  {
   "cell_type": "code",
   "execution_count": 91,
   "id": "6344d5ef",
   "metadata": {},
   "outputs": [
    {
     "name": "stdout",
     "output_type": "stream",
     "text": [
      "+-------------------------+------------------------------+-------------------------------+\n",
      "|corr(InvoiceNo, Quantity)|covar_pop(InvoiceNo, Quantity)|covar_samp(InvoiceNo, Quantity)|\n",
      "+-------------------------+------------------------------+-------------------------------+\n",
      "|     -0.12225395743668731|            -235.4868448608685|            -235.56327681311157|\n",
      "+-------------------------+------------------------------+-------------------------------+\n",
      "\n"
     ]
    }
   ],
   "source": [
    "df.select(corr('InvoiceNo','Quantity'), covar_pop('InvoiceNo','Quantity'), covar_samp('InvoiceNo','Quantity')).show()"
   ]
  },
  {
   "cell_type": "markdown",
   "id": "34a780f9",
   "metadata": {},
   "source": [
    "#### Aggregation to complex Types"
   ]
  },
  {
   "cell_type": "code",
   "execution_count": 92,
   "id": "fcc35ab3",
   "metadata": {},
   "outputs": [
    {
     "name": "stdout",
     "output_type": "stream",
     "text": [
      "+--------------------+---------------------+\n",
      "|collect_set(Country)|collect_list(Country)|\n",
      "+--------------------+---------------------+\n",
      "|[Netherlands, EIR...| [United Kingdom, ...|\n",
      "+--------------------+---------------------+\n",
      "\n"
     ]
    }
   ],
   "source": [
    "df.agg(collect_set(\"Country\"), collect_list(\"Country\")).show()"
   ]
  },
  {
   "cell_type": "markdown",
   "id": "07a98369",
   "metadata": {},
   "source": [
    "#### Grouping"
   ]
  },
  {
   "cell_type": "code",
   "execution_count": 93,
   "id": "df187efa",
   "metadata": {},
   "outputs": [
    {
     "name": "stdout",
     "output_type": "stream",
     "text": [
      "+---------+----------+-----+\n",
      "|InvoiceNo|CustomerID|count|\n",
      "+---------+----------+-----+\n",
      "|   536460|   14849.0|   14|\n",
      "|   536525|   14078.0|   13|\n",
      "|   536536|   18144.0|    3|\n",
      "|   536477|   16210.0|   14|\n",
      "|   536545|      NULL|    1|\n",
      "|   536405|   14045.0|    1|\n",
      "|   536514|   17951.0|    5|\n",
      "|   536416|   13255.0|    6|\n",
      "|   536587|   14142.0|   22|\n",
      "|   536398|   13448.0|   17|\n",
      "|   536597|   18011.0|   28|\n",
      "|   536369|   13047.0|    1|\n",
      "|   536420|   16583.0|   14|\n",
      "|   536437|   13694.0|    6|\n",
      "|   536572|   16539.0|   21|\n",
      "|   536520|   14729.0|   71|\n",
      "|   536544|      NULL|  527|\n",
      "|   536586|   18229.0|    7|\n",
      "|   536464|   17968.0|   85|\n",
      "|   536393|   13747.0|    1|\n",
      "+---------+----------+-----+\n",
      "only showing top 20 rows\n"
     ]
    }
   ],
   "source": [
    "df.groupBy('InvoiceNo', 'CustomerID').count().show()"
   ]
  },
  {
   "cell_type": "markdown",
   "id": "88db2d55",
   "metadata": {},
   "source": [
    "#### Grouping with Expressions  "
   ]
  },
  {
   "cell_type": "code",
   "execution_count": 94,
   "id": "b218e014",
   "metadata": {},
   "outputs": [
    {
     "name": "stdout",
     "output_type": "stream",
     "text": [
      "+---------+----+---------------+\n",
      "|InvoiceNo|quan|count(Quantity)|\n",
      "+---------+----+---------------+\n",
      "|   536532|  73|             73|\n",
      "|   536575|   8|              8|\n",
      "|   536521|   1|              1|\n",
      "|   536539|  27|             27|\n",
      "|   536595|  11|             11|\n",
      "|   536384|  13|             13|\n",
      "|   536545|   1|              1|\n",
      "|   536529|   9|              9|\n",
      "|   536385|   7|              7|\n",
      "|   536556|   8|              8|\n",
      "|   536370|  20|             20|\n",
      "|   536590|  14|             14|\n",
      "|   536502|   5|              5|\n",
      "|   536544| 527|            527|\n",
      "|   536375|  16|             16|\n",
      "|   536392|  10|             10|\n",
      "|   536393|   1|              1|\n",
      "|   536412|  81|             81|\n",
      "|   536591|  40|             40|\n",
      "|   536387|   5|              5|\n",
      "+---------+----+---------------+\n",
      "only showing top 20 rows\n"
     ]
    }
   ],
   "source": [
    "df.groupBy(\"InvoiceNo\").agg(\n",
    "    count(\"Quantity\").alias('quan'),\n",
    "    expr(\"count(Quantity)\")\n",
    ").show()"
   ]
  },
  {
   "cell_type": "markdown",
   "id": "cecd9e90",
   "metadata": {},
   "source": [
    "#### Grouping With Map"
   ]
  },
  {
   "cell_type": "code",
   "execution_count": 95,
   "id": "fa257896",
   "metadata": {},
   "outputs": [
    {
     "name": "stdout",
     "output_type": "stream",
     "text": [
      "+---------+------------------+--------------------+\n",
      "|InvoiceNo|     avg(Quantity)|stddev_pop(Quantity)|\n",
      "+---------+------------------+--------------------+\n",
      "|   536532| 25.36986301369863|  16.850272831671976|\n",
      "|   536575|            107.25|  62.609404245688204|\n",
      "|   536521|               1.0|                 0.0|\n",
      "|   536539| 5.925925925925926|   4.319858759058765|\n",
      "|   536595| 9.818181818181818|   17.07107165948599|\n",
      "|   536384|14.615384615384615|  15.750645708563392|\n",
      "|   536545|               1.0|                 0.0|\n",
      "|   536529| 4.222222222222222|   3.224137361899313|\n",
      "|   536385| 7.571428571428571|   4.271404682207444|\n",
      "|   536556|             8.875|   7.270445309607934|\n",
      "|   536370|             22.45|   8.935742834258381|\n",
      "|   536590| 5.285714285714286|   4.043134770881401|\n",
      "|   536502|               7.8|  5.3814496188294845|\n",
      "|   536544| 2.292220113851992|  3.2337751780564514|\n",
      "|   536375|               5.5|  1.5000000000000002|\n",
      "|   536392|              10.3|   6.450581369148055|\n",
      "|   536393|               8.0|                 0.0|\n",
      "|   536412|2.7160493827160495|  3.1865247446361735|\n",
      "|   536591|             2.325|   4.366849550877611|\n",
      "|   536387|             288.0|  117.57550765359255|\n",
      "+---------+------------------+--------------------+\n",
      "only showing top 20 rows\n"
     ]
    }
   ],
   "source": [
    "df.groupBy(\"InvoiceNo\").agg(expr(\"avg(Quantity)\"), expr('stddev_pop(Quantity)')).show()"
   ]
  },
  {
   "cell_type": "markdown",
   "id": "cea1569d",
   "metadata": {},
   "source": [
    "### Window Functions"
   ]
  },
  {
   "cell_type": "code",
   "execution_count": 96,
   "id": "2951a80d",
   "metadata": {},
   "outputs": [
    {
     "name": "stdout",
     "output_type": "stream",
     "text": [
      "+---------+---------+--------------------+--------+-------------------+---------+----------+--------------+----------+\n",
      "|InvoiceNo|StockCode|         Description|Quantity|        InvoiceDate|UnitPrice|CustomerID|       Country|      Date|\n",
      "+---------+---------+--------------------+--------+-------------------+---------+----------+--------------+----------+\n",
      "|   536365|   85123A|WHITE HANGING HEA...|       6|2010-12-01 08:26:00|     2.55|   17850.0|United Kingdom|2010-12-01|\n",
      "|   536365|    71053| WHITE METAL LANTERN|       6|2010-12-01 08:26:00|     3.39|   17850.0|United Kingdom|2010-12-01|\n",
      "|   536365|   84406B|CREAM CUPID HEART...|       8|2010-12-01 08:26:00|     2.75|   17850.0|United Kingdom|2010-12-01|\n",
      "|   536365|   84029G|KNITTED UNION FLA...|       6|2010-12-01 08:26:00|     3.39|   17850.0|United Kingdom|2010-12-01|\n",
      "|   536365|   84029E|RED WOOLLY HOTTIE...|       6|2010-12-01 08:26:00|     3.39|   17850.0|United Kingdom|2010-12-01|\n",
      "|   536365|    22752|SET 7 BABUSHKA NE...|       2|2010-12-01 08:26:00|     7.65|   17850.0|United Kingdom|2010-12-01|\n",
      "|   536365|    21730|GLASS STAR FROSTE...|       6|2010-12-01 08:26:00|     4.25|   17850.0|United Kingdom|2010-12-01|\n",
      "|   536366|    22633|HAND WARMER UNION...|       6|2010-12-01 08:28:00|     1.85|   17850.0|United Kingdom|2010-12-01|\n",
      "|   536366|    22632|HAND WARMER RED P...|       6|2010-12-01 08:28:00|     1.85|   17850.0|United Kingdom|2010-12-01|\n",
      "|   536367|    84879|ASSORTED COLOUR B...|      32|2010-12-01 08:34:00|     1.69|   13047.0|United Kingdom|2010-12-01|\n",
      "|   536367|    22745|POPPY'S PLAYHOUSE...|       6|2010-12-01 08:34:00|      2.1|   13047.0|United Kingdom|2010-12-01|\n",
      "|   536367|    22748|POPPY'S PLAYHOUSE...|       6|2010-12-01 08:34:00|      2.1|   13047.0|United Kingdom|2010-12-01|\n",
      "|   536367|    22749|FELTCRAFT PRINCES...|       8|2010-12-01 08:34:00|     3.75|   13047.0|United Kingdom|2010-12-01|\n",
      "|   536367|    22310|IVORY KNITTED MUG...|       6|2010-12-01 08:34:00|     1.65|   13047.0|United Kingdom|2010-12-01|\n",
      "|   536367|    84969|BOX OF 6 ASSORTED...|       6|2010-12-01 08:34:00|     4.25|   13047.0|United Kingdom|2010-12-01|\n",
      "|   536367|    22623|BOX OF VINTAGE JI...|       3|2010-12-01 08:34:00|     4.95|   13047.0|United Kingdom|2010-12-01|\n",
      "|   536367|    22622|BOX OF VINTAGE AL...|       2|2010-12-01 08:34:00|     9.95|   13047.0|United Kingdom|2010-12-01|\n",
      "|   536367|    21754|HOME BUILDING BLO...|       3|2010-12-01 08:34:00|     5.95|   13047.0|United Kingdom|2010-12-01|\n",
      "|   536367|    21755|LOVE BUILDING BLO...|       3|2010-12-01 08:34:00|     5.95|   13047.0|United Kingdom|2010-12-01|\n",
      "|   536367|    21777|RECIPE BOX WITH M...|       4|2010-12-01 08:34:00|     7.95|   13047.0|United Kingdom|2010-12-01|\n",
      "+---------+---------+--------------------+--------+-------------------+---------+----------+--------------+----------+\n",
      "only showing top 20 rows\n"
     ]
    }
   ],
   "source": [
    "dfWithDate = df.withColumn(\"Date\", to_date(col(\"InvoiceDate\"), \"MM/dd/yyyy H:mm\"))\n",
    "dfWithDate.createOrReplaceTempView(\"dfWithDate\")\n",
    "dfWithDate.show()"
   ]
  },
  {
   "cell_type": "code",
   "execution_count": 97,
   "id": "d1ac4725",
   "metadata": {},
   "outputs": [
    {
     "name": "stdout",
     "output_type": "stream",
     "text": [
      "root\n",
      " |-- InvoiceNo: integer (nullable = true)\n",
      " |-- StockCode: string (nullable = true)\n",
      " |-- Description: string (nullable = true)\n",
      " |-- Quantity: integer (nullable = true)\n",
      " |-- InvoiceDate: timestamp (nullable = true)\n",
      " |-- UnitPrice: double (nullable = true)\n",
      " |-- CustomerID: string (nullable = true)\n",
      " |-- Country: string (nullable = true)\n",
      " |-- Date: date (nullable = true)\n",
      "\n"
     ]
    }
   ],
   "source": [
    "dfWithDate.printSchema()"
   ]
  },
  {
   "cell_type": "code",
   "execution_count": 98,
   "id": "7d83aa2a",
   "metadata": {},
   "outputs": [],
   "source": [
    "windowSpace = Window.partitionBy(\"CustomerID\", \"date\").orderBy(desc(\"Quantity\")).rowsBetween(Window.unboundedPreceding, Window.currentRow)\n"
   ]
  },
  {
   "cell_type": "code",
   "execution_count": 99,
   "id": "2f0253df",
   "metadata": {},
   "outputs": [],
   "source": [
    "\n",
    "maxPurchesQuentity = max(col(\"Quantity\")).over(windowSpace)\n",
    "purcheRank = rank().over(windowSpace)\n",
    "purcheDenseRank = dense_rank().over(windowSpace)\n"
   ]
  },
  {
   "cell_type": "code",
   "execution_count": 100,
   "id": "4d6b005e",
   "metadata": {},
   "outputs": [
    {
     "name": "stdout",
     "output_type": "stream",
     "text": [
      "+----------+----------+--------+-----------------+------------+-------------------+\n",
      "|CustomerID|      date|Quantity|QuantityDenseRank|QuantityRank|MaxPurchaseQuentity|\n",
      "+----------+----------+--------+-----------------+------------+-------------------+\n",
      "|   12431.0|2010-12-01|      24|                1|           1|                 24|\n",
      "|   12431.0|2010-12-01|      24|                1|           1|                 24|\n",
      "|   12431.0|2010-12-01|      12|                2|           3|                 24|\n",
      "|   12431.0|2010-12-01|       8|                3|           4|                 24|\n",
      "|   12431.0|2010-12-01|       6|                4|           5|                 24|\n",
      "|   12431.0|2010-12-01|       6|                4|           5|                 24|\n",
      "|   12431.0|2010-12-01|       6|                4|           5|                 24|\n",
      "|   12431.0|2010-12-01|       4|                5|           8|                 24|\n",
      "|   12431.0|2010-12-01|       4|                5|           8|                 24|\n",
      "|   12431.0|2010-12-01|       4|                5|           8|                 24|\n",
      "|   12431.0|2010-12-01|       3|                6|          11|                 24|\n",
      "|   12431.0|2010-12-01|       2|                7|          12|                 24|\n",
      "|   12431.0|2010-12-01|       2|                7|          12|                 24|\n",
      "|   12431.0|2010-12-01|       2|                7|          12|                 24|\n",
      "|   12433.0|2010-12-01|      96|                1|           1|                 96|\n",
      "|   12433.0|2010-12-01|      72|                2|           2|                 96|\n",
      "|   12433.0|2010-12-01|      72|                2|           2|                 96|\n",
      "|   12433.0|2010-12-01|      50|                3|           4|                 96|\n",
      "|   12433.0|2010-12-01|      48|                4|           5|                 96|\n",
      "|   12433.0|2010-12-01|      48|                4|           5|                 96|\n",
      "+----------+----------+--------+-----------------+------------+-------------------+\n",
      "only showing top 20 rows\n"
     ]
    }
   ],
   "source": [
    "dfWithDate.where(\"CustomerID IS NOT NULL\").orderBy(\"CustomerID\")\\\n",
    ".select(\n",
    "    col(\"CustomerID\"),\n",
    "    col(\"date\"),\n",
    "    col(\"Quantity\"),\n",
    "    purcheDenseRank.alias('QuantityDenseRank'),\n",
    "    purcheRank.alias(\"QuantityRank\"),\n",
    "    maxPurchesQuentity.alias(\"MaxPurchaseQuentity\")\n",
    ").show()"
   ]
  },
  {
   "cell_type": "code",
   "execution_count": 101,
   "id": "afbfbb14",
   "metadata": {},
   "outputs": [
    {
     "name": "stdout",
     "output_type": "stream",
     "text": [
      "+---------+---------+--------------------+--------+-------------------+---------+----------+--------------+\n",
      "|InvoiceNo|StockCode|         Description|Quantity|        InvoiceDate|UnitPrice|CustomerID|       Country|\n",
      "+---------+---------+--------------------+--------+-------------------+---------+----------+--------------+\n",
      "|     NULL|        D|            Discount|      -1|2010-12-01 09:41:00|     27.5|   14527.0|United Kingdom|\n",
      "|     NULL|   35004C|SET OF 3 COLOURED...|      -1|2010-12-01 09:49:00|     4.65|   15311.0|United Kingdom|\n",
      "|     NULL|    22556|PLASTERS IN TIN C...|     -12|2010-12-01 10:24:00|     1.65|   17548.0|United Kingdom|\n",
      "|     NULL|    21984|PACK OF 12 PINK P...|     -24|2010-12-01 10:24:00|     0.29|   17548.0|United Kingdom|\n",
      "|     NULL|    21983|PACK OF 12 BLUE P...|     -24|2010-12-01 10:24:00|     0.29|   17548.0|United Kingdom|\n",
      "|     NULL|    21980|PACK OF 12 RED RE...|     -24|2010-12-01 10:24:00|     0.29|   17548.0|United Kingdom|\n",
      "|     NULL|    21484|CHICK GREY HOT WA...|     -12|2010-12-01 10:24:00|     3.45|   17548.0|United Kingdom|\n",
      "|     NULL|    22557|PLASTERS IN TIN V...|     -12|2010-12-01 10:24:00|     1.65|   17548.0|United Kingdom|\n",
      "|     NULL|    22553|PLASTERS IN TIN S...|     -24|2010-12-01 10:24:00|     1.65|   17548.0|United Kingdom|\n",
      "|   536414|    22139|                NULL|      56|2010-12-01 11:52:00|      0.0|      NULL|United Kingdom|\n",
      "|     NULL|    22960|JAM MAKING SET WI...|      -6|2010-12-01 12:38:00|     4.25|   17897.0|United Kingdom|\n",
      "|     NULL|    22632|HAND WARMER RED R...|      -1|2010-12-01 14:30:00|      2.1|   17841.0|United Kingdom|\n",
      "|     NULL|    22355|CHARLOTTE BAG SUK...|      -2|2010-12-01 14:30:00|     0.85|   17841.0|United Kingdom|\n",
      "|   536544|    21773|DECORATIVE ROSE B...|       1|2010-12-01 14:32:00|     2.51|      NULL|United Kingdom|\n",
      "|   536544|    21774|DECORATIVE CATS B...|       2|2010-12-01 14:32:00|     2.51|      NULL|United Kingdom|\n",
      "|   536544|    21786|  POLKADOT RAIN HAT |       4|2010-12-01 14:32:00|     0.85|      NULL|United Kingdom|\n",
      "|   536544|    21787|RAIN PONCHO RETRO...|       2|2010-12-01 14:32:00|     1.66|      NULL|United Kingdom|\n",
      "|   536544|    21790|  VINTAGE SNAP CARDS|       9|2010-12-01 14:32:00|     1.66|      NULL|United Kingdom|\n",
      "|   536544|    21791|VINTAGE HEADS AND...|       2|2010-12-01 14:32:00|     2.51|      NULL|United Kingdom|\n",
      "|   536544|    21801|CHRISTMAS TREE DE...|      10|2010-12-01 14:32:00|     0.43|      NULL|United Kingdom|\n",
      "+---------+---------+--------------------+--------+-------------------+---------+----------+--------------+\n",
      "only showing top 20 rows\n"
     ]
    },
    {
     "data": {
      "text/plain": [
       "1166"
      ]
     },
     "execution_count": 101,
     "metadata": {},
     "output_type": "execute_result"
    }
   ],
   "source": [
    "from functools import reduce\n",
    "#List of all column\n",
    "columns = df.columns\n",
    "\n",
    "# Filter rows where all columns are null\n",
    "null_rows_df = df.filter(\n",
    "    reduce(lambda x, y: x | y, [col(c).isNull() for c in columns])\n",
    ")\n",
    "\n",
    "null_rows_df.show()\n",
    "null_rows_df.count()\n"
   ]
  },
  {
   "cell_type": "markdown",
   "id": "6edc965f",
   "metadata": {},
   "source": [
    "#### Grouping Sets"
   ]
  },
  {
   "cell_type": "code",
   "execution_count": 102,
   "id": "f8433338",
   "metadata": {},
   "outputs": [],
   "source": [
    "dfNoNull = dfWithDate.drop()\n",
    "dfNoNull.createOrReplaceTempView(\"dfNoNull\")"
   ]
  },
  {
   "cell_type": "code",
   "execution_count": 103,
   "id": "e76df309",
   "metadata": {},
   "outputs": [
    {
     "name": "stdout",
     "output_type": "stream",
     "text": [
      "+---------+---------+--------------------+--------+-------------------+---------+----------+--------------+----------+\n",
      "|InvoiceNo|StockCode|         Description|Quantity|        InvoiceDate|UnitPrice|CustomerID|       Country|      Date|\n",
      "+---------+---------+--------------------+--------+-------------------+---------+----------+--------------+----------+\n",
      "|   536365|   85123A|WHITE HANGING HEA...|       6|2010-12-01 08:26:00|     2.55|   17850.0|United Kingdom|2010-12-01|\n",
      "|   536365|    71053| WHITE METAL LANTERN|       6|2010-12-01 08:26:00|     3.39|   17850.0|United Kingdom|2010-12-01|\n",
      "|   536365|   84406B|CREAM CUPID HEART...|       8|2010-12-01 08:26:00|     2.75|   17850.0|United Kingdom|2010-12-01|\n",
      "|   536365|   84029G|KNITTED UNION FLA...|       6|2010-12-01 08:26:00|     3.39|   17850.0|United Kingdom|2010-12-01|\n",
      "|   536365|   84029E|RED WOOLLY HOTTIE...|       6|2010-12-01 08:26:00|     3.39|   17850.0|United Kingdom|2010-12-01|\n",
      "|   536365|    22752|SET 7 BABUSHKA NE...|       2|2010-12-01 08:26:00|     7.65|   17850.0|United Kingdom|2010-12-01|\n",
      "|   536365|    21730|GLASS STAR FROSTE...|       6|2010-12-01 08:26:00|     4.25|   17850.0|United Kingdom|2010-12-01|\n",
      "|   536366|    22633|HAND WARMER UNION...|       6|2010-12-01 08:28:00|     1.85|   17850.0|United Kingdom|2010-12-01|\n",
      "|   536366|    22632|HAND WARMER RED P...|       6|2010-12-01 08:28:00|     1.85|   17850.0|United Kingdom|2010-12-01|\n",
      "|   536367|    84879|ASSORTED COLOUR B...|      32|2010-12-01 08:34:00|     1.69|   13047.0|United Kingdom|2010-12-01|\n",
      "|   536367|    22745|POPPY'S PLAYHOUSE...|       6|2010-12-01 08:34:00|      2.1|   13047.0|United Kingdom|2010-12-01|\n",
      "|   536367|    22748|POPPY'S PLAYHOUSE...|       6|2010-12-01 08:34:00|      2.1|   13047.0|United Kingdom|2010-12-01|\n",
      "|   536367|    22749|FELTCRAFT PRINCES...|       8|2010-12-01 08:34:00|     3.75|   13047.0|United Kingdom|2010-12-01|\n",
      "|   536367|    22310|IVORY KNITTED MUG...|       6|2010-12-01 08:34:00|     1.65|   13047.0|United Kingdom|2010-12-01|\n",
      "|   536367|    84969|BOX OF 6 ASSORTED...|       6|2010-12-01 08:34:00|     4.25|   13047.0|United Kingdom|2010-12-01|\n",
      "|   536367|    22623|BOX OF VINTAGE JI...|       3|2010-12-01 08:34:00|     4.95|   13047.0|United Kingdom|2010-12-01|\n",
      "|   536367|    22622|BOX OF VINTAGE AL...|       2|2010-12-01 08:34:00|     9.95|   13047.0|United Kingdom|2010-12-01|\n",
      "|   536367|    21754|HOME BUILDING BLO...|       3|2010-12-01 08:34:00|     5.95|   13047.0|United Kingdom|2010-12-01|\n",
      "|   536367|    21755|LOVE BUILDING BLO...|       3|2010-12-01 08:34:00|     5.95|   13047.0|United Kingdom|2010-12-01|\n",
      "|   536367|    21777|RECIPE BOX WITH M...|       4|2010-12-01 08:34:00|     7.95|   13047.0|United Kingdom|2010-12-01|\n",
      "+---------+---------+--------------------+--------+-------------------+---------+----------+--------------+----------+\n",
      "only showing top 20 rows\n"
     ]
    }
   ],
   "source": [
    "dfNoNull.show()"
   ]
  },
  {
   "cell_type": "markdown",
   "id": "92b1e86c",
   "metadata": {},
   "source": [
    "#### Rollups"
   ]
  },
  {
   "cell_type": "code",
   "execution_count": 104,
   "id": "9fc45ee7",
   "metadata": {},
   "outputs": [
    {
     "name": "stdout",
     "output_type": "stream",
     "text": [
      "+----------+--------------+--------------+\n",
      "|      Date|       Country|total_quantity|\n",
      "+----------+--------------+--------------+\n",
      "|      NULL|          NULL|         26814|\n",
      "|2010-12-01|     Australia|           107|\n",
      "|2010-12-01|United Kingdom|         23949|\n",
      "|2010-12-01|        France|           449|\n",
      "|2010-12-01|          NULL|         26814|\n",
      "|2010-12-01|        Norway|          1852|\n",
      "|2010-12-01|       Germany|           117|\n",
      "|2010-12-01|          EIRE|           243|\n",
      "|2010-12-01|   Netherlands|            97|\n",
      "+----------+--------------+--------------+\n",
      "\n"
     ]
    }
   ],
   "source": [
    "rollUpDf = dfNoNull.rollup(\"Date\", \"Country\").agg(sum(\"Quantity\").alias(\"total_quantity\")).orderBy(\"Date\")\n",
    "rollUpDf.show()"
   ]
  },
  {
   "cell_type": "markdown",
   "id": "646ba7e1",
   "metadata": {},
   "source": [
    "#### Cube"
   ]
  },
  {
   "cell_type": "code",
   "execution_count": 107,
   "id": "4cb8883d",
   "metadata": {},
   "outputs": [
    {
     "name": "stdout",
     "output_type": "stream",
     "text": [
      "+----------+--------------+--------------+\n",
      "|      date|       Country|total_quantity|\n",
      "+----------+--------------+--------------+\n",
      "|      NULL|       Germany|           117|\n",
      "|      NULL|        France|           449|\n",
      "|      NULL|United Kingdom|         23949|\n",
      "|      NULL|          NULL|         26814|\n",
      "|      NULL|     Australia|           107|\n",
      "|      NULL|        Norway|          1852|\n",
      "|      NULL|          EIRE|           243|\n",
      "|      NULL|   Netherlands|            97|\n",
      "|2010-12-01|     Australia|           107|\n",
      "|2010-12-01|United Kingdom|         23949|\n",
      "|2010-12-01|        France|           449|\n",
      "|2010-12-01|          NULL|         26814|\n",
      "|2010-12-01|        Norway|          1852|\n",
      "|2010-12-01|       Germany|           117|\n",
      "|2010-12-01|          EIRE|           243|\n",
      "|2010-12-01|   Netherlands|            97|\n",
      "+----------+--------------+--------------+\n",
      "\n"
     ]
    }
   ],
   "source": [
    "dfNoNull.cube(\"date\", \"Country\") \\\n",
    "    .agg(sum(col(\"Quantity\")).alias(\"total_quantity\")) \\\n",
    "    .select(\"date\", \"Country\", \"total_quantity\") \\\n",
    "    .orderBy(\"date\") \\\n",
    "    .show()"
   ]
  },
  {
   "cell_type": "markdown",
   "id": "9f99f402",
   "metadata": {},
   "source": [
    "#### Pivot"
   ]
  },
  {
   "cell_type": "code",
   "execution_count": 113,
   "id": "3b5ff970",
   "metadata": {},
   "outputs": [
    {
     "name": "stdout",
     "output_type": "stream",
     "text": [
      "+----------+------------------------+-----------------------+------------------------+-------------------+------------------+-------------------+---------------------+--------------------+---------------------+----------------------+---------------------+----------------------+--------------------------+-------------------------+--------------------------+---------------------+--------------------+---------------------+-----------------------------+----------------------------+-----------------------------+\n",
      "|      Date|Australia_sum(InvoiceNo)|Australia_sum(Quantity)|Australia_sum(UnitPrice)|EIRE_sum(InvoiceNo)|EIRE_sum(Quantity)|EIRE_sum(UnitPrice)|France_sum(InvoiceNo)|France_sum(Quantity)|France_sum(UnitPrice)|Germany_sum(InvoiceNo)|Germany_sum(Quantity)|Germany_sum(UnitPrice)|Netherlands_sum(InvoiceNo)|Netherlands_sum(Quantity)|Netherlands_sum(UnitPrice)|Norway_sum(InvoiceNo)|Norway_sum(Quantity)|Norway_sum(UnitPrice)|United Kingdom_sum(InvoiceNo)|United Kingdom_sum(Quantity)|United Kingdom_sum(UnitPrice)|\n",
      "+----------+------------------------+-----------------------+------------------------+-------------------+------------------+-------------------+---------------------+--------------------+---------------------+----------------------+---------------------+----------------------+--------------------------+-------------------------+--------------------------+---------------------+--------------------+---------------------+-----------------------------+----------------------------+-----------------------------+\n",
      "|2010-12-01|                 7509446|                    107|                    73.9|           11267341|               243| 133.64000000000001|             10727400|                 449|                55.29|               8047905|                  117|     93.82000000000002|                   1072806|                       97|                     16.85|             39166836|                1852|               102.67|                   1575752689|                       23949|           12428.080000000024|\n",
      "+----------+------------------------+-----------------------+------------------------+-------------------+------------------+-------------------+---------------------+--------------------+---------------------+----------------------+---------------------+----------------------+--------------------------+-------------------------+--------------------------+---------------------+--------------------+---------------------+-----------------------------+----------------------------+-----------------------------+\n",
      "\n"
     ]
    }
   ],
   "source": [
    "pivotedDf = dfWithDate.groupBy(\"Date\").pivot(\"Country\").sum()\n",
    "pivotedDf.show()\n"
   ]
  },
  {
   "cell_type": "code",
   "execution_count": null,
   "id": "c2f7c120",
   "metadata": {},
   "outputs": [],
   "source": [
    " "
   ]
  }
 ],
 "metadata": {
  "kernelspec": {
   "display_name": "Python 3",
   "language": "python",
   "name": "python3"
  },
  "language_info": {
   "codemirror_mode": {
    "name": "ipython",
    "version": 3
   },
   "file_extension": ".py",
   "mimetype": "text/x-python",
   "name": "python",
   "nbconvert_exporter": "python",
   "pygments_lexer": "ipython3",
   "version": "3.12.10"
  }
 },
 "nbformat": 4,
 "nbformat_minor": 5
}
